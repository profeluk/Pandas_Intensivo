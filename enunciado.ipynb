{
 "cells": [
  {
   "cell_type": "markdown",
   "metadata": {},
   "source": [
    "# EJERCICIO DEL INTENSIVO "
   ]
  },
  {
   "cell_type": "markdown",
   "metadata": {},
   "source": [
    "# LAS SIGUIENTES CELDAS SOLO TIENES QUE EJECUTARLAS, NO TOQUES NADA Y FUNCIONARÁ CORRECTAMENTE. "
   ]
  },
  {
   "cell_type": "markdown",
   "metadata": {},
   "source": [
    "# ⚠️Ejecuta esta celda  y se te creará un fichero .csv⚠️"
   ]
  },
  {
   "cell_type": "code",
   "execution_count": 2,
   "metadata": {},
   "outputs": [],
   "source": [
    "import pandas as pd\n",
    "import numpy as np\n",
    "\n",
    "# Configuración para la generación de datos simulados\n",
    "n_teams = 20  # Número de equipos\n",
    "start_year = 1900\n",
    "current_year = 2020\n",
    "\n",
    "# Función para introducir NaN de forma aleatoria en una columna\n",
    "def add_nans(data, fraction=0.15):\n",
    "    # Selecciona aleatoriamente una fracción de las entradas para convertirlas en NaN\n",
    "    mask = np.random.rand(len(data)) < fraction\n",
    "    data = data.astype(object)  # Convertir a object para soportar NaN\n",
    "    data[mask] = np.nan\n",
    "    return data\n",
    "\n",
    "# Generar datos\n",
    "data = {\n",
    "    'Equipo': [f'Equipo_{i}' for i in range(n_teams)],\n",
    "    'Ciudad': add_nans(np.random.choice(['Ciudad A', 'Ciudad B', 'Ciudad C'], n_teams)),\n",
    "    'País': 'España',\n",
    "    'Fundación': np.random.randint(start_year, current_year, n_teams),\n",
    "    'Capacidad': np.random.randint(10000, 100000, n_teams),\n",
    "    'Entrenador': [f'Entrenador_{i}' for i in range(n_teams)],\n",
    "    'Puntos': np.random.randint(0, 100, n_teams),\n",
    "    'Goles_Favor': np.random.randint(20, 100, n_teams),\n",
    "    'Goles_Contra': np.random.randint(20, 100, n_teams),\n",
    "    'Posición': np.random.randint(1, n_teams + 1, n_teams),\n",
    "    'Títulos_Liga': np.random.randint(0, 20, n_teams),\n",
    "    'Títulos_Internacionales': np.random.randint(0, 10, n_teams),\n",
    "    'Valor': np.random.uniform(50, 700, n_teams).round(2),\n",
    "    'Presupuesto': np.random.uniform(10, 200, n_teams).round(2),\n",
    "    'Gastos_Fichajes': np.random.uniform(1, 100, n_teams).round(2),\n",
    "    'Ingresos_Ventas': add_nans(np.random.uniform(1, 50, n_teams).round(2)),\n",
    "    'Número_Socios': add_nans(np.random.randint(1000, 100000, n_teams)),\n",
    "    'Jugador_Estrella': [f'Jugador_{i}' for i in range(n_teams)],\n",
    "    'Racha': np.random.choice(['Ganando', 'Perdiendo', 'Empatando'], n_teams),\n",
    "    #'Capitán': add_nans([f'Capitán_{i}' for i in range(n_teams)])\n",
    "}\n",
    "\n",
    "# Crear DataFrame\n",
    "df = pd.DataFrame(data)\n",
    "\n",
    "# Mostrar las primeras filas del DataFrame\n",
    "\n",
    "\n",
    "# Guardar en un archivo CSV\n",
    "df.to_csv('equipos_futbol.csv', index=False)\n"
   ]
  },
  {
   "cell_type": "markdown",
   "metadata": {},
   "source": [
    "# ⚠️No toques esto⚠️"
   ]
  },
  {
   "cell_type": "code",
   "execution_count": 3,
   "metadata": {},
   "outputs": [],
   "source": [
    "def init_parte1():\n",
    "    df = pd.read_csv(\"equipos_futbol.csv\", sep = \",\")\n",
    "    return df\n",
    "    "
   ]
  },
  {
   "cell_type": "markdown",
   "metadata": {},
   "source": [
    "# ⚠️Ejecuta esta celda y se te cargará el dframe⚠️"
   ]
  },
  {
   "cell_type": "code",
   "execution_count": 4,
   "metadata": {},
   "outputs": [
    {
     "data": {
      "text/html": [
       "<div>\n",
       "<style scoped>\n",
       "    .dataframe tbody tr th:only-of-type {\n",
       "        vertical-align: middle;\n",
       "    }\n",
       "\n",
       "    .dataframe tbody tr th {\n",
       "        vertical-align: top;\n",
       "    }\n",
       "\n",
       "    .dataframe thead th {\n",
       "        text-align: right;\n",
       "    }\n",
       "</style>\n",
       "<table border=\"1\" class=\"dataframe\">\n",
       "  <thead>\n",
       "    <tr style=\"text-align: right;\">\n",
       "      <th></th>\n",
       "      <th>Equipo</th>\n",
       "      <th>Ciudad</th>\n",
       "      <th>País</th>\n",
       "      <th>Fundación</th>\n",
       "      <th>Capacidad</th>\n",
       "      <th>Entrenador</th>\n",
       "      <th>Puntos</th>\n",
       "      <th>Goles_Favor</th>\n",
       "      <th>Goles_Contra</th>\n",
       "      <th>Posición</th>\n",
       "      <th>Títulos_Liga</th>\n",
       "      <th>Títulos_Internacionales</th>\n",
       "      <th>Valor</th>\n",
       "      <th>Presupuesto</th>\n",
       "      <th>Gastos_Fichajes</th>\n",
       "      <th>Ingresos_Ventas</th>\n",
       "      <th>Número_Socios</th>\n",
       "      <th>Jugador_Estrella</th>\n",
       "      <th>Racha</th>\n",
       "    </tr>\n",
       "  </thead>\n",
       "  <tbody>\n",
       "    <tr>\n",
       "      <th>0</th>\n",
       "      <td>Equipo_0</td>\n",
       "      <td>Ciudad C</td>\n",
       "      <td>España</td>\n",
       "      <td>2015</td>\n",
       "      <td>90586</td>\n",
       "      <td>Entrenador_0</td>\n",
       "      <td>12</td>\n",
       "      <td>54</td>\n",
       "      <td>30</td>\n",
       "      <td>5</td>\n",
       "      <td>2</td>\n",
       "      <td>5</td>\n",
       "      <td>223.80</td>\n",
       "      <td>137.36</td>\n",
       "      <td>51.10</td>\n",
       "      <td>NaN</td>\n",
       "      <td>85792.0</td>\n",
       "      <td>Jugador_0</td>\n",
       "      <td>Perdiendo</td>\n",
       "    </tr>\n",
       "    <tr>\n",
       "      <th>1</th>\n",
       "      <td>Equipo_1</td>\n",
       "      <td>Ciudad C</td>\n",
       "      <td>España</td>\n",
       "      <td>1910</td>\n",
       "      <td>76433</td>\n",
       "      <td>Entrenador_1</td>\n",
       "      <td>57</td>\n",
       "      <td>47</td>\n",
       "      <td>48</td>\n",
       "      <td>17</td>\n",
       "      <td>12</td>\n",
       "      <td>1</td>\n",
       "      <td>666.56</td>\n",
       "      <td>112.20</td>\n",
       "      <td>7.99</td>\n",
       "      <td>4.14</td>\n",
       "      <td>75391.0</td>\n",
       "      <td>Jugador_1</td>\n",
       "      <td>Ganando</td>\n",
       "    </tr>\n",
       "    <tr>\n",
       "      <th>2</th>\n",
       "      <td>Equipo_2</td>\n",
       "      <td>Ciudad A</td>\n",
       "      <td>España</td>\n",
       "      <td>1900</td>\n",
       "      <td>63763</td>\n",
       "      <td>Entrenador_2</td>\n",
       "      <td>52</td>\n",
       "      <td>36</td>\n",
       "      <td>94</td>\n",
       "      <td>4</td>\n",
       "      <td>19</td>\n",
       "      <td>9</td>\n",
       "      <td>388.87</td>\n",
       "      <td>188.29</td>\n",
       "      <td>25.75</td>\n",
       "      <td>31.08</td>\n",
       "      <td>29529.0</td>\n",
       "      <td>Jugador_2</td>\n",
       "      <td>Ganando</td>\n",
       "    </tr>\n",
       "    <tr>\n",
       "      <th>3</th>\n",
       "      <td>Equipo_3</td>\n",
       "      <td>Ciudad C</td>\n",
       "      <td>España</td>\n",
       "      <td>2013</td>\n",
       "      <td>56298</td>\n",
       "      <td>Entrenador_3</td>\n",
       "      <td>85</td>\n",
       "      <td>56</td>\n",
       "      <td>30</td>\n",
       "      <td>19</td>\n",
       "      <td>19</td>\n",
       "      <td>4</td>\n",
       "      <td>504.62</td>\n",
       "      <td>33.41</td>\n",
       "      <td>2.68</td>\n",
       "      <td>23.32</td>\n",
       "      <td>NaN</td>\n",
       "      <td>Jugador_3</td>\n",
       "      <td>Perdiendo</td>\n",
       "    </tr>\n",
       "    <tr>\n",
       "      <th>4</th>\n",
       "      <td>Equipo_4</td>\n",
       "      <td>Ciudad C</td>\n",
       "      <td>España</td>\n",
       "      <td>2009</td>\n",
       "      <td>25919</td>\n",
       "      <td>Entrenador_4</td>\n",
       "      <td>69</td>\n",
       "      <td>59</td>\n",
       "      <td>95</td>\n",
       "      <td>14</td>\n",
       "      <td>0</td>\n",
       "      <td>8</td>\n",
       "      <td>601.49</td>\n",
       "      <td>177.44</td>\n",
       "      <td>87.64</td>\n",
       "      <td>25.26</td>\n",
       "      <td>18039.0</td>\n",
       "      <td>Jugador_4</td>\n",
       "      <td>Ganando</td>\n",
       "    </tr>\n",
       "  </tbody>\n",
       "</table>\n",
       "</div>"
      ],
      "text/plain": [
       "     Equipo    Ciudad    País  Fundación  Capacidad    Entrenador  Puntos  \\\n",
       "0  Equipo_0  Ciudad C  España       2015      90586  Entrenador_0      12   \n",
       "1  Equipo_1  Ciudad C  España       1910      76433  Entrenador_1      57   \n",
       "2  Equipo_2  Ciudad A  España       1900      63763  Entrenador_2      52   \n",
       "3  Equipo_3  Ciudad C  España       2013      56298  Entrenador_3      85   \n",
       "4  Equipo_4  Ciudad C  España       2009      25919  Entrenador_4      69   \n",
       "\n",
       "   Goles_Favor  Goles_Contra  Posición  Títulos_Liga  Títulos_Internacionales  \\\n",
       "0           54            30         5             2                        5   \n",
       "1           47            48        17            12                        1   \n",
       "2           36            94         4            19                        9   \n",
       "3           56            30        19            19                        4   \n",
       "4           59            95        14             0                        8   \n",
       "\n",
       "    Valor  Presupuesto  Gastos_Fichajes  Ingresos_Ventas  Número_Socios  \\\n",
       "0  223.80       137.36            51.10              NaN        85792.0   \n",
       "1  666.56       112.20             7.99             4.14        75391.0   \n",
       "2  388.87       188.29            25.75            31.08        29529.0   \n",
       "3  504.62        33.41             2.68            23.32            NaN   \n",
       "4  601.49       177.44            87.64            25.26        18039.0   \n",
       "\n",
       "  Jugador_Estrella      Racha  \n",
       "0        Jugador_0  Perdiendo  \n",
       "1        Jugador_1    Ganando  \n",
       "2        Jugador_2    Ganando  \n",
       "3        Jugador_3  Perdiendo  \n",
       "4        Jugador_4    Ganando  "
      ]
     },
     "execution_count": 4,
     "metadata": {},
     "output_type": "execute_result"
    }
   ],
   "source": [
    "import pandas as pd\n",
    "df = init_parte1()\n",
    "df.head()"
   ]
  },
  {
   "cell_type": "markdown",
   "metadata": {},
   "source": [
    "### Muestra las primeras 10 y ultimas 10 filas del df y obten un resumen estadístico. "
   ]
  },
  {
   "cell_type": "code",
   "execution_count": 5,
   "metadata": {},
   "outputs": [],
   "source": [
    "# tu respuesta"
   ]
  },
  {
   "cell_type": "markdown",
   "metadata": {},
   "source": [
    "### Establece la columna equipo como indices del df, después, elimina esa columna. "
   ]
  },
  {
   "cell_type": "code",
   "execution_count": 6,
   "metadata": {},
   "outputs": [],
   "source": [
    "# Tu respuesta"
   ]
  },
  {
   "cell_type": "markdown",
   "metadata": {},
   "source": [
    "### Muestra las dimensiones del df, muestra sus columnas, y los tipo de dato de sus columnas"
   ]
  },
  {
   "cell_type": "code",
   "execution_count": 7,
   "metadata": {},
   "outputs": [],
   "source": [
    "## Tu respuesta"
   ]
  },
  {
   "cell_type": "markdown",
   "metadata": {},
   "source": [
    "### Muestra el número de puntos del equipo_0 usando el método loc. "
   ]
  },
  {
   "cell_type": "code",
   "execution_count": 8,
   "metadata": {},
   "outputs": [],
   "source": [
    "### Tu respuesta"
   ]
  },
  {
   "cell_type": "markdown",
   "metadata": {},
   "source": [
    "# ✏️NULOS✏️"
   ]
  },
  {
   "cell_type": "markdown",
   "metadata": {},
   "source": [
    "- Buscar valores nulos y sustituirlos por valores por defecto.\n",
    "- Ingresos por ventas lo sustituiremos por media, numero de socios igual y ciudad por madrid."
   ]
  },
  {
   "cell_type": "markdown",
   "metadata": {},
   "source": [
    "### Para ver valores nulos, siempre hacemos esto!!!"
   ]
  },
  {
   "cell_type": "code",
   "execution_count": 9,
   "metadata": {},
   "outputs": [
    {
     "data": {
      "text/plain": [
       "Equipo                     0\n",
       "Ciudad                     2\n",
       "País                       0\n",
       "Fundación                  0\n",
       "Capacidad                  0\n",
       "Entrenador                 0\n",
       "Puntos                     0\n",
       "Goles_Favor                0\n",
       "Goles_Contra               0\n",
       "Posición                   0\n",
       "Títulos_Liga               0\n",
       "Títulos_Internacionales    0\n",
       "Valor                      0\n",
       "Presupuesto                0\n",
       "Gastos_Fichajes            0\n",
       "Ingresos_Ventas            2\n",
       "Número_Socios              2\n",
       "Jugador_Estrella           0\n",
       "Racha                      0\n",
       "dtype: int64"
      ]
     },
     "execution_count": 9,
     "metadata": {},
     "output_type": "execute_result"
    }
   ],
   "source": [
    "df.isna().sum()"
   ]
  },
  {
   "cell_type": "markdown",
   "metadata": {},
   "source": [
    "### Crea un diccionario con los valores por defecto y sustituye los na.."
   ]
  },
  {
   "cell_type": "code",
   "execution_count": 10,
   "metadata": {},
   "outputs": [],
   "source": [
    "### Tu respuesta"
   ]
  },
  {
   "cell_type": "markdown",
   "metadata": {},
   "source": [
    "### Checkeamos ahora si hay na con la linea de siempre"
   ]
  },
  {
   "cell_type": "code",
   "execution_count": 11,
   "metadata": {},
   "outputs": [
    {
     "data": {
      "text/plain": [
       "Equipo                     0\n",
       "Ciudad                     2\n",
       "País                       0\n",
       "Fundación                  0\n",
       "Capacidad                  0\n",
       "Entrenador                 0\n",
       "Puntos                     0\n",
       "Goles_Favor                0\n",
       "Goles_Contra               0\n",
       "Posición                   0\n",
       "Títulos_Liga               0\n",
       "Títulos_Internacionales    0\n",
       "Valor                      0\n",
       "Presupuesto                0\n",
       "Gastos_Fichajes            0\n",
       "Ingresos_Ventas            2\n",
       "Número_Socios              2\n",
       "Jugador_Estrella           0\n",
       "Racha                      0\n",
       "dtype: int64"
      ]
     },
     "execution_count": 11,
     "metadata": {},
     "output_type": "execute_result"
    }
   ],
   "source": [
    "df.isna().sum()"
   ]
  },
  {
   "cell_type": "markdown",
   "metadata": {},
   "source": [
    "### Asignar el equipo como indices del df."
   ]
  },
  {
   "cell_type": "code",
   "execution_count": 12,
   "metadata": {},
   "outputs": [],
   "source": [
    "### Tu respuesta"
   ]
  },
  {
   "cell_type": "markdown",
   "metadata": {},
   "source": [
    "# ✏️IDXMAX IDXMIN✏️"
   ]
  },
  {
   "cell_type": "markdown",
   "metadata": {},
   "source": [
    "###  Obtener el primero y el último equipo en fundarse así como sus años de fundación.\n"
   ]
  },
  {
   "cell_type": "code",
   "execution_count": 13,
   "metadata": {},
   "outputs": [],
   "source": [
    "### Tu respuesta"
   ]
  },
  {
   "cell_type": "markdown",
   "metadata": {},
   "source": [
    "### Obtener el nombre del jugador estrella del equipo que mas capacidad de estadio tiene"
   ]
  },
  {
   "cell_type": "code",
   "execution_count": 14,
   "metadata": {},
   "outputs": [],
   "source": [
    "### Tu respuesta"
   ]
  },
  {
   "cell_type": "markdown",
   "metadata": {},
   "source": [
    "### Obtener el nombre de la Ciudad del equipo con menos goles a favor."
   ]
  },
  {
   "cell_type": "code",
   "execution_count": 15,
   "metadata": {},
   "outputs": [],
   "source": [
    "### Tu respuesta"
   ]
  },
  {
   "cell_type": "markdown",
   "metadata": {},
   "source": [
    "### Asignación de elementos"
   ]
  },
  {
   "cell_type": "markdown",
   "metadata": {},
   "source": [
    "- Asigna al equipo 1 y 5 Francia como país\n",
    "- Asigna al equipo 3 y 7 Italia como país\n",
    "- Asigna al equipo 10 Inglaterra como país"
   ]
  },
  {
   "cell_type": "code",
   "execution_count": 16,
   "metadata": {},
   "outputs": [],
   "source": [
    "### Tu respuesta"
   ]
  },
  {
   "cell_type": "markdown",
   "metadata": {},
   "source": [
    "# ✏️Filtros✏️"
   ]
  },
  {
   "cell_type": "markdown",
   "metadata": {},
   "source": [
    "### ⚠️NO TOQUES NADA, SIMPLEMENTE VAMOS A CREAR UN DF MÁS PEQUEÑO⚠️"
   ]
  },
  {
   "cell_type": "code",
   "execution_count": 18,
   "metadata": {},
   "outputs": [],
   "source": [
    "### Función para init el df\n",
    "def init():\n",
    "    df = pd.read_csv(\"equipos_futbol.csv\", sep = \",\")\n",
    "    ## Vamos a disminuir las columnas del df para trabajar mejor. \n",
    "    columns = [\n",
    "        \"Valor\",\n",
    "        \"Goles_Favor\",\n",
    "        \"Goles_Contra\",\n",
    "        \"Ciudad\",\n",
    "        \"País\",\n",
    "        \"Racha\",\n",
    "        \"Capacidad\"\n",
    "    ]\n",
    "    \n",
    "    df = df[columns]\n",
    "    valores_defecto = {\"Ciudad\":\"Madrid\"}\n",
    "    df.fillna(valores_defecto, inplace = True)\n",
    "    df.loc[1,\"País\",] = \"Francia\"\n",
    "    df.loc[2,\"País\"] = \"Francia\"\n",
    "    df.loc[3,\"País\",] = \"Italia\"\n",
    "    df.loc[4,\"País\",] = \"Italia\"\n",
    "    df.loc[5,\"País\",]  = \"Inglaterra\"\n",
    "\n",
    "    return df"
   ]
  },
  {
   "cell_type": "markdown",
   "metadata": {},
   "source": [
    "### ⚠️ Inicializamos el dataFrame (EJECUTA ESTA CELDA PARA CARGAR EL DF)⚠️"
   ]
  },
  {
   "cell_type": "code",
   "execution_count": 84,
   "metadata": {},
   "outputs": [],
   "source": [
    "import pandas as pd\n",
    "df = init()\n"
   ]
  },
  {
   "cell_type": "markdown",
   "metadata": {},
   "source": [
    "### Ejercicio 1. Obtener un DF con los equipos cuya racha es empatando"
   ]
  },
  {
   "cell_type": "code",
   "execution_count": 20,
   "metadata": {},
   "outputs": [],
   "source": [
    "### Tu respuesta"
   ]
  },
  {
   "cell_type": "markdown",
   "metadata": {},
   "source": [
    "### Ejercicio 2. Obtener un DF con los equipos cuya ciudad es Ciudad A "
   ]
  },
  {
   "cell_type": "code",
   "execution_count": 21,
   "metadata": {},
   "outputs": [],
   "source": [
    "### Tu respuesta"
   ]
  },
  {
   "cell_type": "markdown",
   "metadata": {},
   "source": [
    "### Ejer 3. Seleccionar equipos que han marcado más de 50 goles en la temporada actual:"
   ]
  },
  {
   "cell_type": "code",
   "execution_count": 22,
   "metadata": {},
   "outputs": [],
   "source": [
    "### Tu respuesta"
   ]
  },
  {
   "cell_type": "markdown",
   "metadata": {},
   "source": [
    "### Ejercicio 4 Obtener equipos con goles en contra inferiores a la media."
   ]
  },
  {
   "cell_type": "code",
   "execution_count": 23,
   "metadata": {},
   "outputs": [],
   "source": [
    "### Tu respuesta"
   ]
  },
  {
   "cell_type": "markdown",
   "metadata": {},
   "source": [
    "### Ejercicio 5 Filtrar equipos con más goles a favor que goles en contra:"
   ]
  },
  {
   "cell_type": "code",
   "execution_count": 24,
   "metadata": {},
   "outputs": [],
   "source": [
    "### Tu respuesta"
   ]
  },
  {
   "cell_type": "markdown",
   "metadata": {},
   "source": [
    "### Ejercicio 6, utilizando between, obtén un df con aquellos equipos que tengan entre 73 y 91 goles a favor"
   ]
  },
  {
   "cell_type": "code",
   "execution_count": 25,
   "metadata": {},
   "outputs": [],
   "source": [
    "### Tu respuesta"
   ]
  },
  {
   "cell_type": "markdown",
   "metadata": {},
   "source": [
    "### Ejercicio 6.2 Repite lo mismo con expresiones booleanas"
   ]
  },
  {
   "cell_type": "code",
   "execution_count": 26,
   "metadata": {},
   "outputs": [],
   "source": [
    "### Tu respuesta"
   ]
  },
  {
   "cell_type": "markdown",
   "metadata": {},
   "source": [
    "### Ejer 7. Obtener un df cuya ciudad es la ciudad A y tiene un valor de mercado mayor que 200."
   ]
  },
  {
   "cell_type": "code",
   "execution_count": 27,
   "metadata": {},
   "outputs": [],
   "source": [
    "### Tu respuesta"
   ]
  },
  {
   "cell_type": "markdown",
   "metadata": {},
   "source": [
    "### Ejer 8. Obtener un df de las ciudades A y B que tengan menos de 60 goles en contra"
   ]
  },
  {
   "cell_type": "code",
   "execution_count": 28,
   "metadata": {},
   "outputs": [],
   "source": [
    "### Tu respuesta"
   ]
  },
  {
   "cell_type": "markdown",
   "metadata": {},
   "source": [
    "### Ejer 9. Obtener un df con los datos de los equipos de ciudades A y B, con el método isin()"
   ]
  },
  {
   "cell_type": "code",
   "execution_count": 29,
   "metadata": {},
   "outputs": [],
   "source": [
    "### Tu respuesta"
   ]
  },
  {
   "cell_type": "markdown",
   "metadata": {},
   "source": [
    "### Ejer 9.2. Obtener un df con los datos de los equipos de ciudades A y B, con el método isin(), y que tengan menos de 60 goles en contra. Tienes que combinar isin con expresiones!!"
   ]
  },
  {
   "cell_type": "code",
   "execution_count": 30,
   "metadata": {},
   "outputs": [],
   "source": [
    "### Tu respuesta"
   ]
  },
  {
   "cell_type": "markdown",
   "metadata": {},
   "source": [
    "### Ejer 10. Obtén un df con aquellos equipos que tengan entre 34 y 90 goles a favor y entre 27 y 54 goles en contra. Utiliza between()"
   ]
  },
  {
   "cell_type": "code",
   "execution_count": 32,
   "metadata": {},
   "outputs": [],
   "source": [
    "### Tu respuesta"
   ]
  },
  {
   "cell_type": "markdown",
   "metadata": {},
   "source": [
    "### Ejer 11. Obtén un df con aquellos equipos sean de Inglaterra y de Italia y que tengan entre 50 y 100 goles en contra. Utiliza isin() combinado con between()."
   ]
  },
  {
   "cell_type": "code",
   "execution_count": 33,
   "metadata": {},
   "outputs": [],
   "source": [
    "### Tu respuesta"
   ]
  },
  {
   "cell_type": "markdown",
   "metadata": {},
   "source": [
    "### Ejer 11.2 Obtén un df con aquellos equipos sean de Inglaterra y de Italia y que tengan entre 50 y 100 goles en contra. Utiliza isin() combinado con between(), y que su racha sea perdiendo."
   ]
  },
  {
   "cell_type": "code",
   "execution_count": 34,
   "metadata": {},
   "outputs": [],
   "source": [
    "### Tu respuesta"
   ]
  },
  {
   "cell_type": "markdown",
   "metadata": {},
   "source": [
    "# ✏️Ordenar✏️"
   ]
  },
  {
   "cell_type": "markdown",
   "metadata": {},
   "source": [
    "### Ejercicio1. Obtener un df con los equipos ordenados por valor en orden descendente"
   ]
  },
  {
   "cell_type": "code",
   "execution_count": 35,
   "metadata": {},
   "outputs": [],
   "source": [
    "### Tu respuesta"
   ]
  },
  {
   "cell_type": "markdown",
   "metadata": {},
   "source": [
    "### Ejercicio2. Obtener un df con los equipos ordenados por capacidad en orden ascendente"
   ]
  },
  {
   "cell_type": "code",
   "execution_count": 36,
   "metadata": {},
   "outputs": [],
   "source": [
    "### Tu respuesta"
   ]
  },
  {
   "cell_type": "markdown",
   "metadata": {},
   "source": [
    "### Ejercicio3. Obtener un df con los equipos ordenados por país en orden alfabético"
   ]
  },
  {
   "cell_type": "code",
   "execution_count": 37,
   "metadata": {},
   "outputs": [],
   "source": [
    "### Tu respuesta"
   ]
  },
  {
   "cell_type": "markdown",
   "metadata": {},
   "source": [
    "### Ejercicio4. Obtener un df con los equipos ordenados por país en orden alfabético y en caso de empate, por capacidad en orden ascendente"
   ]
  },
  {
   "cell_type": "code",
   "execution_count": 38,
   "metadata": {},
   "outputs": [],
   "source": [
    "### Tu respuesta"
   ]
  },
  {
   "cell_type": "markdown",
   "metadata": {},
   "source": [
    "### Ejercicio4.2. Obtener un df con los equipos ordenados por país en orden alfabético y en caso de empate, por capacidad en orden descendente"
   ]
  },
  {
   "cell_type": "code",
   "execution_count": 39,
   "metadata": {},
   "outputs": [],
   "source": [
    "### Tu respuesta"
   ]
  },
  {
   "cell_type": "markdown",
   "metadata": {},
   "source": [
    "### Ejercicio5. Obtener un df con los equipos ordenados por país en orden alfabético y en caso de empate, por capacidad en orden descendente y si empatan, por goles a favor en orden ascendente"
   ]
  },
  {
   "cell_type": "code",
   "execution_count": 40,
   "metadata": {},
   "outputs": [],
   "source": [
    "### Tu respuesta"
   ]
  },
  {
   "cell_type": "markdown",
   "metadata": {},
   "source": [
    "### GroupBY"
   ]
  },
  {
   "cell_type": "markdown",
   "metadata": {},
   "source": [
    "### 1. ¿Cuál es el promedio de goles favor por país?"
   ]
  },
  {
   "cell_type": "code",
   "execution_count": 41,
   "metadata": {},
   "outputs": [],
   "source": [
    "### Tu respuesta"
   ]
  },
  {
   "cell_type": "markdown",
   "metadata": {},
   "source": [
    "## 2. ¿Cuántos campeonatos internacionales han ganado los equipos agrupados por país?\n"
   ]
  },
  {
   "cell_type": "code",
   "execution_count": 42,
   "metadata": {},
   "outputs": [],
   "source": [
    "### Tu respuesta"
   ]
  },
  {
   "cell_type": "markdown",
   "metadata": {},
   "source": [
    "## 3. ¿Cuál es la capacidad media de estadios por país?\n"
   ]
  },
  {
   "cell_type": "code",
   "execution_count": 43,
   "metadata": {},
   "outputs": [],
   "source": [
    "### Tu respuesta"
   ]
  },
  {
   "cell_type": "markdown",
   "metadata": {},
   "source": [
    "## 4. ¿Cuál es la relación entre el presupuesto anual y el número de títulos de liga ganados, agrupados por país?"
   ]
  },
  {
   "cell_type": "code",
   "execution_count": 45,
   "metadata": {},
   "outputs": [],
   "source": [
    "### Tu respuesta"
   ]
  },
  {
   "cell_type": "markdown",
   "metadata": {},
   "source": [
    "\n",
    "## 5. ¿Cuál es la cantidad total de ingresos por ventas y gastos en fichajes por equipo?"
   ]
  },
  {
   "cell_type": "code",
   "execution_count": 46,
   "metadata": {},
   "outputs": [],
   "source": [
    "### Tu respuesta"
   ]
  },
  {
   "cell_type": "markdown",
   "metadata": {},
   "source": [
    "## 6. ¿Cuántos equipos por pais tienen un valor de mercado superior a 100 millones?"
   ]
  },
  {
   "cell_type": "code",
   "execution_count": 48,
   "metadata": {},
   "outputs": [],
   "source": [
    "### Tu respuesta"
   ]
  },
  {
   "cell_type": "markdown",
   "metadata": {},
   "source": [
    "### 7. ¿Cuántos equipos por país tiene más de dos titulos internacionales, más de 3 títulos de liga y un presupuesto menor que 100?"
   ]
  },
  {
   "cell_type": "code",
   "execution_count": 49,
   "metadata": {},
   "outputs": [],
   "source": [
    "### Tu respuesta"
   ]
  },
  {
   "cell_type": "markdown",
   "metadata": {},
   "source": [
    "### ¿Qué ciudad tiene la mayor cantidad de socios en promedio por equipo?"
   ]
  },
  {
   "cell_type": "code",
   "execution_count": 52,
   "metadata": {},
   "outputs": [],
   "source": [
    "### Tu respuesta"
   ]
  },
  {
   "cell_type": "markdown",
   "metadata": {},
   "source": [
    "## 8. ¿Cuál es el promedio de goles a favor y en contra por cada equipo, agrupado por racha actual?"
   ]
  },
  {
   "cell_type": "code",
   "execution_count": 53,
   "metadata": {},
   "outputs": [],
   "source": [
    "### Tu respuesta"
   ]
  },
  {
   "cell_type": "markdown",
   "metadata": {},
   "source": [
    "### 10. ¿Qué entrenador lidera el equipo con mayor número de socios?\n"
   ]
  },
  {
   "cell_type": "code",
   "execution_count": 55,
   "metadata": {},
   "outputs": [],
   "source": [
    "### Tu respuesta"
   ]
  },
  {
   "cell_type": "markdown",
   "metadata": {},
   "source": [
    "# ✏️ Función agg✏️"
   ]
  },
  {
   "cell_type": "markdown",
   "metadata": {},
   "source": [
    "### 1. Obtener estadísticas básicas de valor de mercado y capacidad de estadio.\n",
    "- Llamamos al método agg y le pasamos como argumento un diccionario donde la clave es el nombre de la columna y el valor una lista con las funciones que queremos obtener. Super mecánico."
   ]
  },
  {
   "cell_type": "code",
   "execution_count": 56,
   "metadata": {},
   "outputs": [],
   "source": [
    "### Tu respuesta"
   ]
  },
  {
   "cell_type": "markdown",
   "metadata": {},
   "source": [
    "### 2. Calcular totales y promedios de goles: Determina el total y el promedio de 'Goles Favor Temporada Actual' y 'Goles Contra Temporada Actual'."
   ]
  },
  {
   "cell_type": "code",
   "execution_count": null,
   "metadata": {},
   "outputs": [],
   "source": [
    "### Tu respuesta"
   ]
  },
  {
   "cell_type": "markdown",
   "metadata": {},
   "source": [
    "### 3. Encontrar la info del equipo con el mayor valor de mercado: Usa agg para encontrar el máximo valor de mercado y luego filtra para encontrar qué equipo(s) posee(n) ese valor."
   ]
  },
  {
   "cell_type": "code",
   "execution_count": 58,
   "metadata": {},
   "outputs": [],
   "source": [
    "### Tu respuesta"
   ]
  },
  {
   "cell_type": "markdown",
   "metadata": {},
   "source": [
    "- Podemos hacerlo de varias formas...."
   ]
  },
  {
   "cell_type": "code",
   "execution_count": 59,
   "metadata": {},
   "outputs": [],
   "source": [
    "### Tu respuesta"
   ]
  },
  {
   "cell_type": "markdown",
   "metadata": {},
   "source": [
    "### 4. Calcular la varianza de los goles a favor y en contra: Utiliza agg para calcular la varianza de los 'Goles Favor Temporada Actual' y 'Goles Contra Temporada Actual'."
   ]
  },
  {
   "cell_type": "code",
   "execution_count": 60,
   "metadata": {},
   "outputs": [],
   "source": [
    "### Tu respuesta"
   ]
  },
  {
   "cell_type": "markdown",
   "metadata": {},
   "source": [
    "### 5. Resumen por país: Agrupa los equipos por 'País' y calcula el valor de mercado medio y la suma de la capacidad de estadio para cada país."
   ]
  },
  {
   "cell_type": "code",
   "execution_count": 61,
   "metadata": {},
   "outputs": [],
   "source": [
    "### Tu respuesta"
   ]
  },
  {
   "cell_type": "markdown",
   "metadata": {},
   "source": [
    "### 6. Añadir una nueva columna con la media de los goles a favor"
   ]
  },
  {
   "cell_type": "code",
   "execution_count": 62,
   "metadata": {},
   "outputs": [],
   "source": [
    "### Tu respuesta"
   ]
  },
  {
   "cell_type": "markdown",
   "metadata": {},
   "source": [
    "# ✏️ApplyMap vs Apply✏️"
   ]
  },
  {
   "cell_type": "markdown",
   "metadata": {},
   "source": [
    "# ⚠️ Definimos una función para inicializar el df como queremos...⚠️"
   ]
  },
  {
   "cell_type": "code",
   "execution_count": 63,
   "metadata": {},
   "outputs": [],
   "source": [
    "### Función para init el df\n",
    "def init():\n",
    "    df = pd.read_csv(\"equipos_futbol.csv\", sep = \",\")\n",
    "    ## Vamos a disminuir las columnas del df para trabajar mejor. \n",
    "    columns = [\n",
    "        \"Valor\",\n",
    "        \"Goles_Favor\",\n",
    "        \"Goles_Contra\",\n",
    "        \"Ciudad\",\n",
    "        \"País\",\n",
    "        \"Racha\",\n",
    "        \"Capacidad\"\n",
    "    ]\n",
    "    \n",
    "    df = df[columns]\n",
    "    valores_defecto = {\"Ciudad\":\"Madrid\"}\n",
    "    df.fillna(valores_defecto, inplace = True)\n",
    "    df.loc[1,\"País\",] = \"Francia\"\n",
    "    df.loc[2,\"País\"] = \"Francia\"\n",
    "    df.loc[3,\"País\",] = \"Italia\"\n",
    "    df.loc[4,\"País\",] = \"Italia\"\n",
    "    df.loc[5,\"País\",]  = \"Inglaterra\"\n",
    "\n",
    "    return df"
   ]
  },
  {
   "cell_type": "markdown",
   "metadata": {},
   "source": [
    "### ⚠️ No toques esto, solo ejecuta para cargar el df⚠️"
   ]
  },
  {
   "cell_type": "code",
   "execution_count": 64,
   "metadata": {},
   "outputs": [],
   "source": [
    "df = init()"
   ]
  },
  {
   "cell_type": "markdown",
   "metadata": {},
   "source": [
    "###  1. Normaliza los valores numéricos en las columnas \"Valor de Mercado\", \"Goles Favor Temporada Actual\" y \"Goles Contra Temporada Actual\" utilizando el método de normalización min-max.\n",
    "- En este ejemplo vamos a pasar varias columnas del df a la función normalizar (son series). Por cada una de ellas, sacamos minimo maximo y echamos la cuenta. Primero se pasa Valor de Mercado, luego Goles a favor.... así con todas. Es muy importante entender que, cuando estamos usando apply, estamos mandando una serie como argumento. Si no ponemos nada, mandamos las columnas. Si ponemos axis = 1, mandamos las filas!!!!!!!"
   ]
  },
  {
   "cell_type": "code",
   "execution_count": 65,
   "metadata": {},
   "outputs": [],
   "source": [
    "### Tu respuesta"
   ]
  },
  {
   "cell_type": "markdown",
   "metadata": {},
   "source": [
    "### 2. Aplica un formato de moneda a las columnas \"Valor de Mercado\" y \"Capacidad Estadio\" para que aparezcan como valores monetarios.\n",
    "- Ahora queremos aplicar un formato a todos los valores de Valor de Mercado para añadir el símbolo del dolar. Si usamos applymap, lo que estamos mandando es cada uno de los elementos de la columna que estamos indicando, uno a uno, no la columna entera. CLAVE!!!"
   ]
  },
  {
   "cell_type": "code",
   "execution_count": 66,
   "metadata": {},
   "outputs": [],
   "source": [
    "### Tu respuesta"
   ]
  },
  {
   "cell_type": "markdown",
   "metadata": {},
   "source": [
    "\n",
    "### 3. Aplica el logaritmo a los valores en Capacidad estadio sólo si el valor es superior a 20000 , de lo contrario, deja el valor como está.\n",
    "- De nuevo, vamos a mandar cada uno de los elementos de la columna capacidad Estadio"
   ]
  },
  {
   "cell_type": "code",
   "execution_count": 67,
   "metadata": {},
   "outputs": [],
   "source": [
    "### Tu respuesta"
   ]
  },
  {
   "cell_type": "markdown",
   "metadata": {},
   "source": [
    "### Ejercicio 4: Inversión de Texto Invierte los strings en las columnas \"Ciudad\" y \"País\" (ejemplo: 'Madrid' se convierte en 'diraM').\n",
    "- Vamos a pasar cada uno de los valores de la columna ciudad y lo invertimos. \n",
    "- Aunque Ciudad sea un object, realmente es una instancia de un string.\n"
   ]
  },
  {
   "cell_type": "code",
   "execution_count": 68,
   "metadata": {},
   "outputs": [],
   "source": [
    "### Tu respuesta"
   ]
  },
  {
   "cell_type": "markdown",
   "metadata": {},
   "source": [
    "## 5. Codifica la columna \"Racha Actual\" con valores numéricos de la siguiente manera: Ganando = 1, Perdiendo = -1, Empatando = 0. Luego, pásalo a datos categóricos."
   ]
  },
  {
   "cell_type": "code",
   "execution_count": 69,
   "metadata": {},
   "outputs": [],
   "source": [
    "### Tu respuesta"
   ]
  },
  {
   "cell_type": "markdown",
   "metadata": {},
   "source": [
    "## Ejercicio 6: Modificación de Nombres de Ciudades Añade el sufijo \"-City\" a todos los nombres de ciudades en la columna \"Ciudad\".\n"
   ]
  },
  {
   "cell_type": "code",
   "execution_count": 72,
   "metadata": {},
   "outputs": [],
   "source": [
    "### Tu respuesta"
   ]
  },
  {
   "cell_type": "markdown",
   "metadata": {},
   "source": [
    "### Ejercicio 7: Conversión Condicional a Mayúsculas Convierte los nombres de los países en la columna \"País\" a mayúsculas sólo si la \"Capacidad Estadio\" es mayor que 50,000.\n"
   ]
  },
  {
   "cell_type": "code",
   "execution_count": 73,
   "metadata": {},
   "outputs": [],
   "source": [
    "### Tu respuesta"
   ]
  },
  {
   "cell_type": "markdown",
   "metadata": {},
   "source": [
    "### Ejercicio 8: Ajuste de Longitud de Texto Asegura que todos los strings en \"País\" y \"Ciudad\" tengan exactamente 10 caracteres, rellenando con '_' o cortando los caracteres necesarios para cumplir con la longitud."
   ]
  },
  {
   "cell_type": "code",
   "execution_count": 75,
   "metadata": {},
   "outputs": [],
   "source": [
    "### Tu respuesta"
   ]
  },
  {
   "cell_type": "markdown",
   "metadata": {},
   "source": [
    "### Ejercicio 9: Cálculo de Diferencial de Goles\n",
    "- Calcula un diferencial de goles como la diferencia entre \"Goles Favor Temporada Actual\" y \"Goles Contra Temporada Actual\", aplica un factor de escala de 1.5 al resultado, y crea una nueva columna para almacenarlo."
   ]
  },
  {
   "cell_type": "code",
   "execution_count": 76,
   "metadata": {},
   "outputs": [],
   "source": [
    "### Tu respuesta"
   ]
  },
  {
   "cell_type": "markdown",
   "metadata": {},
   "source": [
    "### Ejercicio 10: Encodificación Binaria de Ciudades Transforma los nombres de ciudades en la columna \"Ciudad\" a una forma binaria donde cada letra 'a' se convierte en '1' y todas las demás letras se convierten en '0'.\n"
   ]
  },
  {
   "cell_type": "code",
   "execution_count": 77,
   "metadata": {},
   "outputs": [],
   "source": [
    "### Tu respuesta"
   ]
  },
  {
   "cell_type": "markdown",
   "metadata": {},
   "source": [
    "### 11. Calcular el promedio de goles por partido:\n",
    "Usa apply en las columnas 'Goles Favor Temporada Actual' y 'Goles Contra Temporada Actual' para calcular el promedio de goles por partido, asumiendo que sabes el número total de partidos jugados."
   ]
  },
  {
   "cell_type": "code",
   "execution_count": 78,
   "metadata": {},
   "outputs": [],
   "source": [
    "### Tu respuesta"
   ]
  },
  {
   "cell_type": "markdown",
   "metadata": {},
   "source": [
    "### 12. Determinar el equipo con mayor valor de mercado: Aplica una función que identifique el valor máximo en la columna 'Valor de Mercado' y retorna el nombre del equipo asociado."
   ]
  },
  {
   "cell_type": "code",
   "execution_count": 79,
   "metadata": {},
   "outputs": [],
   "source": [
    "### Tu respuesta"
   ]
  },
  {
   "cell_type": "markdown",
   "metadata": {},
   "source": [
    "### 13.Normalizar los valores de mercado: Normaliza los valores de la columna 'Valor de Mercado' dividiéndolos por el valor máximo para obtener una escala de 0 a 1.\n"
   ]
  },
  {
   "cell_type": "markdown",
   "metadata": {},
   "source": [
    "### 14. Convertir rachas en puntos estimados: Transforma la columna 'Racha Actual', asumiendo que cada victoria ('W') vale 3 puntos, cada empate ('D') 1 punto, y cada derrota ('L') 0 puntos.\n"
   ]
  },
  {
   "cell_type": "code",
   "execution_count": 81,
   "metadata": {},
   "outputs": [],
   "source": [
    "### Tu respuesta"
   ]
  },
  {
   "cell_type": "markdown",
   "metadata": {},
   "source": [
    "### 15. Concatenar ciudad y país en una nueva columna: Usa apply en un DataFrame para concatenar las columnas 'Ciudad' y 'País' en una nueva columna llamada 'Ubicación'.\n",
    "\n"
   ]
  },
  {
   "cell_type": "code",
   "execution_count": 82,
   "metadata": {},
   "outputs": [],
   "source": [
    "### Tu respuesta"
   ]
  },
  {
   "cell_type": "markdown",
   "metadata": {},
   "source": [
    "### 16. Encontrar la longitud de los nombres de los estadios: Si tienes una columna con nombres de estadios, usa apply para calcular la longitud de cada país y almacénalo en una nueva columna."
   ]
  },
  {
   "cell_type": "code",
   "execution_count": 83,
   "metadata": {},
   "outputs": [],
   "source": [
    "### Tu respuesta"
   ]
  },
  {
   "cell_type": "code",
   "execution_count": null,
   "metadata": {},
   "outputs": [],
   "source": []
  }
 ],
 "metadata": {
  "kernelspec": {
   "display_name": "Python 3",
   "language": "python",
   "name": "python3"
  },
  "language_info": {
   "codemirror_mode": {
    "name": "ipython",
    "version": 3
   },
   "file_extension": ".py",
   "mimetype": "text/x-python",
   "name": "python",
   "nbconvert_exporter": "python",
   "pygments_lexer": "ipython3",
   "version": "3.8.5"
  }
 },
 "nbformat": 4,
 "nbformat_minor": 4
}
