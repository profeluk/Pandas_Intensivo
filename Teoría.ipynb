{
 "cells": [
  {
   "cell_type": "markdown",
   "metadata": {},
   "source": [
    "# Indice\n",
    "\n",
    "1. [Nulos](#Nulos)\n",
    "2. [Filtros](#Filtros)\n",
    "3. [Ordenar](#Ordenar)\n",
    "4. [Eliminar duplicados](#Eliminar-duplicados)\n",
    "5. [Añadir y eliminar registros](#Añadir-eliminar-registros)\n",
    "6. [Conversión de tipos de datos](#Conversión-tipos-datos)\n",
    "7. [Datos categóricos](#Datos-categóricos)\n",
    "8. [Fechas y tiempo](#Fechas-tiempo)"
   ]
  },
  {
   "cell_type": "markdown",
   "metadata": {
    "tags": []
   },
   "source": [
    "\n",
    "\n",
    "\n",
    "# 1. Nulos<a id=\"Nulos\"></a>\n",
    "\n",
    "La mayor parte de los datasets presentan registros con uno o varios campos cuya información está ausente (**missing values**), lo que puede generar problemas al intentar representar los datos, realizar ciertas operaciones o aplicarlo a un algoritmo. Por eso es necesario identificar y tratar esos valores ausentes. \n",
    "\n",
    "Las dos estrategias de tratamiento son el borrado o la asignación un valor determinado.\n",
    "\n",
    "`Pandas` toma a los valores `NaN` y `None` como valores ausentes.\n",
    "\n"
   ]
  },
  {
   "cell_type": "code",
   "execution_count": 1,
   "metadata": {},
   "outputs": [],
   "source": [
    "import pandas as  pd\n",
    "import numpy as np"
   ]
  },
  {
   "cell_type": "markdown",
   "metadata": {},
   "source": [
    "### ¿Qué son los Valores Nulos?\n",
    "\n",
    "Los valores nulos, también conocidos como valores faltantes o NaN (Not a Number), son marcadores que indican la ausencia de datos en un conjunto de datos. En Pandas, los valores nulos se representan como `NaN` para datos numéricos y `None` para datos de tipo objeto.\n",
    "\n",
    "### Importancia de la Gestión de Nulos\n",
    "\n",
    "La presencia de valores nulos puede afectar negativamente el análisis de datos y los modelos predictivos si no se manejan adecuadamente. Algunas consecuencias de no manejar los valores nulos incluyen:\n",
    "\n",
    "- Sesgo en el análisis estadístico.\n",
    "- Problemas durante el procesamiento de datos, como errores al calcular estadísticas descriptivas.\n",
    "- Dificultades en la visualización de datos.\n",
    "- Problemas al entrenar modelos de aprendizaje automático.\n",
    "\n",
    "### Métodos de Gestión de Nulos en Pandas\n",
    "\n",
    "Pandas ofrece varios métodos para manejar valores nulos:\n",
    "\n",
    "1. **Identificación de Valores Nulos:** Pandas proporciona métodos como `isna()` y `notna()` para identificar celdas con valores nulos en un DataFrame.\n",
    "\n",
    "2. **Eliminación de Filas o Columnas:** Los métodos `dropna()` permiten eliminar filas o columnas que contienen valores nulos.\n",
    "\n",
    "3. **Imputación de Valores:** Se pueden utilizar métodos como `fillna()` para rellenar los valores nulos con un valor específico, como la media, mediana o un valor predeterminado.\n",
    "\n",
    "4. **Interpolación:** La función `interpolate()` permite estimar valores nulos basados en los valores circundantes.\n",
    "\n"
   ]
  },
  {
   "cell_type": "code",
   "execution_count": 2,
   "metadata": {},
   "outputs": [
    {
     "name": "stdout",
     "output_type": "stream",
     "text": [
      "Valores Nulos:\n",
      "       A      B      C\n",
      "0  False  False  False\n",
      "1  False   True  False\n",
      "2   True  False   True\n",
      "3  False  False  False\n",
      "\n",
      "DataFrame después de eliminar filas con valores nulos:\n",
      "     A    B    C\n",
      "0  1.0  5.0  7.0\n",
      "3  4.0  8.0  9.0\n",
      "\n"
     ]
    }
   ],
   "source": [
    "### Ejemplo de Uso en Pandas\n",
    "\n",
    "import pandas as pd\n",
    "\n",
    "# Crear un DataFrame de ejemplo con valores nulos\n",
    "data = {'A': [1, 2, None, 4],\n",
    "        'B': [5, None, 7, 8],\n",
    "        'C': [7, 8, None, 9]}\n",
    "df = pd.DataFrame(data)\n",
    "\n",
    "# Identificar valores nulos\n",
    "print(\"Valores Nulos:\")\n",
    "print(df.isna())\n",
    "print()\n",
    "\n",
    "# Eliminar filas con valores nulos\n",
    "df_dropna = df.dropna()\n",
    "print(\"DataFrame después de eliminar filas con valores nulos:\")\n",
    "print(df_dropna)\n",
    "print()\n",
    "\n"
   ]
  },
  {
   "cell_type": "markdown",
   "metadata": {},
   "source": [
    "### Veamos algunos ejemplos de como gestionar los datos None y como rellenar usando fillna...\n",
    "- Si pongo que lo rellene con la media, hace la media de cada columna y lo mete "
   ]
  },
  {
   "cell_type": "code",
   "execution_count": 3,
   "metadata": {},
   "outputs": [
    {
     "data": {
      "text/html": [
       "<div>\n",
       "<style scoped>\n",
       "    .dataframe tbody tr th:only-of-type {\n",
       "        vertical-align: middle;\n",
       "    }\n",
       "\n",
       "    .dataframe tbody tr th {\n",
       "        vertical-align: top;\n",
       "    }\n",
       "\n",
       "    .dataframe thead th {\n",
       "        text-align: right;\n",
       "    }\n",
       "</style>\n",
       "<table border=\"1\" class=\"dataframe\">\n",
       "  <thead>\n",
       "    <tr style=\"text-align: right;\">\n",
       "      <th></th>\n",
       "      <th>A</th>\n",
       "      <th>B</th>\n",
       "      <th>C</th>\n",
       "    </tr>\n",
       "  </thead>\n",
       "  <tbody>\n",
       "    <tr>\n",
       "      <th>Fila1</th>\n",
       "      <td>1.0</td>\n",
       "      <td>2.0</td>\n",
       "      <td>3.0</td>\n",
       "    </tr>\n",
       "    <tr>\n",
       "      <th>Fila2</th>\n",
       "      <td>1.0</td>\n",
       "      <td>2.0</td>\n",
       "      <td>3.0</td>\n",
       "    </tr>\n",
       "    <tr>\n",
       "      <th>Fila3</th>\n",
       "      <td>1.0</td>\n",
       "      <td>2.0</td>\n",
       "      <td>3.0</td>\n",
       "    </tr>\n",
       "    <tr>\n",
       "      <th>Fila3</th>\n",
       "      <td>1.0</td>\n",
       "      <td>2.0</td>\n",
       "      <td>3.0</td>\n",
       "    </tr>\n",
       "  </tbody>\n",
       "</table>\n",
       "</div>"
      ],
      "text/plain": [
       "         A    B    C\n",
       "Fila1  1.0  2.0  3.0\n",
       "Fila2  1.0  2.0  3.0\n",
       "Fila3  1.0  2.0  3.0\n",
       "Fila3  1.0  2.0  3.0"
      ]
     },
     "execution_count": 3,
     "metadata": {},
     "output_type": "execute_result"
    }
   ],
   "source": [
    "import pandas as pd\n",
    "# Crear un DataFrame de ejemplo con valores nulos\n",
    "data = {'A': [1, 1, None, 1],\n",
    "        'B': [2, None, 2, 2],\n",
    "        'C': [3, 3, None, 3]}\n",
    "df = pd.DataFrame(data, index = [\"Fila1\", \"Fila2\",\"Fila3\", \"Fila3\"])\n",
    "df_media = df.fillna(df.mean())\n",
    "df_media"
   ]
  },
  {
   "cell_type": "markdown",
   "metadata": {},
   "source": [
    "- Otra manera de usarlo  es creando un diccionario que tenga como clave  el nombre de la columna y como valor el valor por defecto... En este caso metemos 6 en la columna de la A, 8 en la de la B y 8 en la de la C. "
   ]
  },
  {
   "cell_type": "code",
   "execution_count": 59,
   "metadata": {},
   "outputs": [
    {
     "data": {
      "text/html": [
       "<div>\n",
       "<style scoped>\n",
       "    .dataframe tbody tr th:only-of-type {\n",
       "        vertical-align: middle;\n",
       "    }\n",
       "\n",
       "    .dataframe tbody tr th {\n",
       "        vertical-align: top;\n",
       "    }\n",
       "\n",
       "    .dataframe thead th {\n",
       "        text-align: right;\n",
       "    }\n",
       "</style>\n",
       "<table border=\"1\" class=\"dataframe\">\n",
       "  <thead>\n",
       "    <tr style=\"text-align: right;\">\n",
       "      <th></th>\n",
       "      <th>A</th>\n",
       "      <th>B</th>\n",
       "      <th>C</th>\n",
       "    </tr>\n",
       "  </thead>\n",
       "  <tbody>\n",
       "    <tr>\n",
       "      <th>Fila1</th>\n",
       "      <td>1.0</td>\n",
       "      <td>2.0</td>\n",
       "      <td>3.0</td>\n",
       "    </tr>\n",
       "    <tr>\n",
       "      <th>Fila2</th>\n",
       "      <td>1.0</td>\n",
       "      <td>8.0</td>\n",
       "      <td>3.0</td>\n",
       "    </tr>\n",
       "    <tr>\n",
       "      <th>Fila3</th>\n",
       "      <td>6.0</td>\n",
       "      <td>2.0</td>\n",
       "      <td>8.0</td>\n",
       "    </tr>\n",
       "    <tr>\n",
       "      <th>Fila3</th>\n",
       "      <td>1.0</td>\n",
       "      <td>2.0</td>\n",
       "      <td>3.0</td>\n",
       "    </tr>\n",
       "  </tbody>\n",
       "</table>\n",
       "</div>"
      ],
      "text/plain": [
       "         A    B    C\n",
       "Fila1  1.0  2.0  3.0\n",
       "Fila2  1.0  8.0  3.0\n",
       "Fila3  6.0  2.0  8.0\n",
       "Fila3  1.0  2.0  3.0"
      ]
     },
     "execution_count": 59,
     "metadata": {},
     "output_type": "execute_result"
    }
   ],
   "source": [
    "import pandas as pd\n",
    "# Crear un DataFrame de ejemplo con valores nulos\n",
    "data = {'A': [1, 1, None, 1],\n",
    "        'B': [2, None, 2, 2],\n",
    "        'C': [3, 3, None, 3]}\n",
    "df = pd.DataFrame(data, index = [\"Fila1\", \"Fila2\",\"Fila3\", \"Fila3\"])\n",
    "df = df.fillna({\"A\":6,\"B\":8, \"C\":8})\n",
    "\n",
    "df"
   ]
  },
  {
   "cell_type": "markdown",
   "metadata": {},
   "source": [
    "### En este caso nos curramos un poco más el diccionario.. pero es la misma idea"
   ]
  },
  {
   "cell_type": "code",
   "execution_count": 27,
   "metadata": {},
   "outputs": [
    {
     "data": {
      "text/html": [
       "<div>\n",
       "<style scoped>\n",
       "    .dataframe tbody tr th:only-of-type {\n",
       "        vertical-align: middle;\n",
       "    }\n",
       "\n",
       "    .dataframe tbody tr th {\n",
       "        vertical-align: top;\n",
       "    }\n",
       "\n",
       "    .dataframe thead th {\n",
       "        text-align: right;\n",
       "    }\n",
       "</style>\n",
       "<table border=\"1\" class=\"dataframe\">\n",
       "  <thead>\n",
       "    <tr style=\"text-align: right;\">\n",
       "      <th></th>\n",
       "      <th>Nombre</th>\n",
       "      <th>Edad</th>\n",
       "      <th>Peso</th>\n",
       "      <th>Estudios</th>\n",
       "    </tr>\n",
       "  </thead>\n",
       "  <tbody>\n",
       "    <tr>\n",
       "      <th>123</th>\n",
       "      <td>Antonio</td>\n",
       "      <td>25.000000</td>\n",
       "      <td>90.0</td>\n",
       "      <td>GITT</td>\n",
       "    </tr>\n",
       "    <tr>\n",
       "      <th>456</th>\n",
       "      <td>Dani</td>\n",
       "      <td>26.000000</td>\n",
       "      <td>80.0</td>\n",
       "      <td>None</td>\n",
       "    </tr>\n",
       "    <tr>\n",
       "      <th>789</th>\n",
       "      <td>Pepe</td>\n",
       "      <td>26.333333</td>\n",
       "      <td>79.0</td>\n",
       "      <td>None</td>\n",
       "    </tr>\n",
       "    <tr>\n",
       "      <th>908</th>\n",
       "      <td>Ana</td>\n",
       "      <td>28.000000</td>\n",
       "      <td>67.0</td>\n",
       "      <td>Enfermera</td>\n",
       "    </tr>\n",
       "    <tr>\n",
       "      <th>879</th>\n",
       "      <td>Desconocido</td>\n",
       "      <td>26.333333</td>\n",
       "      <td>79.0</td>\n",
       "      <td>GITT</td>\n",
       "    </tr>\n",
       "  </tbody>\n",
       "</table>\n",
       "</div>"
      ],
      "text/plain": [
       "          Nombre       Edad  Peso   Estudios\n",
       "123      Antonio  25.000000  90.0       GITT\n",
       "456         Dani  26.000000  80.0       None\n",
       "789         Pepe  26.333333  79.0       None\n",
       "908          Ana  28.000000  67.0  Enfermera\n",
       "879  Desconocido  26.333333  79.0       GITT"
      ]
     },
     "execution_count": 27,
     "metadata": {},
     "output_type": "execute_result"
    }
   ],
   "source": [
    "data = {\"Nombre\": [\"Antonio\", \"Dani\", \"Pepe\", \"Ana\", None],\n",
    "        \"Edad\": [25,26,None,28,None],\n",
    "        \"Peso\": [90,80,None,67,None],\n",
    "        \"Estudios\": [\"GITT\", None, None, \"Enfermera\", \"GITT\"]\n",
    "        \n",
    "       }\n",
    "indices = [123,456,789,908,879]\n",
    "df = pd.DataFrame(data, indices)\n",
    " \n",
    "defecto = {\"Nombre\":\"Desconocido\", \n",
    "           \"Edad\": df[\"Edad\"].mean(),\n",
    "           \"Peso\": df[\"Peso\"].mean(), \n",
    "           }\n",
    "df = df.fillna(defecto)\n",
    "df"
   ]
  },
  {
   "cell_type": "code",
   "execution_count": 30,
   "metadata": {},
   "outputs": [
    {
     "data": {
      "text/html": [
       "<div>\n",
       "<style scoped>\n",
       "    .dataframe tbody tr th:only-of-type {\n",
       "        vertical-align: middle;\n",
       "    }\n",
       "\n",
       "    .dataframe tbody tr th {\n",
       "        vertical-align: top;\n",
       "    }\n",
       "\n",
       "    .dataframe thead th {\n",
       "        text-align: right;\n",
       "    }\n",
       "</style>\n",
       "<table border=\"1\" class=\"dataframe\">\n",
       "  <thead>\n",
       "    <tr style=\"text-align: right;\">\n",
       "      <th></th>\n",
       "      <th>Nombre</th>\n",
       "      <th>Edad</th>\n",
       "      <th>Peso</th>\n",
       "    </tr>\n",
       "  </thead>\n",
       "  <tbody>\n",
       "    <tr>\n",
       "      <th>123</th>\n",
       "      <td>Antonio</td>\n",
       "      <td>25.000000</td>\n",
       "      <td>90.0</td>\n",
       "    </tr>\n",
       "    <tr>\n",
       "      <th>456</th>\n",
       "      <td>Dani</td>\n",
       "      <td>26.000000</td>\n",
       "      <td>80.0</td>\n",
       "    </tr>\n",
       "    <tr>\n",
       "      <th>789</th>\n",
       "      <td>Pepe</td>\n",
       "      <td>26.333333</td>\n",
       "      <td>79.0</td>\n",
       "    </tr>\n",
       "    <tr>\n",
       "      <th>908</th>\n",
       "      <td>Ana</td>\n",
       "      <td>28.000000</td>\n",
       "      <td>67.0</td>\n",
       "    </tr>\n",
       "    <tr>\n",
       "      <th>879</th>\n",
       "      <td>Desconocido</td>\n",
       "      <td>26.333333</td>\n",
       "      <td>79.0</td>\n",
       "    </tr>\n",
       "  </tbody>\n",
       "</table>\n",
       "</div>"
      ],
      "text/plain": [
       "          Nombre       Edad  Peso\n",
       "123      Antonio  25.000000  90.0\n",
       "456         Dani  26.000000  80.0\n",
       "789         Pepe  26.333333  79.0\n",
       "908          Ana  28.000000  67.0\n",
       "879  Desconocido  26.333333  79.0"
      ]
     },
     "execution_count": 30,
     "metadata": {},
     "output_type": "execute_result"
    }
   ],
   "source": [
    "df_sin = df.dropna(axis = 1)\n",
    "df_sin"
   ]
  },
  {
   "cell_type": "code",
   "execution_count": 18,
   "metadata": {},
   "outputs": [
    {
     "data": {
      "text/plain": [
       "Nombre      1\n",
       "Edad        2\n",
       "Peso        2\n",
       "Estudios    2\n",
       "dtype: int64"
      ]
     },
     "execution_count": 18,
     "metadata": {},
     "output_type": "execute_result"
    }
   ],
   "source": [
    "df.isna().sum()"
   ]
  },
  {
   "cell_type": "markdown",
   "metadata": {},
   "source": [
    "### Con el parámetro axis del dropna controlo si quiero eliminar filas o columnas del df!! SI no pones nada se revienta todo!!\n",
    "- Vamos a fijarnos en el siguiente diccionario que transformaremos a dframe y jugaremos con el dropna..\n",
    "- Tenemos una columna entera de nulos, si no ponemos nada en el dropna se revienta toda fila/columna donde haya nulos... en este caso rompe el df."
   ]
  },
  {
   "cell_type": "code",
   "execution_count": 24,
   "metadata": {},
   "outputs": [
    {
     "data": {
      "text/html": [
       "<div>\n",
       "<style scoped>\n",
       "    .dataframe tbody tr th:only-of-type {\n",
       "        vertical-align: middle;\n",
       "    }\n",
       "\n",
       "    .dataframe tbody tr th {\n",
       "        vertical-align: top;\n",
       "    }\n",
       "\n",
       "    .dataframe thead th {\n",
       "        text-align: right;\n",
       "    }\n",
       "</style>\n",
       "<table border=\"1\" class=\"dataframe\">\n",
       "  <thead>\n",
       "    <tr style=\"text-align: right;\">\n",
       "      <th></th>\n",
       "      <th>Nombre</th>\n",
       "      <th>Edad</th>\n",
       "      <th>Peso</th>\n",
       "      <th>Estudios</th>\n",
       "    </tr>\n",
       "  </thead>\n",
       "  <tbody>\n",
       "    <tr>\n",
       "      <th>0</th>\n",
       "      <td>Antonio</td>\n",
       "      <td>25</td>\n",
       "      <td>90</td>\n",
       "      <td>None</td>\n",
       "    </tr>\n",
       "    <tr>\n",
       "      <th>1</th>\n",
       "      <td>Dani</td>\n",
       "      <td>26</td>\n",
       "      <td>80</td>\n",
       "      <td>Gitt</td>\n",
       "    </tr>\n",
       "    <tr>\n",
       "      <th>2</th>\n",
       "      <td>Pepe</td>\n",
       "      <td>28</td>\n",
       "      <td>47</td>\n",
       "      <td>None</td>\n",
       "    </tr>\n",
       "    <tr>\n",
       "      <th>3</th>\n",
       "      <td>Ana</td>\n",
       "      <td>28</td>\n",
       "      <td>67</td>\n",
       "      <td>None</td>\n",
       "    </tr>\n",
       "    <tr>\n",
       "      <th>4</th>\n",
       "      <td>None</td>\n",
       "      <td>28</td>\n",
       "      <td>68</td>\n",
       "      <td>None</td>\n",
       "    </tr>\n",
       "  </tbody>\n",
       "</table>\n",
       "</div>"
      ],
      "text/plain": [
       "    Nombre  Edad  Peso Estudios\n",
       "0  Antonio    25    90     None\n",
       "1     Dani    26    80     Gitt\n",
       "2     Pepe    28    47     None\n",
       "3      Ana    28    67     None\n",
       "4     None    28    68     None"
      ]
     },
     "execution_count": 24,
     "metadata": {},
     "output_type": "execute_result"
    }
   ],
   "source": [
    "\n",
    "data = {\"Nombre\": [\"Antonio\", \"Dani\", \"Pepe\", \"Ana\", None],\n",
    "        \"Edad\": [25,26,28,28,28],\n",
    "        \"Peso\": [90,80,47,67,68],\n",
    "        \"Estudios\": [None, \"Gitt\", None, None, None]\n",
    "        \n",
    "       }\n",
    "df =pd.DataFrame(data)\n",
    "df"
   ]
  },
  {
   "cell_type": "code",
   "execution_count": 26,
   "metadata": {},
   "outputs": [
    {
     "data": {
      "text/html": [
       "<div>\n",
       "<style scoped>\n",
       "    .dataframe tbody tr th:only-of-type {\n",
       "        vertical-align: middle;\n",
       "    }\n",
       "\n",
       "    .dataframe tbody tr th {\n",
       "        vertical-align: top;\n",
       "    }\n",
       "\n",
       "    .dataframe thead th {\n",
       "        text-align: right;\n",
       "    }\n",
       "</style>\n",
       "<table border=\"1\" class=\"dataframe\">\n",
       "  <thead>\n",
       "    <tr style=\"text-align: right;\">\n",
       "      <th></th>\n",
       "      <th>Edad</th>\n",
       "      <th>Peso</th>\n",
       "    </tr>\n",
       "  </thead>\n",
       "  <tbody>\n",
       "    <tr>\n",
       "      <th>0</th>\n",
       "      <td>25</td>\n",
       "      <td>90</td>\n",
       "    </tr>\n",
       "    <tr>\n",
       "      <th>1</th>\n",
       "      <td>26</td>\n",
       "      <td>80</td>\n",
       "    </tr>\n",
       "    <tr>\n",
       "      <th>2</th>\n",
       "      <td>28</td>\n",
       "      <td>47</td>\n",
       "    </tr>\n",
       "    <tr>\n",
       "      <th>3</th>\n",
       "      <td>28</td>\n",
       "      <td>67</td>\n",
       "    </tr>\n",
       "    <tr>\n",
       "      <th>4</th>\n",
       "      <td>28</td>\n",
       "      <td>68</td>\n",
       "    </tr>\n",
       "  </tbody>\n",
       "</table>\n",
       "</div>"
      ],
      "text/plain": [
       "   Edad  Peso\n",
       "0    25    90\n",
       "1    26    80\n",
       "2    28    47\n",
       "3    28    67\n",
       "4    28    68"
      ]
     },
     "execution_count": 26,
     "metadata": {},
     "output_type": "execute_result"
    }
   ],
   "source": [
    "df_elim  = df.dropna(axis = 1)\n",
    "df_elim"
   ]
  },
  {
   "cell_type": "code",
   "execution_count": 11,
   "metadata": {},
   "outputs": [
    {
     "data": {
      "text/html": [
       "<div>\n",
       "<style scoped>\n",
       "    .dataframe tbody tr th:only-of-type {\n",
       "        vertical-align: middle;\n",
       "    }\n",
       "\n",
       "    .dataframe tbody tr th {\n",
       "        vertical-align: top;\n",
       "    }\n",
       "\n",
       "    .dataframe thead th {\n",
       "        text-align: right;\n",
       "    }\n",
       "</style>\n",
       "<table border=\"1\" class=\"dataframe\">\n",
       "  <thead>\n",
       "    <tr style=\"text-align: right;\">\n",
       "      <th></th>\n",
       "      <th>Nombre</th>\n",
       "      <th>Edad</th>\n",
       "      <th>Peso</th>\n",
       "      <th>Estudios</th>\n",
       "    </tr>\n",
       "  </thead>\n",
       "  <tbody>\n",
       "    <tr>\n",
       "      <th>0</th>\n",
       "      <td>Antonio</td>\n",
       "      <td>25</td>\n",
       "      <td>90</td>\n",
       "      <td>GITT</td>\n",
       "    </tr>\n",
       "    <tr>\n",
       "      <th>1</th>\n",
       "      <td>Dani</td>\n",
       "      <td>26</td>\n",
       "      <td>80</td>\n",
       "      <td>None</td>\n",
       "    </tr>\n",
       "    <tr>\n",
       "      <th>2</th>\n",
       "      <td>Pepe</td>\n",
       "      <td>28</td>\n",
       "      <td>47</td>\n",
       "      <td>None</td>\n",
       "    </tr>\n",
       "    <tr>\n",
       "      <th>3</th>\n",
       "      <td>Ana</td>\n",
       "      <td>28</td>\n",
       "      <td>67</td>\n",
       "      <td>None</td>\n",
       "    </tr>\n",
       "    <tr>\n",
       "      <th>4</th>\n",
       "      <td>None</td>\n",
       "      <td>28</td>\n",
       "      <td>68</td>\n",
       "      <td>None</td>\n",
       "    </tr>\n",
       "  </tbody>\n",
       "</table>\n",
       "</div>"
      ],
      "text/plain": [
       "    Nombre  Edad  Peso Estudios\n",
       "0  Antonio    25    90     GITT\n",
       "1     Dani    26    80     None\n",
       "2     Pepe    28    47     None\n",
       "3      Ana    28    67     None\n",
       "4     None    28    68     None"
      ]
     },
     "execution_count": 11,
     "metadata": {},
     "output_type": "execute_result"
    }
   ],
   "source": [
    "df.head()"
   ]
  },
  {
   "cell_type": "markdown",
   "metadata": {},
   "source": [
    "##  Si ponemos axis = 0, rompe toda fila donde haya none / nan"
   ]
  },
  {
   "cell_type": "markdown",
   "metadata": {},
   "source": [
    "- En este caso, la unica fila donde no hay nulos es la fila de antonio, ya que en el resto hay nones en alguna de las columnas por lo que se lo revienta"
   ]
  },
  {
   "cell_type": "code",
   "execution_count": 16,
   "metadata": {},
   "outputs": [
    {
     "data": {
      "text/html": [
       "<div>\n",
       "<style scoped>\n",
       "    .dataframe tbody tr th:only-of-type {\n",
       "        vertical-align: middle;\n",
       "    }\n",
       "\n",
       "    .dataframe tbody tr th {\n",
       "        vertical-align: top;\n",
       "    }\n",
       "\n",
       "    .dataframe thead th {\n",
       "        text-align: right;\n",
       "    }\n",
       "</style>\n",
       "<table border=\"1\" class=\"dataframe\">\n",
       "  <thead>\n",
       "    <tr style=\"text-align: right;\">\n",
       "      <th></th>\n",
       "      <th>Nombre</th>\n",
       "      <th>Edad</th>\n",
       "      <th>Peso</th>\n",
       "      <th>Estudios</th>\n",
       "    </tr>\n",
       "  </thead>\n",
       "  <tbody>\n",
       "    <tr>\n",
       "      <th>0</th>\n",
       "      <td>Antonio</td>\n",
       "      <td>25</td>\n",
       "      <td>90</td>\n",
       "      <td>GITT</td>\n",
       "    </tr>\n",
       "  </tbody>\n",
       "</table>\n",
       "</div>"
      ],
      "text/plain": [
       "    Nombre  Edad  Peso Estudios\n",
       "0  Antonio    25    90     GITT"
      ]
     },
     "execution_count": 16,
     "metadata": {},
     "output_type": "execute_result"
    }
   ],
   "source": [
    "\n",
    "data = {\"Nombre\": [\"Antonio\", \"Dani\", \"Pepe\", \"Ana\", None],\n",
    "        \"Edad\": [25,26,28,28,28],\n",
    "        \"Peso\": [90,80,47,67,68],\n",
    "        \"Estudios\": [\"GITT\", None, None, None, None]\n",
    "        \n",
    "       }\n",
    "df =pd.DataFrame(data)\n",
    "df_elim  = df.dropna(axis = 0)\n",
    "df_elim"
   ]
  },
  {
   "cell_type": "markdown",
   "metadata": {},
   "source": [
    "### Si ponemos axis = 1, rompe toda columna donde haya none / nan\n",
    "- En este caso elimina la columna de estudios y la de nombres, ya que son las columnas donde hay nones..."
   ]
  },
  {
   "cell_type": "code",
   "execution_count": 17,
   "metadata": {},
   "outputs": [
    {
     "data": {
      "text/html": [
       "<div>\n",
       "<style scoped>\n",
       "    .dataframe tbody tr th:only-of-type {\n",
       "        vertical-align: middle;\n",
       "    }\n",
       "\n",
       "    .dataframe tbody tr th {\n",
       "        vertical-align: top;\n",
       "    }\n",
       "\n",
       "    .dataframe thead th {\n",
       "        text-align: right;\n",
       "    }\n",
       "</style>\n",
       "<table border=\"1\" class=\"dataframe\">\n",
       "  <thead>\n",
       "    <tr style=\"text-align: right;\">\n",
       "      <th></th>\n",
       "      <th>Edad</th>\n",
       "      <th>Peso</th>\n",
       "    </tr>\n",
       "  </thead>\n",
       "  <tbody>\n",
       "    <tr>\n",
       "      <th>0</th>\n",
       "      <td>25</td>\n",
       "      <td>90</td>\n",
       "    </tr>\n",
       "    <tr>\n",
       "      <th>1</th>\n",
       "      <td>26</td>\n",
       "      <td>80</td>\n",
       "    </tr>\n",
       "    <tr>\n",
       "      <th>2</th>\n",
       "      <td>28</td>\n",
       "      <td>47</td>\n",
       "    </tr>\n",
       "    <tr>\n",
       "      <th>3</th>\n",
       "      <td>28</td>\n",
       "      <td>67</td>\n",
       "    </tr>\n",
       "    <tr>\n",
       "      <th>4</th>\n",
       "      <td>28</td>\n",
       "      <td>68</td>\n",
       "    </tr>\n",
       "  </tbody>\n",
       "</table>\n",
       "</div>"
      ],
      "text/plain": [
       "   Edad  Peso\n",
       "0    25    90\n",
       "1    26    80\n",
       "2    28    47\n",
       "3    28    67\n",
       "4    28    68"
      ]
     },
     "execution_count": 17,
     "metadata": {},
     "output_type": "execute_result"
    }
   ],
   "source": [
    "\n",
    "data = {\"Nombre\": [\"Antonio\", \"Dani\", \"Pepe\", \"Ana\", None],\n",
    "        \"Edad\": [25,26,28,28,28],\n",
    "        \"Peso\": [90,80,47,67,68],\n",
    "        \"Estudios\": [\"GITT\", None, None, None, None]\n",
    "        \n",
    "       }\n",
    "df =pd.DataFrame(data)\n",
    "df_elim  = df.dropna(axis = 1)\n",
    "df_elim"
   ]
  },
  {
   "cell_type": "code",
   "execution_count": 26,
   "metadata": {},
   "outputs": [
    {
     "data": {
      "text/html": [
       "<div>\n",
       "<style scoped>\n",
       "    .dataframe tbody tr th:only-of-type {\n",
       "        vertical-align: middle;\n",
       "    }\n",
       "\n",
       "    .dataframe tbody tr th {\n",
       "        vertical-align: top;\n",
       "    }\n",
       "\n",
       "    .dataframe thead th {\n",
       "        text-align: right;\n",
       "    }\n",
       "</style>\n",
       "<table border=\"1\" class=\"dataframe\">\n",
       "  <thead>\n",
       "    <tr style=\"text-align: right;\">\n",
       "      <th></th>\n",
       "      <th>A</th>\n",
       "      <th>B</th>\n",
       "      <th>C</th>\n",
       "    </tr>\n",
       "  </thead>\n",
       "  <tbody>\n",
       "    <tr>\n",
       "      <th>0</th>\n",
       "      <td>1.0</td>\n",
       "      <td>5.0</td>\n",
       "      <td>7.0</td>\n",
       "    </tr>\n",
       "    <tr>\n",
       "      <th>3</th>\n",
       "      <td>4.0</td>\n",
       "      <td>8.0</td>\n",
       "      <td>9.0</td>\n",
       "    </tr>\n",
       "  </tbody>\n",
       "</table>\n",
       "</div>"
      ],
      "text/plain": [
       "     A    B    C\n",
       "0  1.0  5.0  7.0\n",
       "3  4.0  8.0  9.0"
      ]
     },
     "execution_count": 26,
     "metadata": {},
     "output_type": "execute_result"
    }
   ],
   "source": [
    "df_sinNa = df.dropna()\n",
    "df_sinNa"
   ]
  },
  {
   "cell_type": "code",
   "execution_count": 39,
   "metadata": {},
   "outputs": [
    {
     "data": {
      "text/html": [
       "<div>\n",
       "<style scoped>\n",
       "    .dataframe tbody tr th:only-of-type {\n",
       "        vertical-align: middle;\n",
       "    }\n",
       "\n",
       "    .dataframe tbody tr th {\n",
       "        vertical-align: top;\n",
       "    }\n",
       "\n",
       "    .dataframe thead th {\n",
       "        text-align: right;\n",
       "    }\n",
       "</style>\n",
       "<table border=\"1\" class=\"dataframe\">\n",
       "  <thead>\n",
       "    <tr style=\"text-align: right;\">\n",
       "      <th></th>\n",
       "      <th>A</th>\n",
       "      <th>B</th>\n",
       "      <th>C</th>\n",
       "    </tr>\n",
       "  </thead>\n",
       "  <tbody>\n",
       "    <tr>\n",
       "      <th>0</th>\n",
       "      <td>1.0</td>\n",
       "      <td>5.0</td>\n",
       "      <td>7.0</td>\n",
       "    </tr>\n",
       "    <tr>\n",
       "      <th>1</th>\n",
       "      <td>2.0</td>\n",
       "      <td>4.0</td>\n",
       "      <td>8.0</td>\n",
       "    </tr>\n",
       "    <tr>\n",
       "      <th>2</th>\n",
       "      <td>4.0</td>\n",
       "      <td>7.0</td>\n",
       "      <td>4.0</td>\n",
       "    </tr>\n",
       "    <tr>\n",
       "      <th>3</th>\n",
       "      <td>4.0</td>\n",
       "      <td>8.0</td>\n",
       "      <td>9.0</td>\n",
       "    </tr>\n",
       "  </tbody>\n",
       "</table>\n",
       "</div>"
      ],
      "text/plain": [
       "     A    B    C\n",
       "0  1.0  5.0  7.0\n",
       "1  2.0  4.0  8.0\n",
       "2  4.0  7.0  4.0\n",
       "3  4.0  8.0  9.0"
      ]
     },
     "execution_count": 39,
     "metadata": {},
     "output_type": "execute_result"
    }
   ],
   "source": [
    "\n",
    "df_lleno = df.fillna(4)\n",
    "\n",
    "df_lleno"
   ]
  },
  {
   "cell_type": "markdown",
   "metadata": {
    "tags": []
   },
   "source": [
    "\n",
    "\n",
    "# 2. Filtros<a id=\"Filtros\"></a>\n",
    "\n",
    "Aplicar filtros sobre los datos es muy útil de cara a conocer como se distribuyen nuestros datos y con ello realizar transformaciones sobre los mismos"
   ]
  },
  {
   "cell_type": "markdown",
   "metadata": {},
   "source": [
    "Los filtros son una parte fundamental del análisis de datos en Pandas. Permiten seleccionar subconjuntos específicos de datos basados en condiciones específicas, lo que facilita la exploración y el análisis de grandes conjuntos de datos. Pandas proporciona varias funciones y métodos para aplicar filtros de manera eficiente en DataFrames.\n",
    "\n",
    "Los filtros en Pandas se utilizan para seleccionar filas o columnas de un DataFrame que cumplan ciertas condiciones. Estas condiciones pueden ser simples o complejas, y se expresan utilizando operadores de comparación, lógicos y funciones booleanas.\n",
    "\n",
    "### Métodos para Aplicar Filtros en Pandas\n",
    "\n",
    "Pandas ofrece varios métodos para aplicar filtros:\n",
    "\n",
    "1. **Indexación Booleana:** Se utiliza una serie booleana para filtrar filas en un DataFrame. La serie booleana tiene la misma longitud que el DataFrame y contiene `True` en las posiciones donde se deben incluir las filas y `False` donde se deben excluir.\n",
    "\n",
    "2. **Método `loc[]`:** Permite seleccionar filas y columnas por etiquetas o condiciones booleanas. Es especialmente útil para seleccionar filas basadas en etiquetas de índice y columnas basadas en nombres.\n",
    "\n",
    "3. **Método `iloc[]`:** Permite seleccionar filas y columnas por posición entera. Se usa para filtrar filas y columnas basadas en su posición en el DataFrame.\n",
    "\n",
    "4. **Función `query()`:** Permite filtrar filas utilizando expresiones de consulta. Es útil para aplicar filtros más complejos utilizando una sintaxis similar a SQL.\n",
    "\n"
   ]
  },
  {
   "cell_type": "code",
   "execution_count": 90,
   "metadata": {},
   "outputs": [
    {
     "name": "stdout",
     "output_type": "stream",
     "text": [
      "Antes del filtro: \n",
      "   A   B  C\n",
      "0  1   6  x\n",
      "1  2   7  y\n",
      "2  3   8  x\n",
      "3  4   9  y\n",
      "4  5  10  z\n",
      "Resultado del filtro:\n",
      "   A   B  C\n",
      "2  3   8  x\n",
      "3  4   9  y\n",
      "4  5  10  z\n",
      "\n",
      "Resultado del filtro con múltiples condiciones:\n",
      "   A  B  C\n",
      "0  1  6  x\n",
      "2  3  8  x\n"
     ]
    }
   ],
   "source": [
    "### Ejemplo de Uso en Pandas :En este ejemplo, se crea un DataFrame de ejemplo y luego se aplican filtros utilizando \n",
    "### una serie booleana y múltiples condiciones. Esto resulta en la selección de subconjuntos específicos de datos que \n",
    "### cumplen con los criterios establecidos.\n",
    "\n",
    "import pandas as pd\n",
    "\n",
    "# Crear un DataFrame de ejemplo\n",
    "data = {'A': [1, 2, 3, 4, 5],\n",
    "        'B': [6, 7, 8, 9, 10],\n",
    "        'C': ['x', 'y', 'x', 'y', 'z']}\n",
    "df = pd.DataFrame(data)\n",
    "print(\"Antes del filtro: \")\n",
    "print(df)\n",
    "# Filtrar filas donde el valor de la columna 'A' sea mayor que 2\n",
    "filtro = df['A'] > 2\n",
    "resultado = df[filtro]\n",
    "print(\"Resultado del filtro:\")\n",
    "print(resultado)\n",
    "print()\n",
    "\n",
    "# Filtrar filas basadas en múltiples condiciones\n",
    "filtro = (df[\"A\"] > 0) & (df[\"C\"] == \"x\")\n",
    "resultado_multiple = df[filtro]\n",
    "print(\"Resultado del filtro con múltiples condiciones:\")\n",
    "print(resultado_multiple)\n",
    "\n"
   ]
  },
  {
   "cell_type": "markdown",
   "metadata": {},
   "source": [
    "### Ejemplos de filtros simples y múltiples\n",
    "- Primero rellenamos los valores por defecto....\n",
    "\n"
   ]
  },
  {
   "cell_type": "markdown",
   "metadata": {},
   "source": [
    "## Múltiples filtros"
   ]
  },
  {
   "cell_type": "code",
   "execution_count": 18,
   "metadata": {},
   "outputs": [
    {
     "data": {
      "text/html": [
       "<div>\n",
       "<style scoped>\n",
       "    .dataframe tbody tr th:only-of-type {\n",
       "        vertical-align: middle;\n",
       "    }\n",
       "\n",
       "    .dataframe tbody tr th {\n",
       "        vertical-align: top;\n",
       "    }\n",
       "\n",
       "    .dataframe thead th {\n",
       "        text-align: right;\n",
       "    }\n",
       "</style>\n",
       "<table border=\"1\" class=\"dataframe\">\n",
       "  <thead>\n",
       "    <tr style=\"text-align: right;\">\n",
       "      <th></th>\n",
       "      <th>Nombre</th>\n",
       "      <th>Edad</th>\n",
       "      <th>Peso</th>\n",
       "      <th>Estudios</th>\n",
       "    </tr>\n",
       "  </thead>\n",
       "  <tbody>\n",
       "    <tr>\n",
       "      <th>123</th>\n",
       "      <td>Antonio</td>\n",
       "      <td>25</td>\n",
       "      <td>90</td>\n",
       "      <td>GITT</td>\n",
       "    </tr>\n",
       "    <tr>\n",
       "      <th>4556</th>\n",
       "      <td>Dani</td>\n",
       "      <td>26</td>\n",
       "      <td>80</td>\n",
       "      <td>Sin estudios</td>\n",
       "    </tr>\n",
       "    <tr>\n",
       "      <th>667</th>\n",
       "      <td>Pepe</td>\n",
       "      <td>28</td>\n",
       "      <td>47</td>\n",
       "      <td>Sin estudios</td>\n",
       "    </tr>\n",
       "    <tr>\n",
       "      <th>788</th>\n",
       "      <td>Ana</td>\n",
       "      <td>28</td>\n",
       "      <td>67</td>\n",
       "      <td>Enfermera</td>\n",
       "    </tr>\n",
       "    <tr>\n",
       "      <th>678</th>\n",
       "      <td>Desconocido</td>\n",
       "      <td>28</td>\n",
       "      <td>68</td>\n",
       "      <td>Sin estudios</td>\n",
       "    </tr>\n",
       "  </tbody>\n",
       "</table>\n",
       "</div>"
      ],
      "text/plain": [
       "           Nombre  Edad  Peso      Estudios\n",
       "123       Antonio    25    90          GITT\n",
       "4556         Dani    26    80  Sin estudios\n",
       "667          Pepe    28    47  Sin estudios\n",
       "788           Ana    28    67     Enfermera\n",
       "678   Desconocido    28    68  Sin estudios"
      ]
     },
     "execution_count": 18,
     "metadata": {},
     "output_type": "execute_result"
    }
   ],
   "source": [
    "data = {\"Nombre\": [\"Antonio\", \"Dani\", \"Pepe\", \"Ana\", None],\n",
    "        \"Edad\": [25,26,28,28,28],\n",
    "        \"Peso\": [90,80,47,67,68],\n",
    "        \"Estudios\": [\"GITT\", None, None, \"Enfermera\", None]\n",
    "        \n",
    "       }\n",
    "df = pd.DataFrame(data, [123,4556,667,788,678])\n",
    "defecto = {\"Estudios\": \"Sin estudios\", \"Nombre\": \"Desconocido\"}\n",
    "df = df.fillna(defecto)\n",
    "df\n"
   ]
  },
  {
   "cell_type": "markdown",
   "metadata": {},
   "source": [
    "### Vamos a ver qué carajo devuelve un filtro"
   ]
  },
  {
   "cell_type": "code",
   "execution_count": 21,
   "metadata": {},
   "outputs": [
    {
     "data": {
      "text/plain": [
       "123     False\n",
       "4556     True\n",
       "667      True\n",
       "788      True\n",
       "678      True\n",
       "Name: Edad, dtype: bool"
      ]
     },
     "execution_count": 21,
     "metadata": {},
     "output_type": "execute_result"
    }
   ],
   "source": [
    "filtro = df[\"Edad\"] > 25\n",
    "filtro\n"
   ]
  },
  {
   "cell_type": "markdown",
   "metadata": {},
   "source": [
    "- Si nos paramos a mirar, lo que devuelve el filtro es una SERIE con booleanos, encontramos un false, quiere decir que EN ESA FILA, la condición devuelve un false, donde vemos un true, quiere decir que EN ESA FILA, la condición de nuestro filtro devuelve un true. De esa forma, lo que hacemos es quedarnos con todas aquellas filas de la columna donde nuestra serie con booleanos presente un true!!!\n",
    "- En este caso, nos quedaremos con todas las filas menos la de antonio"
   ]
  },
  {
   "cell_type": "code",
   "execution_count": 22,
   "metadata": {},
   "outputs": [
    {
     "data": {
      "text/html": [
       "<div>\n",
       "<style scoped>\n",
       "    .dataframe tbody tr th:only-of-type {\n",
       "        vertical-align: middle;\n",
       "    }\n",
       "\n",
       "    .dataframe tbody tr th {\n",
       "        vertical-align: top;\n",
       "    }\n",
       "\n",
       "    .dataframe thead th {\n",
       "        text-align: right;\n",
       "    }\n",
       "</style>\n",
       "<table border=\"1\" class=\"dataframe\">\n",
       "  <thead>\n",
       "    <tr style=\"text-align: right;\">\n",
       "      <th></th>\n",
       "      <th>Nombre</th>\n",
       "      <th>Edad</th>\n",
       "      <th>Peso</th>\n",
       "      <th>Estudios</th>\n",
       "    </tr>\n",
       "  </thead>\n",
       "  <tbody>\n",
       "    <tr>\n",
       "      <th>4556</th>\n",
       "      <td>Dani</td>\n",
       "      <td>26</td>\n",
       "      <td>80</td>\n",
       "      <td>Sin estudios</td>\n",
       "    </tr>\n",
       "    <tr>\n",
       "      <th>667</th>\n",
       "      <td>Pepe</td>\n",
       "      <td>28</td>\n",
       "      <td>47</td>\n",
       "      <td>Sin estudios</td>\n",
       "    </tr>\n",
       "    <tr>\n",
       "      <th>788</th>\n",
       "      <td>Ana</td>\n",
       "      <td>28</td>\n",
       "      <td>67</td>\n",
       "      <td>Enfermera</td>\n",
       "    </tr>\n",
       "    <tr>\n",
       "      <th>678</th>\n",
       "      <td>Desconocido</td>\n",
       "      <td>28</td>\n",
       "      <td>68</td>\n",
       "      <td>Sin estudios</td>\n",
       "    </tr>\n",
       "  </tbody>\n",
       "</table>\n",
       "</div>"
      ],
      "text/plain": [
       "           Nombre  Edad  Peso      Estudios\n",
       "4556         Dani    26    80  Sin estudios\n",
       "667          Pepe    28    47  Sin estudios\n",
       "788           Ana    28    67     Enfermera\n",
       "678   Desconocido    28    68  Sin estudios"
      ]
     },
     "execution_count": 22,
     "metadata": {},
     "output_type": "execute_result"
    }
   ],
   "source": [
    "df[filtro]"
   ]
  },
  {
   "cell_type": "markdown",
   "metadata": {},
   "source": [
    "### Ahora te toca a ti.\n",
    "- Obtén una serie con los nombres de las personas con 28 años\n",
    "- Obtén una serie con los nombres de las personas sin estudios\n",
    "- Obtén un dframe nuevo con la info de aquellas personas cuyo peso sea mayor o igual que 67\n"
   ]
  },
  {
   "cell_type": "code",
   "execution_count": 34,
   "metadata": {},
   "outputs": [
    {
     "data": {
      "text/html": [
       "<div>\n",
       "<style scoped>\n",
       "    .dataframe tbody tr th:only-of-type {\n",
       "        vertical-align: middle;\n",
       "    }\n",
       "\n",
       "    .dataframe tbody tr th {\n",
       "        vertical-align: top;\n",
       "    }\n",
       "\n",
       "    .dataframe thead th {\n",
       "        text-align: right;\n",
       "    }\n",
       "</style>\n",
       "<table border=\"1\" class=\"dataframe\">\n",
       "  <thead>\n",
       "    <tr style=\"text-align: right;\">\n",
       "      <th></th>\n",
       "      <th>Nombre</th>\n",
       "      <th>Edad</th>\n",
       "      <th>Peso</th>\n",
       "      <th>Estudios</th>\n",
       "    </tr>\n",
       "  </thead>\n",
       "  <tbody>\n",
       "    <tr>\n",
       "      <th>123</th>\n",
       "      <td>Antonio</td>\n",
       "      <td>25</td>\n",
       "      <td>90</td>\n",
       "      <td>GITT</td>\n",
       "    </tr>\n",
       "    <tr>\n",
       "      <th>4556</th>\n",
       "      <td>Dani</td>\n",
       "      <td>26</td>\n",
       "      <td>80</td>\n",
       "      <td>Sin estudios</td>\n",
       "    </tr>\n",
       "    <tr>\n",
       "      <th>667</th>\n",
       "      <td>Pepe</td>\n",
       "      <td>28</td>\n",
       "      <td>47</td>\n",
       "      <td>Sin estudios</td>\n",
       "    </tr>\n",
       "    <tr>\n",
       "      <th>788</th>\n",
       "      <td>Ana</td>\n",
       "      <td>28</td>\n",
       "      <td>67</td>\n",
       "      <td>Enfermera</td>\n",
       "    </tr>\n",
       "    <tr>\n",
       "      <th>678</th>\n",
       "      <td>Desconocido</td>\n",
       "      <td>28</td>\n",
       "      <td>68</td>\n",
       "      <td>Sin estudios</td>\n",
       "    </tr>\n",
       "  </tbody>\n",
       "</table>\n",
       "</div>"
      ],
      "text/plain": [
       "           Nombre  Edad  Peso      Estudios\n",
       "123       Antonio    25    90          GITT\n",
       "4556         Dani    26    80  Sin estudios\n",
       "667          Pepe    28    47  Sin estudios\n",
       "788           Ana    28    67     Enfermera\n",
       "678   Desconocido    28    68  Sin estudios"
      ]
     },
     "execution_count": 34,
     "metadata": {},
     "output_type": "execute_result"
    }
   ],
   "source": [
    "df"
   ]
  },
  {
   "cell_type": "markdown",
   "metadata": {},
   "source": [
    "### A. Múltiples Filtros:\n",
    "\n",
    "Puedes aplicar múltiples filtros combinando condiciones usando operadores lógicos como `&` (AND) y `|` (OR). Por ejemplo:\n",
    "- Ojo con la sintaxis y los paréntesis."
   ]
  },
  {
   "cell_type": "markdown",
   "metadata": {},
   "source": [
    "### Vamos a obtener un nuevo df con la info de las personas cuya edad es mayor o igual que 25 Y su peso es mayor que 68"
   ]
  },
  {
   "cell_type": "code",
   "execution_count": 24,
   "metadata": {},
   "outputs": [
    {
     "data": {
      "text/html": [
       "<div>\n",
       "<style scoped>\n",
       "    .dataframe tbody tr th:only-of-type {\n",
       "        vertical-align: middle;\n",
       "    }\n",
       "\n",
       "    .dataframe tbody tr th {\n",
       "        vertical-align: top;\n",
       "    }\n",
       "\n",
       "    .dataframe thead th {\n",
       "        text-align: right;\n",
       "    }\n",
       "</style>\n",
       "<table border=\"1\" class=\"dataframe\">\n",
       "  <thead>\n",
       "    <tr style=\"text-align: right;\">\n",
       "      <th></th>\n",
       "      <th>Nombre</th>\n",
       "      <th>Edad</th>\n",
       "      <th>Peso</th>\n",
       "      <th>Estudios</th>\n",
       "    </tr>\n",
       "  </thead>\n",
       "  <tbody>\n",
       "    <tr>\n",
       "      <th>123</th>\n",
       "      <td>Antonio</td>\n",
       "      <td>25</td>\n",
       "      <td>90</td>\n",
       "      <td>GITT</td>\n",
       "    </tr>\n",
       "    <tr>\n",
       "      <th>4556</th>\n",
       "      <td>Dani</td>\n",
       "      <td>26</td>\n",
       "      <td>80</td>\n",
       "      <td>Sin estudios</td>\n",
       "    </tr>\n",
       "  </tbody>\n",
       "</table>\n",
       "</div>"
      ],
      "text/plain": [
       "       Nombre  Edad  Peso      Estudios\n",
       "123   Antonio    25    90          GITT\n",
       "4556     Dani    26    80  Sin estudios"
      ]
     },
     "execution_count": 24,
     "metadata": {},
     "output_type": "execute_result"
    }
   ],
   "source": [
    "filtro = ((df[\"Edad\"] >= 25) & (df[\"Peso\"] > 68))\n",
    "df[filtro].head()"
   ]
  },
  {
   "cell_type": "markdown",
   "metadata": {},
   "source": [
    "### Vamos a obtener un df con la info de las personas sin estudios o GITT.\n"
   ]
  },
  {
   "cell_type": "code",
   "execution_count": 32,
   "metadata": {},
   "outputs": [
    {
     "data": {
      "text/html": [
       "<div>\n",
       "<style scoped>\n",
       "    .dataframe tbody tr th:only-of-type {\n",
       "        vertical-align: middle;\n",
       "    }\n",
       "\n",
       "    .dataframe tbody tr th {\n",
       "        vertical-align: top;\n",
       "    }\n",
       "\n",
       "    .dataframe thead th {\n",
       "        text-align: right;\n",
       "    }\n",
       "</style>\n",
       "<table border=\"1\" class=\"dataframe\">\n",
       "  <thead>\n",
       "    <tr style=\"text-align: right;\">\n",
       "      <th></th>\n",
       "      <th>Nombre</th>\n",
       "      <th>Edad</th>\n",
       "      <th>Peso</th>\n",
       "      <th>Estudios</th>\n",
       "    </tr>\n",
       "  </thead>\n",
       "  <tbody>\n",
       "    <tr>\n",
       "      <th>123</th>\n",
       "      <td>Antonio</td>\n",
       "      <td>25</td>\n",
       "      <td>90</td>\n",
       "      <td>GITT</td>\n",
       "    </tr>\n",
       "    <tr>\n",
       "      <th>4556</th>\n",
       "      <td>Dani</td>\n",
       "      <td>26</td>\n",
       "      <td>80</td>\n",
       "      <td>Sin estudios</td>\n",
       "    </tr>\n",
       "    <tr>\n",
       "      <th>667</th>\n",
       "      <td>Pepe</td>\n",
       "      <td>28</td>\n",
       "      <td>47</td>\n",
       "      <td>Sin estudios</td>\n",
       "    </tr>\n",
       "    <tr>\n",
       "      <th>678</th>\n",
       "      <td>Desconocido</td>\n",
       "      <td>28</td>\n",
       "      <td>68</td>\n",
       "      <td>Sin estudios</td>\n",
       "    </tr>\n",
       "  </tbody>\n",
       "</table>\n",
       "</div>"
      ],
      "text/plain": [
       "           Nombre  Edad  Peso      Estudios\n",
       "123       Antonio    25    90          GITT\n",
       "4556         Dani    26    80  Sin estudios\n",
       "667          Pepe    28    47  Sin estudios\n",
       "678   Desconocido    28    68  Sin estudios"
      ]
     },
     "execution_count": 32,
     "metadata": {},
     "output_type": "execute_result"
    }
   ],
   "source": [
    "filtro = ((df[\"Estudios\"] == \"Sin estudios\") | (df[\"Estudios\"] == \"GITT\"))\n",
    "df[filtro]"
   ]
  },
  {
   "cell_type": "markdown",
   "metadata": {},
   "source": [
    "### Vamos a obtener un df con la info de aquellos sin estudios que pesen más de 50 o con aquellos que hayan estudiado GITT"
   ]
  },
  {
   "cell_type": "code",
   "execution_count": 37,
   "metadata": {},
   "outputs": [
    {
     "data": {
      "text/html": [
       "<div>\n",
       "<style scoped>\n",
       "    .dataframe tbody tr th:only-of-type {\n",
       "        vertical-align: middle;\n",
       "    }\n",
       "\n",
       "    .dataframe tbody tr th {\n",
       "        vertical-align: top;\n",
       "    }\n",
       "\n",
       "    .dataframe thead th {\n",
       "        text-align: right;\n",
       "    }\n",
       "</style>\n",
       "<table border=\"1\" class=\"dataframe\">\n",
       "  <thead>\n",
       "    <tr style=\"text-align: right;\">\n",
       "      <th></th>\n",
       "      <th>Nombre</th>\n",
       "      <th>Edad</th>\n",
       "      <th>Peso</th>\n",
       "      <th>Estudios</th>\n",
       "    </tr>\n",
       "  </thead>\n",
       "  <tbody>\n",
       "    <tr>\n",
       "      <th>123</th>\n",
       "      <td>Antonio</td>\n",
       "      <td>25</td>\n",
       "      <td>90</td>\n",
       "      <td>GITT</td>\n",
       "    </tr>\n",
       "    <tr>\n",
       "      <th>4556</th>\n",
       "      <td>Dani</td>\n",
       "      <td>26</td>\n",
       "      <td>80</td>\n",
       "      <td>Sin estudios</td>\n",
       "    </tr>\n",
       "    <tr>\n",
       "      <th>678</th>\n",
       "      <td>Desconocido</td>\n",
       "      <td>28</td>\n",
       "      <td>68</td>\n",
       "      <td>Sin estudios</td>\n",
       "    </tr>\n",
       "  </tbody>\n",
       "</table>\n",
       "</div>"
      ],
      "text/plain": [
       "           Nombre  Edad  Peso      Estudios\n",
       "123       Antonio    25    90          GITT\n",
       "4556         Dani    26    80  Sin estudios\n",
       "678   Desconocido    28    68  Sin estudios"
      ]
     },
     "execution_count": 37,
     "metadata": {},
     "output_type": "execute_result"
    }
   ],
   "source": [
    "filtro = ((df[\"Estudios\"] == \"Sin estudios\") & (df[\"Peso\"] > 50)) | (df[\"Estudios\"] == \"GITT\")\n",
    "df_filtrado = df[filtro]\n",
    "df_filtrado.head()"
   ]
  },
  {
   "cell_type": "markdown",
   "metadata": {},
   "source": [
    "### Ahora te toca a ti. "
   ]
  },
  {
   "cell_type": "markdown",
   "metadata": {},
   "source": [
    "- Obtén el nombre de las personas cuyo peso sea 25 o que no hayan estudiado nada\n",
    "- Obten un nuevo df con la información de las personas cuyo nombre es desconocido y que tengan más de 25 años\n",
    "- Obten los nombres de aquellas personas que: Sean mayores de edad y pesen menos de 100 o tengan nombre desconocido. \n"
   ]
  },
  {
   "cell_type": "markdown",
   "metadata": {},
   "source": [
    "### B. Método `isin()`:\n",
    "\n",
    "El método `isin()` se utiliza para filtrar filas donde una columna tenga uno de varios valores específicos. Por ejemplo:\n",
    "- Basicamente me está devolviendo un array de booleanos, me quedaré con los que hayan devuelto true\n",
    "- Si entiendes los filtros normales, no tienes que rayarte\n"
   ]
  },
  {
   "cell_type": "code",
   "execution_count": 38,
   "metadata": {},
   "outputs": [
    {
     "data": {
      "text/html": [
       "<div>\n",
       "<style scoped>\n",
       "    .dataframe tbody tr th:only-of-type {\n",
       "        vertical-align: middle;\n",
       "    }\n",
       "\n",
       "    .dataframe tbody tr th {\n",
       "        vertical-align: top;\n",
       "    }\n",
       "\n",
       "    .dataframe thead th {\n",
       "        text-align: right;\n",
       "    }\n",
       "</style>\n",
       "<table border=\"1\" class=\"dataframe\">\n",
       "  <thead>\n",
       "    <tr style=\"text-align: right;\">\n",
       "      <th></th>\n",
       "      <th>Nombre</th>\n",
       "      <th>Edad</th>\n",
       "      <th>Peso</th>\n",
       "      <th>Estudios</th>\n",
       "    </tr>\n",
       "  </thead>\n",
       "  <tbody>\n",
       "    <tr>\n",
       "      <th>123</th>\n",
       "      <td>Lucas</td>\n",
       "      <td>25</td>\n",
       "      <td>90</td>\n",
       "      <td>GITT</td>\n",
       "    </tr>\n",
       "    <tr>\n",
       "      <th>667</th>\n",
       "      <td>Pepe</td>\n",
       "      <td>28</td>\n",
       "      <td>47</td>\n",
       "      <td>Sin estudios</td>\n",
       "    </tr>\n",
       "    <tr>\n",
       "      <th>788</th>\n",
       "      <td>Ana</td>\n",
       "      <td>28</td>\n",
       "      <td>67</td>\n",
       "      <td>Enfermera</td>\n",
       "    </tr>\n",
       "    <tr>\n",
       "      <th>678</th>\n",
       "      <td>Desconocido</td>\n",
       "      <td>28</td>\n",
       "      <td>68</td>\n",
       "      <td>Sin estudios</td>\n",
       "    </tr>\n",
       "  </tbody>\n",
       "</table>\n",
       "</div>"
      ],
      "text/plain": [
       "          Nombre  Edad  Peso      Estudios\n",
       "123        Lucas    25    90          GITT\n",
       "667         Pepe    28    47  Sin estudios\n",
       "788          Ana    28    67     Enfermera\n",
       "678  Desconocido    28    68  Sin estudios"
      ]
     },
     "execution_count": 38,
     "metadata": {},
     "output_type": "execute_result"
    }
   ],
   "source": [
    "data = {\"Nombre\": [\"Lucas\", \"Dani\", \"Pepe\", \"Ana\", None],\n",
    "        \"Edad\": [25,26,28,28,28],\n",
    "        \"Peso\": [90,80,47,67,68],\n",
    "        \"Estudios\": [\"GITT\", None, None, \"Enfermera\", None]\n",
    "        \n",
    "       }\n",
    "df = pd.DataFrame(data, [123,4556,667,788,678])\n",
    "defecto = {\"Estudios\": \"Sin estudios\", \"Nombre\": \"Desconocido\"}\n",
    "df = df.fillna(defecto)\n",
    "df = df[df[\"Edad\"].isin([25,28])]\n",
    "df\n",
    "\n"
   ]
  },
  {
   "cell_type": "markdown",
   "metadata": {},
   "source": [
    "### Fíjate lo que devuelve..."
   ]
  },
  {
   "cell_type": "code",
   "execution_count": 2,
   "metadata": {},
   "outputs": [
    {
     "data": {
      "text/plain": [
       "123      True\n",
       "4556    False\n",
       "667      True\n",
       "788      True\n",
       "678      True\n",
       "Name: Edad, dtype: bool"
      ]
     },
     "execution_count": 2,
     "metadata": {},
     "output_type": "execute_result"
    }
   ],
   "source": [
    "data = {\"Nombre\": [\"Lucas\", \"Dani\", \"Pepe\", \"Ana\", None],\n",
    "        \"Edad\": [25,26,28,28,28],\n",
    "        \"Peso\": [90,80,47,67,68],\n",
    "        \"Estudios\": [\"GITT\", None, None, \"Enfermera\", None]\n",
    "        \n",
    "       }\n",
    "df = pd.DataFrame(data, [123,4556,667,788,678])\n",
    "df[\"Edad\"].isin([25,28])"
   ]
  },
  {
   "cell_type": "markdown",
   "metadata": {},
   "source": [
    "### C. Método `iloc[]`:\n",
    "\n",
    "El método `iloc[]` se utiliza para acceder a filas y columnas por posición entera. Puedes usar índices enteros para seleccionar filas y columnas. Por ejemplo:"
   ]
  },
  {
   "cell_type": "code",
   "execution_count": 141,
   "metadata": {},
   "outputs": [
    {
     "data": {
      "text/html": [
       "<div>\n",
       "<style scoped>\n",
       "    .dataframe tbody tr th:only-of-type {\n",
       "        vertical-align: middle;\n",
       "    }\n",
       "\n",
       "    .dataframe tbody tr th {\n",
       "        vertical-align: top;\n",
       "    }\n",
       "\n",
       "    .dataframe thead th {\n",
       "        text-align: right;\n",
       "    }\n",
       "</style>\n",
       "<table border=\"1\" class=\"dataframe\">\n",
       "  <thead>\n",
       "    <tr style=\"text-align: right;\">\n",
       "      <th></th>\n",
       "      <th>Nombre</th>\n",
       "      <th>Edad</th>\n",
       "      <th>Peso</th>\n",
       "      <th>Estudios</th>\n",
       "    </tr>\n",
       "  </thead>\n",
       "  <tbody>\n",
       "    <tr>\n",
       "      <th>123</th>\n",
       "      <td>Lucas</td>\n",
       "      <td>25</td>\n",
       "      <td>90</td>\n",
       "      <td>GITT</td>\n",
       "    </tr>\n",
       "    <tr>\n",
       "      <th>4556</th>\n",
       "      <td>Dani</td>\n",
       "      <td>26</td>\n",
       "      <td>80</td>\n",
       "      <td>Sin estudios</td>\n",
       "    </tr>\n",
       "    <tr>\n",
       "      <th>667</th>\n",
       "      <td>Pepe</td>\n",
       "      <td>28</td>\n",
       "      <td>47</td>\n",
       "      <td>Sin estudios</td>\n",
       "    </tr>\n",
       "    <tr>\n",
       "      <th>788</th>\n",
       "      <td>Ana</td>\n",
       "      <td>28</td>\n",
       "      <td>67</td>\n",
       "      <td>Enfermera</td>\n",
       "    </tr>\n",
       "    <tr>\n",
       "      <th>678</th>\n",
       "      <td>Desconocido</td>\n",
       "      <td>28</td>\n",
       "      <td>68</td>\n",
       "      <td>Sin estudios</td>\n",
       "    </tr>\n",
       "  </tbody>\n",
       "</table>\n",
       "</div>"
      ],
      "text/plain": [
       "           Nombre  Edad  Peso      Estudios\n",
       "123         Lucas    25    90          GITT\n",
       "4556         Dani    26    80  Sin estudios\n",
       "667          Pepe    28    47  Sin estudios\n",
       "788           Ana    28    67     Enfermera\n",
       "678   Desconocido    28    68  Sin estudios"
      ]
     },
     "execution_count": 141,
     "metadata": {},
     "output_type": "execute_result"
    }
   ],
   "source": [
    "# Seleccionar la primera fila y la segunda columna\n",
    "data = {\"Nombre\": [\"Lucas\", \"Dani\", \"Pepe\", \"Ana\", None],\n",
    "        \"Edad\": [25,26,28,28,28],\n",
    "        \"Peso\": [90,80,47,67,68],\n",
    "        \"Estudios\": [\"GITT\", None, None, \"Enfermera\", None]\n",
    "        \n",
    "       }\n",
    "df = pd.DataFrame(data, [123,4556,667,788,678])\n",
    "defecto = {\"Estudios\": \"Sin estudios\", \"Nombre\": \"Desconocido\"}\n",
    "df = df.fillna(defecto)\n",
    "df.iloc[:,:]# Fila columna!! Puedo jugar con slicing"
   ]
  },
  {
   "cell_type": "markdown",
   "metadata": {},
   "source": [
    "### D. Método `loc[]`:\n",
    "\n",
    "El método `loc[]` se utiliza para acceder a filas y columnas por etiqueta. Puedes usar etiquetas de índice y nombres de columnas para seleccionar filas y columnas. Por ejemplo:"
   ]
  },
  {
   "cell_type": "code",
   "execution_count": 145,
   "metadata": {},
   "outputs": [
    {
     "data": {
      "text/html": [
       "<div>\n",
       "<style scoped>\n",
       "    .dataframe tbody tr th:only-of-type {\n",
       "        vertical-align: middle;\n",
       "    }\n",
       "\n",
       "    .dataframe tbody tr th {\n",
       "        vertical-align: top;\n",
       "    }\n",
       "\n",
       "    .dataframe thead th {\n",
       "        text-align: right;\n",
       "    }\n",
       "</style>\n",
       "<table border=\"1\" class=\"dataframe\">\n",
       "  <thead>\n",
       "    <tr style=\"text-align: right;\">\n",
       "      <th></th>\n",
       "      <th>Nombre</th>\n",
       "      <th>Edad</th>\n",
       "      <th>Peso</th>\n",
       "      <th>Estudios</th>\n",
       "    </tr>\n",
       "  </thead>\n",
       "  <tbody>\n",
       "    <tr>\n",
       "      <th>123</th>\n",
       "      <td>Lucas</td>\n",
       "      <td>25</td>\n",
       "      <td>90</td>\n",
       "      <td>GITT</td>\n",
       "    </tr>\n",
       "    <tr>\n",
       "      <th>4556</th>\n",
       "      <td>Dani</td>\n",
       "      <td>26</td>\n",
       "      <td>80</td>\n",
       "      <td>Sin estudios</td>\n",
       "    </tr>\n",
       "    <tr>\n",
       "      <th>667</th>\n",
       "      <td>Pepe</td>\n",
       "      <td>28</td>\n",
       "      <td>47</td>\n",
       "      <td>Sin estudios</td>\n",
       "    </tr>\n",
       "    <tr>\n",
       "      <th>788</th>\n",
       "      <td>Ana</td>\n",
       "      <td>28</td>\n",
       "      <td>67</td>\n",
       "      <td>Enfermera</td>\n",
       "    </tr>\n",
       "    <tr>\n",
       "      <th>678</th>\n",
       "      <td>Desconocido</td>\n",
       "      <td>28</td>\n",
       "      <td>68</td>\n",
       "      <td>Sin estudios</td>\n",
       "    </tr>\n",
       "  </tbody>\n",
       "</table>\n",
       "</div>"
      ],
      "text/plain": [
       "           Nombre  Edad  Peso      Estudios\n",
       "123         Lucas    25    90          GITT\n",
       "4556         Dani    26    80  Sin estudios\n",
       "667          Pepe    28    47  Sin estudios\n",
       "788           Ana    28    67     Enfermera\n",
       "678   Desconocido    28    68  Sin estudios"
      ]
     },
     "execution_count": 145,
     "metadata": {},
     "output_type": "execute_result"
    }
   ],
   "source": [
    "# Seleccionar la fila con etiqueta de índice 0 y la columna 'B'\n",
    "valor = df.loc[:, :]\n",
    "valor"
   ]
  },
  {
   "cell_type": "markdown",
   "metadata": {},
   "source": [
    "### E. Función `query()`:\n",
    "\n",
    "La función `query()` permite filtrar filas de un DataFrame utilizando una expresión de consulta similar a la sintaxis de SQL. Esta función es especialmente útil cuando necesitas aplicar filtros más complejos o cuando quieres escribir expresiones de filtro de manera más legible y concisa.\n",
    "- La sintaxis es algo más compleja, mi recomendación es usar filtros normales..."
   ]
  },
  {
   "cell_type": "code",
   "execution_count": 158,
   "metadata": {},
   "outputs": [
    {
     "data": {
      "text/html": [
       "<div>\n",
       "<style scoped>\n",
       "    .dataframe tbody tr th:only-of-type {\n",
       "        vertical-align: middle;\n",
       "    }\n",
       "\n",
       "    .dataframe tbody tr th {\n",
       "        vertical-align: top;\n",
       "    }\n",
       "\n",
       "    .dataframe thead th {\n",
       "        text-align: right;\n",
       "    }\n",
       "</style>\n",
       "<table border=\"1\" class=\"dataframe\">\n",
       "  <thead>\n",
       "    <tr style=\"text-align: right;\">\n",
       "      <th></th>\n",
       "      <th>Nombre</th>\n",
       "      <th>Edad</th>\n",
       "      <th>Peso</th>\n",
       "      <th>Estudios</th>\n",
       "    </tr>\n",
       "  </thead>\n",
       "  <tbody>\n",
       "    <tr>\n",
       "      <th>4556</th>\n",
       "      <td>Dani</td>\n",
       "      <td>26</td>\n",
       "      <td>80</td>\n",
       "      <td>Sin estudios</td>\n",
       "    </tr>\n",
       "    <tr>\n",
       "      <th>667</th>\n",
       "      <td>Pepe</td>\n",
       "      <td>28</td>\n",
       "      <td>47</td>\n",
       "      <td>Sin estudios</td>\n",
       "    </tr>\n",
       "    <tr>\n",
       "      <th>678</th>\n",
       "      <td>None</td>\n",
       "      <td>28</td>\n",
       "      <td>68</td>\n",
       "      <td>Sin estudios</td>\n",
       "    </tr>\n",
       "  </tbody>\n",
       "</table>\n",
       "</div>"
      ],
      "text/plain": [
       "     Nombre  Edad  Peso      Estudios\n",
       "4556   Dani    26    80  Sin estudios\n",
       "667    Pepe    28    47  Sin estudios\n",
       "678    None    28    68  Sin estudios"
      ]
     },
     "execution_count": 158,
     "metadata": {},
     "output_type": "execute_result"
    }
   ],
   "source": [
    "## pruebas\n",
    "\n",
    "import pandas as pd\n",
    "\n",
    "# Seleccionar la primera fila y la segunda columna\n",
    "data = {\"Nombre\": [\"Lucas\", \"Dani\", \"Pepe\", \"Ana\", None],\n",
    "        \"Edad\": [25,26,28,28,28],\n",
    "        \"Peso\": [90,80,47,67,68],\n",
    "        \"Estudios\": [\"GITT\", None, None, \"Enfermera\", None]\n",
    "        \n",
    "       }\n",
    "df = pd.DataFrame(data, [123,4556,667,788,678])\n",
    "df = df.fillna({\"Estudios\":\"Sin estudios\"})\n",
    "df\n",
    "df = df.query('Edad > 25 and Estudios == \"Sin estudios\"')\n",
    "df"
   ]
  },
  {
   "cell_type": "code",
   "execution_count": 159,
   "metadata": {},
   "outputs": [
    {
     "name": "stdout",
     "output_type": "stream",
     "text": [
      "   A  B  C\n",
      "2  3  8  x\n"
     ]
    }
   ],
   "source": [
    "\n",
    "import pandas as pd\n",
    "\n",
    "# Crear un DataFrame de ejemplo\n",
    "data = {'A': [1, 2, 3, 4, 5],\n",
    "        'B': [6, 7, 8, 9, 10],\n",
    "        'C': ['x', 'y', 'x', 'y', 'z']}\n",
    "df = pd.DataFrame(data)\n",
    "\n",
    "# Usar la función query() para filtrar filas donde 'A' sea mayor que 2 y 'C' sea 'x'\n",
    "resultado = df.query('A > 2 and C == \"x\"')\n",
    "print(resultado)\n",
    "\n",
    "\n",
    "### En este ejemplo, la expresión de consulta `'A > 2 and C == \"x\"'` se evalúa para cada fila del DataFrame. \n",
    "### Solo se seleccionan las filas que cumplan con esta condición, es decir, donde el valor en la columna 'A' \n",
    "### sea mayor que 2 y el valor en la columna 'C' sea igual a 'x'.\n",
    "\n"
   ]
  },
  {
   "cell_type": "code",
   "execution_count": 3,
   "metadata": {},
   "outputs": [
    {
     "data": {
      "text/html": [
       "<div>\n",
       "<style scoped>\n",
       "    .dataframe tbody tr th:only-of-type {\n",
       "        vertical-align: middle;\n",
       "    }\n",
       "\n",
       "    .dataframe tbody tr th {\n",
       "        vertical-align: top;\n",
       "    }\n",
       "\n",
       "    .dataframe thead th {\n",
       "        text-align: right;\n",
       "    }\n",
       "</style>\n",
       "<table border=\"1\" class=\"dataframe\">\n",
       "  <thead>\n",
       "    <tr style=\"text-align: right;\">\n",
       "      <th></th>\n",
       "      <th>Nombre</th>\n",
       "      <th>Edad</th>\n",
       "      <th>Peso</th>\n",
       "      <th>Estudios</th>\n",
       "    </tr>\n",
       "  </thead>\n",
       "  <tbody>\n",
       "    <tr>\n",
       "      <th>4556</th>\n",
       "      <td>Dani</td>\n",
       "      <td>26</td>\n",
       "      <td>80</td>\n",
       "      <td>Sin estudios</td>\n",
       "    </tr>\n",
       "    <tr>\n",
       "      <th>667</th>\n",
       "      <td>Pepe</td>\n",
       "      <td>28</td>\n",
       "      <td>47</td>\n",
       "      <td>Sin estudios</td>\n",
       "    </tr>\n",
       "    <tr>\n",
       "      <th>678</th>\n",
       "      <td>None</td>\n",
       "      <td>28</td>\n",
       "      <td>68</td>\n",
       "      <td>Sin estudios</td>\n",
       "    </tr>\n",
       "  </tbody>\n",
       "</table>\n",
       "</div>"
      ],
      "text/plain": [
       "     Nombre  Edad  Peso      Estudios\n",
       "4556   Dani    26    80  Sin estudios\n",
       "667    Pepe    28    47  Sin estudios\n",
       "678    None    28    68  Sin estudios"
      ]
     },
     "execution_count": 3,
     "metadata": {},
     "output_type": "execute_result"
    }
   ],
   "source": [
    "## pruebas\n",
    "\n",
    "import pandas as pd\n",
    "\n",
    "# Seleccionar la primera fila y la segunda columna\n",
    "data = {\"Nombre\": [\"Antonio\", \"Dani\", \"Pepe\", \"Ana\", None],\n",
    "        \"Edad\": [25,26,28,28,28],\n",
    "        \"Peso\": [90,80,47,67,68],\n",
    "        \"Estudios\": [\"GITT\", None, None, \"Enfermera\", None]\n",
    "        \n",
    "       }\n",
    "df = pd.DataFrame(data, [123,4556,667,788,678])\n",
    "df = df.fillna({\"Estudios\":\"Sin estudios\"})\n",
    "df\n",
    "df = df.query('Edad > 25 and Estudios == \"Sin estudios\"')\n",
    "df"
   ]
  },
  {
   "cell_type": "markdown",
   "metadata": {
    "tags": []
   },
   "source": [
    "\n",
    "\n",
    "# 3. Ordenar<a id=\"Ordenar\"></a>\n",
    "\n",
    "Ordenar de forma ascendente/descendente en función de los datos o índices que acabamos de crear, es útil para otras operaciones ya que acelera las búsquedas dentro del dataset\n",
    "\n"
   ]
  },
  {
   "cell_type": "markdown",
   "metadata": {},
   "source": [
    "### Ordenar un DataFrame por una columna\n",
    "\n",
    "Para ordenar un DataFrame por los valores de una sola columna, puedes usar el método `sort_values()` especificando el nombre de la columna por la cual deseas ordenar. Por ejemplo:"
   ]
  },
  {
   "cell_type": "markdown",
   "metadata": {},
   "source": [
    "### Parámetros adicionales\n",
    "\n",
    "- **ascending**: Puedes especificar si deseas ordenar en orden ascendente o descendente. Por defecto, es True (ascendente).\n",
    "- **inplace**: Si deseas modificar el DataFrame original, puedes establecer inplace=True. Por defecto, es False.\n"
   ]
  },
  {
   "cell_type": "code",
   "execution_count": 45,
   "metadata": {},
   "outputs": [
    {
     "data": {
      "text/html": [
       "<div>\n",
       "<style scoped>\n",
       "    .dataframe tbody tr th:only-of-type {\n",
       "        vertical-align: middle;\n",
       "    }\n",
       "\n",
       "    .dataframe tbody tr th {\n",
       "        vertical-align: top;\n",
       "    }\n",
       "\n",
       "    .dataframe thead th {\n",
       "        text-align: right;\n",
       "    }\n",
       "</style>\n",
       "<table border=\"1\" class=\"dataframe\">\n",
       "  <thead>\n",
       "    <tr style=\"text-align: right;\">\n",
       "      <th></th>\n",
       "      <th>Nombre</th>\n",
       "      <th>Edad</th>\n",
       "    </tr>\n",
       "  </thead>\n",
       "  <tbody>\n",
       "    <tr>\n",
       "      <th>2</th>\n",
       "      <td>Pedro</td>\n",
       "      <td>20</td>\n",
       "    </tr>\n",
       "    <tr>\n",
       "      <th>0</th>\n",
       "      <td>Juan</td>\n",
       "      <td>25</td>\n",
       "    </tr>\n",
       "    <tr>\n",
       "      <th>1</th>\n",
       "      <td>María</td>\n",
       "      <td>30</td>\n",
       "    </tr>\n",
       "    <tr>\n",
       "      <th>3</th>\n",
       "      <td>Ana</td>\n",
       "      <td>35</td>\n",
       "    </tr>\n",
       "  </tbody>\n",
       "</table>\n",
       "</div>"
      ],
      "text/plain": [
       "  Nombre  Edad\n",
       "2  Pedro    20\n",
       "0   Juan    25\n",
       "1  María    30\n",
       "3    Ana    35"
      ]
     },
     "execution_count": 45,
     "metadata": {},
     "output_type": "execute_result"
    }
   ],
   "source": [
    "import pandas as pd\n",
    "\n",
    "# Crear un DataFrame de ejemplo\n",
    "data = {'Nombre': ['Juan', 'María', 'Pedro', 'Ana'],\n",
    "        'Edad': [25, 30, 20, 35]}\n",
    "df = pd.DataFrame(data)\n",
    "\n",
    "# Ordenar el DataFrame por la columna 'Edad' en orden ascendente\n",
    "#df.sort_values(by='Edad', inplace = True) # Puedes jugar con el inplace....\n",
    "df_ordenado = df.sort_values(by='Edad')\n",
    "df_ordenado"
   ]
  },
  {
   "cell_type": "markdown",
   "metadata": {},
   "source": [
    "# Ejemplos\n",
    "\n",
    "- Vamos a ordenar el df por edad. Obteniendo un nueo df, es decir, no vamos a usar el inplace. \n"
   ]
  },
  {
   "cell_type": "code",
   "execution_count": 17,
   "metadata": {},
   "outputs": [
    {
     "data": {
      "text/html": [
       "<div>\n",
       "<style scoped>\n",
       "    .dataframe tbody tr th:only-of-type {\n",
       "        vertical-align: middle;\n",
       "    }\n",
       "\n",
       "    .dataframe tbody tr th {\n",
       "        vertical-align: top;\n",
       "    }\n",
       "\n",
       "    .dataframe thead th {\n",
       "        text-align: right;\n",
       "    }\n",
       "</style>\n",
       "<table border=\"1\" class=\"dataframe\">\n",
       "  <thead>\n",
       "    <tr style=\"text-align: right;\">\n",
       "      <th></th>\n",
       "      <th>Nombre</th>\n",
       "      <th>Edad</th>\n",
       "      <th>Peso</th>\n",
       "      <th>Estudios</th>\n",
       "    </tr>\n",
       "  </thead>\n",
       "  <tbody>\n",
       "    <tr>\n",
       "      <th>123</th>\n",
       "      <td>Antonio</td>\n",
       "      <td>25</td>\n",
       "      <td>90</td>\n",
       "      <td>GITT</td>\n",
       "    </tr>\n",
       "    <tr>\n",
       "      <th>4556</th>\n",
       "      <td>Dani</td>\n",
       "      <td>26</td>\n",
       "      <td>80</td>\n",
       "      <td>Sin estudios</td>\n",
       "    </tr>\n",
       "    <tr>\n",
       "      <th>667</th>\n",
       "      <td>Pepe</td>\n",
       "      <td>28</td>\n",
       "      <td>47</td>\n",
       "      <td>Sin estudios</td>\n",
       "    </tr>\n",
       "    <tr>\n",
       "      <th>788</th>\n",
       "      <td>Ana</td>\n",
       "      <td>28</td>\n",
       "      <td>67</td>\n",
       "      <td>Enfermera</td>\n",
       "    </tr>\n",
       "    <tr>\n",
       "      <th>678</th>\n",
       "      <td>Desconocido</td>\n",
       "      <td>28</td>\n",
       "      <td>68</td>\n",
       "      <td>Sin estudios</td>\n",
       "    </tr>\n",
       "  </tbody>\n",
       "</table>\n",
       "</div>"
      ],
      "text/plain": [
       "           Nombre  Edad  Peso      Estudios\n",
       "123       Antonio    25    90          GITT\n",
       "4556         Dani    26    80  Sin estudios\n",
       "667          Pepe    28    47  Sin estudios\n",
       "788           Ana    28    67     Enfermera\n",
       "678   Desconocido    28    68  Sin estudios"
      ]
     },
     "execution_count": 17,
     "metadata": {},
     "output_type": "execute_result"
    }
   ],
   "source": [
    "import pandas as pd\n",
    "\n",
    "# Seleccionar la primera fila y la segunda columna\n",
    "data = {\"Nombre\": [\"Antonio\", \"Dani\", \"Pepe\", \"Ana\", None],\n",
    "        \"Edad\": [25,26,28,28,28],\n",
    "        \"Peso\": [90,80,47,67,68],\n",
    "        \"Estudios\": [\"GITT\", None, None, \"Enfermera\", None]\n",
    "        \n",
    "       }\n",
    "df = pd.DataFrame(data, [123,4556,667,788,678])\n",
    "df = df.fillna({\"Estudios\":\"Sin estudios\", \"Nombre\":\"Desconocido\"})\n",
    "df\n",
    "df = df.sort_values(by=\"Edad\", ascending = True)\n",
    "df"
   ]
  },
  {
   "cell_type": "markdown",
   "metadata": {},
   "source": [
    "# ¿Y en caso de empate? ¿Qué ocurre?\n",
    "- Podemos decirle al método sortvalues que, cuando ordene en base  aun parámetro, siga ordenando en base a otro. Para ello, en el by pasamos una lista con las dos claves que queremos utilizar para ordenar y en el ascending una lista de booleanos. Este se conoce como ordenar por múltiples columnas. "
   ]
  },
  {
   "cell_type": "markdown",
   "metadata": {},
   "source": [
    "### En este primer ejemplo vamos a ordenar la edad en orden ascendente y, en caso de empate, el método se fijará en el peso, en orden ascendente también. \n",
    "- En este caso, cuando las edades empatan, ordena por el peso, en orden ascendente. Por ello, aparece primero Pepe, luego Ana y luego desconocido. "
   ]
  },
  {
   "cell_type": "code",
   "execution_count": 18,
   "metadata": {},
   "outputs": [
    {
     "data": {
      "text/html": [
       "<div>\n",
       "<style scoped>\n",
       "    .dataframe tbody tr th:only-of-type {\n",
       "        vertical-align: middle;\n",
       "    }\n",
       "\n",
       "    .dataframe tbody tr th {\n",
       "        vertical-align: top;\n",
       "    }\n",
       "\n",
       "    .dataframe thead th {\n",
       "        text-align: right;\n",
       "    }\n",
       "</style>\n",
       "<table border=\"1\" class=\"dataframe\">\n",
       "  <thead>\n",
       "    <tr style=\"text-align: right;\">\n",
       "      <th></th>\n",
       "      <th>Nombre</th>\n",
       "      <th>Edad</th>\n",
       "      <th>Peso</th>\n",
       "      <th>Estudios</th>\n",
       "    </tr>\n",
       "  </thead>\n",
       "  <tbody>\n",
       "    <tr>\n",
       "      <th>123</th>\n",
       "      <td>Antonio</td>\n",
       "      <td>25</td>\n",
       "      <td>90</td>\n",
       "      <td>GITT</td>\n",
       "    </tr>\n",
       "    <tr>\n",
       "      <th>4556</th>\n",
       "      <td>Dani</td>\n",
       "      <td>26</td>\n",
       "      <td>80</td>\n",
       "      <td>Sin estudios</td>\n",
       "    </tr>\n",
       "    <tr>\n",
       "      <th>667</th>\n",
       "      <td>Pepe</td>\n",
       "      <td>28</td>\n",
       "      <td>47</td>\n",
       "      <td>Sin estudios</td>\n",
       "    </tr>\n",
       "    <tr>\n",
       "      <th>788</th>\n",
       "      <td>Ana</td>\n",
       "      <td>28</td>\n",
       "      <td>67</td>\n",
       "      <td>Enfermera</td>\n",
       "    </tr>\n",
       "    <tr>\n",
       "      <th>678</th>\n",
       "      <td>Desconocido</td>\n",
       "      <td>28</td>\n",
       "      <td>68</td>\n",
       "      <td>Sin estudios</td>\n",
       "    </tr>\n",
       "  </tbody>\n",
       "</table>\n",
       "</div>"
      ],
      "text/plain": [
       "           Nombre  Edad  Peso      Estudios\n",
       "123       Antonio    25    90          GITT\n",
       "4556         Dani    26    80  Sin estudios\n",
       "667          Pepe    28    47  Sin estudios\n",
       "788           Ana    28    67     Enfermera\n",
       "678   Desconocido    28    68  Sin estudios"
      ]
     },
     "execution_count": 18,
     "metadata": {},
     "output_type": "execute_result"
    }
   ],
   "source": [
    "import pandas as pd\n",
    "\n",
    "\n",
    "data = {\"Nombre\": [\"Antonio\", \"Dani\", \"Pepe\", \"Ana\", None],\n",
    "        \"Edad\": [25,26,28,28,28],\n",
    "        \"Peso\": [90,80,47,67,68],\n",
    "        \"Estudios\": [\"GITT\", None, None, \"Enfermera\", None]\n",
    "        \n",
    "       }\n",
    "df = pd.DataFrame(data, [123,4556,667,788,678])\n",
    "df = df.fillna({\"Estudios\":\"Sin estudios\", \"Nombre\":\"Desconocido\"})\n",
    "df\n",
    "df = df.sort_values(by=[\"Edad\", \"Peso\"], ascending = [True, True])### Si quiero ordenar por más de una columna\n",
    "df"
   ]
  },
  {
   "cell_type": "markdown",
   "metadata": {},
   "source": [
    "### Ahora repetimos lo mismo pero, el peso en orden descendente. Simplemente para ver cómo funciona el método. \n",
    "- Cambiamos el criterio por lo que aparece primero desconocido, luego Ana y luego Pepe"
   ]
  },
  {
   "cell_type": "code",
   "execution_count": 19,
   "metadata": {},
   "outputs": [
    {
     "data": {
      "text/html": [
       "<div>\n",
       "<style scoped>\n",
       "    .dataframe tbody tr th:only-of-type {\n",
       "        vertical-align: middle;\n",
       "    }\n",
       "\n",
       "    .dataframe tbody tr th {\n",
       "        vertical-align: top;\n",
       "    }\n",
       "\n",
       "    .dataframe thead th {\n",
       "        text-align: right;\n",
       "    }\n",
       "</style>\n",
       "<table border=\"1\" class=\"dataframe\">\n",
       "  <thead>\n",
       "    <tr style=\"text-align: right;\">\n",
       "      <th></th>\n",
       "      <th>Nombre</th>\n",
       "      <th>Edad</th>\n",
       "      <th>Peso</th>\n",
       "      <th>Estudios</th>\n",
       "    </tr>\n",
       "  </thead>\n",
       "  <tbody>\n",
       "    <tr>\n",
       "      <th>123</th>\n",
       "      <td>Antonio</td>\n",
       "      <td>25</td>\n",
       "      <td>90</td>\n",
       "      <td>GITT</td>\n",
       "    </tr>\n",
       "    <tr>\n",
       "      <th>4556</th>\n",
       "      <td>Dani</td>\n",
       "      <td>26</td>\n",
       "      <td>80</td>\n",
       "      <td>Sin estudios</td>\n",
       "    </tr>\n",
       "    <tr>\n",
       "      <th>678</th>\n",
       "      <td>Desconocido</td>\n",
       "      <td>28</td>\n",
       "      <td>68</td>\n",
       "      <td>Sin estudios</td>\n",
       "    </tr>\n",
       "    <tr>\n",
       "      <th>788</th>\n",
       "      <td>Ana</td>\n",
       "      <td>28</td>\n",
       "      <td>67</td>\n",
       "      <td>Enfermera</td>\n",
       "    </tr>\n",
       "    <tr>\n",
       "      <th>667</th>\n",
       "      <td>Pepe</td>\n",
       "      <td>28</td>\n",
       "      <td>47</td>\n",
       "      <td>Sin estudios</td>\n",
       "    </tr>\n",
       "  </tbody>\n",
       "</table>\n",
       "</div>"
      ],
      "text/plain": [
       "           Nombre  Edad  Peso      Estudios\n",
       "123       Antonio    25    90          GITT\n",
       "4556         Dani    26    80  Sin estudios\n",
       "678   Desconocido    28    68  Sin estudios\n",
       "788           Ana    28    67     Enfermera\n",
       "667          Pepe    28    47  Sin estudios"
      ]
     },
     "execution_count": 19,
     "metadata": {},
     "output_type": "execute_result"
    }
   ],
   "source": [
    "import pandas as pd\n",
    "\n",
    "\n",
    "data = {\"Nombre\": [\"Antonio\", \"Dani\", \"Pepe\", \"Ana\", None],\n",
    "        \"Edad\": [25,26,28,28,28],\n",
    "        \"Peso\": [90,80,47,67,68],\n",
    "        \"Estudios\": [\"GITT\", None, None, \"Enfermera\", None]\n",
    "        \n",
    "       }\n",
    "df = pd.DataFrame(data, [123,4556,667,788,678])\n",
    "df = df.fillna({\"Estudios\":\"Sin estudios\", \"Nombre\":\"Desconocido\"})\n",
    "df\n",
    "df = df.sort_values(by=[\"Edad\", \"Peso\"], ascending = [True, False])\n",
    "df.head()"
   ]
  },
  {
   "cell_type": "markdown",
   "metadata": {},
   "source": [
    "# Usando el inplace...\n",
    "- Ya lo hemos visto, modifica el df original..."
   ]
  },
  {
   "cell_type": "code",
   "execution_count": 20,
   "metadata": {},
   "outputs": [
    {
     "data": {
      "text/html": [
       "<div>\n",
       "<style scoped>\n",
       "    .dataframe tbody tr th:only-of-type {\n",
       "        vertical-align: middle;\n",
       "    }\n",
       "\n",
       "    .dataframe tbody tr th {\n",
       "        vertical-align: top;\n",
       "    }\n",
       "\n",
       "    .dataframe thead th {\n",
       "        text-align: right;\n",
       "    }\n",
       "</style>\n",
       "<table border=\"1\" class=\"dataframe\">\n",
       "  <thead>\n",
       "    <tr style=\"text-align: right;\">\n",
       "      <th></th>\n",
       "      <th>Nombre</th>\n",
       "      <th>Edad</th>\n",
       "      <th>Peso</th>\n",
       "      <th>Estudios</th>\n",
       "    </tr>\n",
       "  </thead>\n",
       "  <tbody>\n",
       "    <tr>\n",
       "      <th>123</th>\n",
       "      <td>Lucas</td>\n",
       "      <td>25</td>\n",
       "      <td>90</td>\n",
       "      <td>GITT</td>\n",
       "    </tr>\n",
       "    <tr>\n",
       "      <th>4556</th>\n",
       "      <td>Dani</td>\n",
       "      <td>26</td>\n",
       "      <td>80</td>\n",
       "      <td>Sin estudios</td>\n",
       "    </tr>\n",
       "    <tr>\n",
       "      <th>667</th>\n",
       "      <td>Pepe</td>\n",
       "      <td>28</td>\n",
       "      <td>47</td>\n",
       "      <td>Sin estudios</td>\n",
       "    </tr>\n",
       "    <tr>\n",
       "      <th>788</th>\n",
       "      <td>Ana</td>\n",
       "      <td>28</td>\n",
       "      <td>67</td>\n",
       "      <td>Enfermera</td>\n",
       "    </tr>\n",
       "    <tr>\n",
       "      <th>678</th>\n",
       "      <td>Desconocido</td>\n",
       "      <td>28</td>\n",
       "      <td>68</td>\n",
       "      <td>Sin estudios</td>\n",
       "    </tr>\n",
       "  </tbody>\n",
       "</table>\n",
       "</div>"
      ],
      "text/plain": [
       "           Nombre  Edad  Peso      Estudios\n",
       "123         Lucas    25    90          GITT\n",
       "4556         Dani    26    80  Sin estudios\n",
       "667          Pepe    28    47  Sin estudios\n",
       "788           Ana    28    67     Enfermera\n",
       "678   Desconocido    28    68  Sin estudios"
      ]
     },
     "execution_count": 20,
     "metadata": {},
     "output_type": "execute_result"
    }
   ],
   "source": [
    "import pandas as pd\n",
    "\n",
    "# Seleccionar la primera fila y la segunda columna\n",
    "data = {\"Nombre\": [\"Lucas\", \"Dani\", \"Pepe\", \"Ana\", None],\n",
    "        \"Edad\": [25,26,28,28,28],\n",
    "        \"Peso\": [90,80,47,67,68],\n",
    "        \"Estudios\": [\"GITT\", None, None, \"Enfermera\", None]\n",
    "        \n",
    "       }\n",
    "df = pd.DataFrame(data, [123,4556,667,788,678])\n",
    "df = df.fillna({\"Estudios\":\"Sin estudios\", \"Nombre\":\"Desconocido\"})\n",
    "df\n",
    "df.sort_values(by=[\"Edad\", \"Peso\"], ascending = [True,True],inplace = True)\n",
    "df"
   ]
  },
  {
   "cell_type": "markdown",
   "metadata": {
    "tags": []
   },
   "source": [
    "\n",
    "\n",
    "# 4. Eliminar duplicados<a id=\"Eliminar-duplicados\"></a>\n",
    "\n",
    "Todos los dataset son susceptibles de tener registros duplicados, total o parcialmente, lo que según cada caso puede tener sentido o no. Veamos como identificarlos y tratarlos. \n",
    "\n"
   ]
  },
  {
   "cell_type": "markdown",
   "metadata": {},
   "source": [
    "El método `duplicated()`se utiliza para identificar filas duplicadas en un DataFrame. Este método devuelve una serie booleana que indica si cada fila es una duplicada de una fila anterior en el DataFrame. Puedes utilizar esta serie booleana para filtrar las filas duplicadas o para contar cuántas filas duplicadas hay en el DataFrame.\n",
    "- KEEP"
   ]
  },
  {
   "cell_type": "markdown",
   "metadata": {},
   "source": [
    "### Parámetros adicionales\n",
    "\n",
    "- **keep**: Puedes especificar si deseas mantener la primera aparición de cada fila duplicada (`keep='first'`), la última aparición (`keep='last'`) o eliminar todas las filas duplicadas (`keep=False`). Por defecto, `keep='first'`.\n",
    "- **inplace**: Si deseas modificar el DataFrame original, puedes establecer `inplace=True`. Por defecto, es `False`.\n"
   ]
  },
  {
   "cell_type": "code",
   "execution_count": 21,
   "metadata": {},
   "outputs": [
    {
     "name": "stdout",
     "output_type": "stream",
     "text": [
      "Filas duplicadas:\n",
      "0    False\n",
      "1    False\n",
      "2     True\n",
      "3    False\n",
      "4    False\n",
      "5     True\n",
      "dtype: bool\n"
     ]
    }
   ],
   "source": [
    "\n",
    "import pandas as pd\n",
    "\n",
    "# Crear un DataFrame de ejemplo con filas duplicadas\n",
    "data = {'A': [1, 2, 2, 3, 4, 4],\n",
    "        'B': ['x', 'y', 'y', 'z', 'w', 'w']}\n",
    "df = pd.DataFrame(data)\n",
    "\n",
    "# Identificar filas duplicadas\n",
    "duplicados = df.duplicated()\n",
    "print(\"Filas duplicadas:\")\n",
    "print(duplicados)"
   ]
  },
  {
   "cell_type": "markdown",
   "metadata": {},
   "source": [
    "# Pruebas\n",
    "- Vamos a hacer varias pruebas para ver cómo funcionan estos métodos.\n",
    "- Duplicated  me está devolviendo una serie booleana como cuando hacíamos filtros, donde está a True si es un duplicado y está a false si no lo está. \n",
    "- Si no especifico nada dentro del duplicated, devuelve True si la fila está completamente repetida, es decir, coinciden todos los valores. \n",
    "- Si quiero que solo mire en una columna, puedo indicarlo mediante el argumento subset = \"clave columna\"\n",
    "- En este subset, también puedo pasar una lista con las columnas donde quiero que mire... la sintaxis es la misma que cuando ordenamos con sortvalues."
   ]
  },
  {
   "cell_type": "code",
   "execution_count": 59,
   "metadata": {},
   "outputs": [
    {
     "name": "stdout",
     "output_type": "stream",
     "text": [
      "       Nombre  Edad  Peso      Estudios\n",
      "123   Antonio    25    90          GITT\n",
      "4556  Antonio    25    90          GITT\n",
      "667      Dani    25    80       Energía\n",
      "788      Pepe    28    47  Sin estudios\n",
      "678       Ana    28    67     Enfermera\n",
      "890      None    28    68  Sin estudios\n",
      "--------------------------------------------------\n"
     ]
    },
    {
     "data": {
      "text/plain": [
       "123     False\n",
       "4556     True\n",
       "667      True\n",
       "788     False\n",
       "678      True\n",
       "890      True\n",
       "dtype: bool"
      ]
     },
     "execution_count": 59,
     "metadata": {},
     "output_type": "execute_result"
    }
   ],
   "source": [
    "import pandas as pd\n",
    "\n",
    "# Seleccionar la primera fila y la segunda columna\n",
    "data = {\"Nombre\": [\"Antonio\",\"Antonio\", \"Dani\", \"Pepe\", \"Ana\", None],\n",
    "        \"Edad\": [25,25,25,28,28,28],\n",
    "        \"Peso\": [90,90,80,47,67,68],\n",
    "        \"Estudios\": [\"GITT\",\"GITT\",  \"Energía\", None, \"Enfermera\", None]\n",
    "        \n",
    "       }\n",
    "df = pd.DataFrame(data, [123,4556,667,788,678, 890])\n",
    "df = df.fillna({\"Estudios\":\"Sin estudios\"})\n",
    "duplicados = df.duplicated(subset = \"Edad\")\n",
    "#duplicados = df.duplicated( subset = [\"Edad\", \"Estudios\"])\n",
    "#duplicados = df.duplicated( subset = \"Edad\")\n",
    "print(df)\n",
    "print(\"-\"*50)\n",
    "duplicados"
   ]
  },
  {
   "cell_type": "markdown",
   "metadata": {},
   "source": [
    "### Eliminamos las filas duplicadas con drop_duplicated"
   ]
  },
  {
   "cell_type": "code",
   "execution_count": 66,
   "metadata": {},
   "outputs": [
    {
     "data": {
      "text/html": [
       "<div>\n",
       "<style scoped>\n",
       "    .dataframe tbody tr th:only-of-type {\n",
       "        vertical-align: middle;\n",
       "    }\n",
       "\n",
       "    .dataframe tbody tr th {\n",
       "        vertical-align: top;\n",
       "    }\n",
       "\n",
       "    .dataframe thead th {\n",
       "        text-align: right;\n",
       "    }\n",
       "</style>\n",
       "<table border=\"1\" class=\"dataframe\">\n",
       "  <thead>\n",
       "    <tr style=\"text-align: right;\">\n",
       "      <th></th>\n",
       "      <th>Nombre</th>\n",
       "      <th>Edad</th>\n",
       "      <th>Peso</th>\n",
       "      <th>Estudios</th>\n",
       "    </tr>\n",
       "  </thead>\n",
       "  <tbody>\n",
       "    <tr>\n",
       "      <th>123</th>\n",
       "      <td>Antonio</td>\n",
       "      <td>25</td>\n",
       "      <td>90</td>\n",
       "      <td>GITT</td>\n",
       "    </tr>\n",
       "    <tr>\n",
       "      <th>788</th>\n",
       "      <td>Pepe</td>\n",
       "      <td>28</td>\n",
       "      <td>47</td>\n",
       "      <td>Sin estudios</td>\n",
       "    </tr>\n",
       "  </tbody>\n",
       "</table>\n",
       "</div>"
      ],
      "text/plain": [
       "      Nombre  Edad  Peso      Estudios\n",
       "123  Antonio    25    90          GITT\n",
       "788     Pepe    28    47  Sin estudios"
      ]
     },
     "execution_count": 66,
     "metadata": {},
     "output_type": "execute_result"
    }
   ],
   "source": [
    "df_sinduplicados = df.drop_duplicates(subset = [\"Edad\"])\n",
    "df_sinduplicados"
   ]
  },
  {
   "cell_type": "code",
   "execution_count": 65,
   "metadata": {},
   "outputs": [
    {
     "data": {
      "text/html": [
       "<div>\n",
       "<style scoped>\n",
       "    .dataframe tbody tr th:only-of-type {\n",
       "        vertical-align: middle;\n",
       "    }\n",
       "\n",
       "    .dataframe tbody tr th {\n",
       "        vertical-align: top;\n",
       "    }\n",
       "\n",
       "    .dataframe thead th {\n",
       "        text-align: right;\n",
       "    }\n",
       "</style>\n",
       "<table border=\"1\" class=\"dataframe\">\n",
       "  <thead>\n",
       "    <tr style=\"text-align: right;\">\n",
       "      <th></th>\n",
       "      <th>Nombre</th>\n",
       "      <th>Edad</th>\n",
       "      <th>Peso</th>\n",
       "      <th>Estudios</th>\n",
       "    </tr>\n",
       "  </thead>\n",
       "  <tbody>\n",
       "    <tr>\n",
       "      <th>123</th>\n",
       "      <td>Antonio</td>\n",
       "      <td>25</td>\n",
       "      <td>90</td>\n",
       "      <td>GITT</td>\n",
       "    </tr>\n",
       "    <tr>\n",
       "      <th>667</th>\n",
       "      <td>Dani</td>\n",
       "      <td>25</td>\n",
       "      <td>80</td>\n",
       "      <td>Energía</td>\n",
       "    </tr>\n",
       "    <tr>\n",
       "      <th>788</th>\n",
       "      <td>Pepe</td>\n",
       "      <td>28</td>\n",
       "      <td>47</td>\n",
       "      <td>Sin estudios</td>\n",
       "    </tr>\n",
       "    <tr>\n",
       "      <th>678</th>\n",
       "      <td>Ana</td>\n",
       "      <td>28</td>\n",
       "      <td>67</td>\n",
       "      <td>Enfermera</td>\n",
       "    </tr>\n",
       "  </tbody>\n",
       "</table>\n",
       "</div>"
      ],
      "text/plain": [
       "      Nombre  Edad  Peso      Estudios\n",
       "123  Antonio    25    90          GITT\n",
       "667     Dani    25    80       Energía\n",
       "788     Pepe    28    47  Sin estudios\n",
       "678      Ana    28    67     Enfermera"
      ]
     },
     "execution_count": 65,
     "metadata": {},
     "output_type": "execute_result"
    }
   ],
   "source": [
    "df_sinduplicados = df.drop_duplicates(subset = [\"Edad\", \"Estudios\"])\n",
    "df_sinduplicados"
   ]
  },
  {
   "cell_type": "markdown",
   "metadata": {},
   "source": [
    "# Ahora te toca a ti\n",
    "### Enunciado. Partiendo del siguiente diccionario, obtén un nuevo df que contenga los datos de los coches cuya matrícula no se repite"
   ]
  },
  {
   "cell_type": "code",
   "execution_count": 23,
   "metadata": {},
   "outputs": [
    {
     "name": "stdout",
     "output_type": "stream",
     "text": [
      "  Matrícula    Modelo   Color   Marca  NumeroPuertas  Asientos  AñoITV\n",
      "0    ABC123  Modelo X    Rojo   Tesla              4         5    2022\n",
      "1    DEF456  Modelo Y    Azul   Tesla              2         2    2021\n",
      "2    GHI789  Modelo Z   Negro  Nissan              4         5    2023\n",
      "3    JKL012  Modelo A  Blanco   Honda              4         5    2024\n",
      "4    DEF456  Modelo Y    Azul   Tesla              2         2    2021\n",
      "5    MNO345  Modelo B   Negro     BMW              4         5    2023\n",
      "6    ABC123  Modelo X    Rojo   Tesla              4         5    2022\n"
     ]
    }
   ],
   "source": [
    "data = {\n",
    "    \"Matrícula\": [\"ABC123\", \"DEF456\", \"GHI789\", \"JKL012\", \"DEF456\", \"MNO345\", \"ABC123\"],\n",
    "    \"Modelo\": [\"Modelo X\", \"Modelo Y\", \"Modelo Z\", \"Modelo A\", \"Modelo Y\", \"Modelo B\", \"Modelo X\"],\n",
    "    \"Color\": [\"Rojo\", \"Azul\", \"Negro\", \"Blanco\", \"Azul\", \"Negro\", \"Rojo\"],\n",
    "    \"Marca\": [\"Tesla\", \"Tesla\", \"Nissan\", \"Honda\", \"Tesla\", \"BMW\", \"Tesla\"],\n",
    "    \"NumeroPuertas\": [4, 2, 4, 4, 2, 4, 4],\n",
    "    \"Asientos\": [5, 2, 5, 5, 2, 5, 5],\n",
    "    \"AñoITV\": [2022, 2021, 2023, 2024, 2021, 2023, 2022]\n",
    "}\n",
    "df = pd.DataFrame(data)\n",
    "print(df)\n"
   ]
  },
  {
   "cell_type": "code",
   "execution_count": 24,
   "metadata": {},
   "outputs": [
    {
     "data": {
      "text/html": [
       "<div>\n",
       "<style scoped>\n",
       "    .dataframe tbody tr th:only-of-type {\n",
       "        vertical-align: middle;\n",
       "    }\n",
       "\n",
       "    .dataframe tbody tr th {\n",
       "        vertical-align: top;\n",
       "    }\n",
       "\n",
       "    .dataframe thead th {\n",
       "        text-align: right;\n",
       "    }\n",
       "</style>\n",
       "<table border=\"1\" class=\"dataframe\">\n",
       "  <thead>\n",
       "    <tr style=\"text-align: right;\">\n",
       "      <th></th>\n",
       "      <th>Matrícula</th>\n",
       "      <th>Modelo</th>\n",
       "      <th>Color</th>\n",
       "      <th>Marca</th>\n",
       "      <th>NumeroPuertas</th>\n",
       "      <th>Asientos</th>\n",
       "      <th>AñoITV</th>\n",
       "    </tr>\n",
       "  </thead>\n",
       "  <tbody>\n",
       "    <tr>\n",
       "      <th>0</th>\n",
       "      <td>ABC123</td>\n",
       "      <td>Modelo X</td>\n",
       "      <td>Rojo</td>\n",
       "      <td>Tesla</td>\n",
       "      <td>4</td>\n",
       "      <td>5</td>\n",
       "      <td>2022</td>\n",
       "    </tr>\n",
       "    <tr>\n",
       "      <th>1</th>\n",
       "      <td>DEF456</td>\n",
       "      <td>Modelo Y</td>\n",
       "      <td>Azul</td>\n",
       "      <td>Tesla</td>\n",
       "      <td>2</td>\n",
       "      <td>2</td>\n",
       "      <td>2021</td>\n",
       "    </tr>\n",
       "    <tr>\n",
       "      <th>2</th>\n",
       "      <td>GHI789</td>\n",
       "      <td>Modelo Z</td>\n",
       "      <td>Negro</td>\n",
       "      <td>Nissan</td>\n",
       "      <td>4</td>\n",
       "      <td>5</td>\n",
       "      <td>2023</td>\n",
       "    </tr>\n",
       "    <tr>\n",
       "      <th>3</th>\n",
       "      <td>JKL012</td>\n",
       "      <td>Modelo A</td>\n",
       "      <td>Blanco</td>\n",
       "      <td>Honda</td>\n",
       "      <td>4</td>\n",
       "      <td>5</td>\n",
       "      <td>2024</td>\n",
       "    </tr>\n",
       "    <tr>\n",
       "      <th>5</th>\n",
       "      <td>MNO345</td>\n",
       "      <td>Modelo B</td>\n",
       "      <td>Negro</td>\n",
       "      <td>BMW</td>\n",
       "      <td>4</td>\n",
       "      <td>5</td>\n",
       "      <td>2023</td>\n",
       "    </tr>\n",
       "  </tbody>\n",
       "</table>\n",
       "</div>"
      ],
      "text/plain": [
       "  Matrícula    Modelo   Color   Marca  NumeroPuertas  Asientos  AñoITV\n",
       "0    ABC123  Modelo X    Rojo   Tesla              4         5    2022\n",
       "1    DEF456  Modelo Y    Azul   Tesla              2         2    2021\n",
       "2    GHI789  Modelo Z   Negro  Nissan              4         5    2023\n",
       "3    JKL012  Modelo A  Blanco   Honda              4         5    2024\n",
       "5    MNO345  Modelo B   Negro     BMW              4         5    2023"
      ]
     },
     "execution_count": 24,
     "metadata": {},
     "output_type": "execute_result"
    }
   ],
   "source": [
    "df_sindup = df.drop_duplicates(subset = \"Matrícula\")\n",
    "df_sindup"
   ]
  },
  {
   "cell_type": "markdown",
   "metadata": {},
   "source": [
    "### Enunciado: Elimina las filas duplicadas basándote en la columna 'Matrícula', pero esta vez conserva la última aparición de cada matrícula.\n",
    "- Si nos damos cuenta, cuando hacemos un drop duplicated, por defecto, pandas elimina todas menos la primera aparición. Si queremos que se quede con la última, podemos especificarlo con el keep. "
   ]
  },
  {
   "cell_type": "code",
   "execution_count": 25,
   "metadata": {},
   "outputs": [
    {
     "name": "stdout",
     "output_type": "stream",
     "text": [
      "  Matrícula    Modelo   Color   Marca  NumeroPuertas  Asientos  AñoITV\n",
      "2    GHI789  Modelo Z   Negro  Nissan              4         5    2023\n",
      "3    JKL012  Modelo A  Blanco   Honda              4         5    2024\n",
      "4    DEF456  Modelo Y    Azul   Tesla              2         2    2021\n",
      "5    MNO345  Modelo B   Negro     BMW              4         5    2023\n",
      "6    ABC123  Modelo X    Rojo   Tesla              4         5    2022\n"
     ]
    }
   ],
   "source": [
    "df_last = df.drop_duplicates(subset=['Matrícula'], keep='last')\n",
    "print(df_last)\n"
   ]
  },
  {
   "cell_type": "markdown",
   "metadata": {},
   "source": [
    "### Enunciado: Elimina las filas duplicadas basándote en las columnas 'Matrícula' y 'Modelo', descartando todas las apariciones duplicadas.\n",
    "- La última opción es keep = False. Esto implica que pandas no conserve nada. "
   ]
  },
  {
   "cell_type": "code",
   "execution_count": 26,
   "metadata": {},
   "outputs": [
    {
     "name": "stdout",
     "output_type": "stream",
     "text": [
      "  Matrícula    Modelo   Color   Marca  NumeroPuertas  Asientos  AñoITV\n",
      "2    GHI789  Modelo Z   Negro  Nissan              4         5    2023\n",
      "3    JKL012  Modelo A  Blanco   Honda              4         5    2024\n",
      "5    MNO345  Modelo B   Negro     BMW              4         5    2023\n"
     ]
    }
   ],
   "source": [
    "df_sin = df.drop_duplicates(subset=['Matrícula', 'Modelo'], keep=False)\n",
    "print(df_sin)\n"
   ]
  },
  {
   "cell_type": "markdown",
   "metadata": {},
   "source": [
    "### Contar filas duplicadas:\n",
    "\n",
    "Si deseas contar cuántas filas duplicadas hay en el DataFrame, puedes utilizar el método `sum()` junto con el método `duplicated()`. Por ejemplo:\n",
    "- Al final, df.duplicated lo que me devuelve es una serie. Como es una serie, puedo hacer un .sum() para que sume los elementos que están a True..."
   ]
  },
  {
   "cell_type": "code",
   "execution_count": 19,
   "metadata": {},
   "outputs": [
    {
     "name": "stdout",
     "output_type": "stream",
     "text": [
      "Cantidad de filas duplicadas: 2\n"
     ]
    }
   ],
   "source": [
    "# Contar cuántas filas duplicadas hay en el DataFrame\n",
    "cantidad_duplicados = df.duplicated().sum()\n",
    "print(\"Cantidad de filas duplicadas:\", cantidad_duplicados)"
   ]
  },
  {
   "cell_type": "markdown",
   "metadata": {
    "tags": []
   },
   "source": [
    "# 5. Añadir/eliminar registros<a id=\"Añadir-eliminar-registros\"></a>\n",
    "\n",
    "En Pandas, puedes agregar o eliminar registros (filas) en un DataFrame utilizando varios métodos y funciones proporcionadas por la biblioteca. Estos métodos te permiten modificar el contenido de un DataFrame según tus necesidades específicas.\n",
    "\n",
    "### Añadir Registros:\n",
    "\n",
    "Para agregar registros a un DataFrame en Pandas, puedes utilizar el método `append()` / pd.concat. En este caso, hacemos pd.concat por la versión de pandas instalada. Puedes agregar una fila individual o un DataFrame completo. Por ejemplo:"
   ]
  },
  {
   "cell_type": "markdown",
   "metadata": {},
   "source": [
    "### Pruebas"
   ]
  },
  {
   "cell_type": "code",
   "execution_count": 50,
   "metadata": {},
   "outputs": [
    {
     "data": {
      "text/html": [
       "<div>\n",
       "<style scoped>\n",
       "    .dataframe tbody tr th:only-of-type {\n",
       "        vertical-align: middle;\n",
       "    }\n",
       "\n",
       "    .dataframe tbody tr th {\n",
       "        vertical-align: top;\n",
       "    }\n",
       "\n",
       "    .dataframe thead th {\n",
       "        text-align: right;\n",
       "    }\n",
       "</style>\n",
       "<table border=\"1\" class=\"dataframe\">\n",
       "  <thead>\n",
       "    <tr style=\"text-align: right;\">\n",
       "      <th></th>\n",
       "      <th>Nombre</th>\n",
       "      <th>Edad</th>\n",
       "      <th>Peso</th>\n",
       "      <th>Estudios</th>\n",
       "    </tr>\n",
       "  </thead>\n",
       "  <tbody>\n",
       "    <tr>\n",
       "      <th>123</th>\n",
       "      <td>Antonio</td>\n",
       "      <td>25</td>\n",
       "      <td>90</td>\n",
       "      <td>GITT</td>\n",
       "    </tr>\n",
       "    <tr>\n",
       "      <th>4556</th>\n",
       "      <td>Manolo</td>\n",
       "      <td>25</td>\n",
       "      <td>90</td>\n",
       "      <td>GITT</td>\n",
       "    </tr>\n",
       "    <tr>\n",
       "      <th>667</th>\n",
       "      <td>Dani</td>\n",
       "      <td>28</td>\n",
       "      <td>80</td>\n",
       "      <td>Sin estudios</td>\n",
       "    </tr>\n",
       "    <tr>\n",
       "      <th>788</th>\n",
       "      <td>Pepe</td>\n",
       "      <td>28</td>\n",
       "      <td>47</td>\n",
       "      <td>Sin estudios</td>\n",
       "    </tr>\n",
       "    <tr>\n",
       "      <th>678</th>\n",
       "      <td>Ana</td>\n",
       "      <td>28</td>\n",
       "      <td>67</td>\n",
       "      <td>Enfermera</td>\n",
       "    </tr>\n",
       "    <tr>\n",
       "      <th>890</th>\n",
       "      <td>Sin nombre</td>\n",
       "      <td>28</td>\n",
       "      <td>68</td>\n",
       "      <td>Sin estudios</td>\n",
       "    </tr>\n",
       "    <tr>\n",
       "      <th>879</th>\n",
       "      <td>Jose</td>\n",
       "      <td>26</td>\n",
       "      <td>46</td>\n",
       "      <td>Industriales</td>\n",
       "    </tr>\n",
       "  </tbody>\n",
       "</table>\n",
       "</div>"
      ],
      "text/plain": [
       "          Nombre  Edad  Peso      Estudios\n",
       "123      Antonio    25    90          GITT\n",
       "4556      Manolo    25    90          GITT\n",
       "667         Dani    28    80  Sin estudios\n",
       "788         Pepe    28    47  Sin estudios\n",
       "678          Ana    28    67     Enfermera\n",
       "890   Sin nombre    28    68  Sin estudios\n",
       "879         Jose    26    46  Industriales"
      ]
     },
     "execution_count": 50,
     "metadata": {},
     "output_type": "execute_result"
    }
   ],
   "source": [
    "import pandas as pd\n",
    "\n",
    "# Seleccionar la primera fila y la segunda columna\n",
    "data = {\"Nombre\": [\"Antonio\",\"Manolo\", \"Dani\", \"Pepe\", \"Ana\", None],\n",
    "        \"Edad\": [25,25,28,28,28,28],\n",
    "        \"Peso\": [90,90,80,47,67,68],\n",
    "        \"Estudios\": [\"GITT\",\"GITT\",  None, None, \"Enfermera\", None]\n",
    "        \n",
    "       }\n",
    "df = pd.DataFrame(data, [123,4556,667,788,678, 890])\n",
    "df = df.fillna({\"Estudios\":\"Sin estudios\", \"Nombre\": \"Sin nombre\"})\n",
    "\n",
    "### Estamos añadiendo a Jose!!\n",
    "elemento = pd.DataFrame({\"Nombre\":\"Jose\", \"Edad\":26, \"Peso\":46, \"Estudios\": \"Industriales\"}, [879])\n",
    "df = pd.concat([df, elemento])\n",
    "df"
   ]
  },
  {
   "cell_type": "markdown",
   "metadata": {},
   "source": [
    "### Eliminar Registros:\n",
    "\n",
    "Para eliminar registros de un DataFrame en Pandas, puedes utilizar el método `drop()`, que permite eliminar filas o columnas según etiquetas de índice o nombres. También puedes eliminar registros utilizando filtros o condiciones booleanas.\n",
    " - En este primer caso, vamos a eliminar la primera fila del df, para ello,  usamos la clave asociada a la fila! En este caso es 123.\n",
    " - Ojo, que lo igualamos a un df nuevo por no usar el inplace. "
   ]
  },
  {
   "cell_type": "code",
   "execution_count": 51,
   "metadata": {},
   "outputs": [
    {
     "name": "stdout",
     "output_type": "stream",
     "text": [
      "          Nombre  Edad  Peso      Estudios\n",
      "4556      Manolo    25    90          GITT\n",
      "667         Dani    28    80  Sin estudios\n",
      "788         Pepe    28    47  Sin estudios\n",
      "678          Ana    28    67     Enfermera\n",
      "890   Sin nombre    28    68  Sin estudios\n",
      "879         Jose    26    46  Industriales\n"
     ]
    }
   ],
   "source": [
    "df = df.drop(123)\n",
    "#df.drop(123, inplace = True)\n",
    "\n",
    "print(df)\n"
   ]
  },
  {
   "cell_type": "markdown",
   "metadata": {},
   "source": [
    "### Podemos simular el mismo comportamiento mediante un filtro... \n",
    "- Al final, el drop nos permite eliminar filas una a una, el filtro rompe todo lo que no queremos del tirón. \n",
    "- Si quisiésemos eliminar la misma fila, podríamos hacer lo siguiente: "
   ]
  },
  {
   "cell_type": "code",
   "execution_count": 58,
   "metadata": {},
   "outputs": [
    {
     "data": {
      "text/html": [
       "<div>\n",
       "<style scoped>\n",
       "    .dataframe tbody tr th:only-of-type {\n",
       "        vertical-align: middle;\n",
       "    }\n",
       "\n",
       "    .dataframe tbody tr th {\n",
       "        vertical-align: top;\n",
       "    }\n",
       "\n",
       "    .dataframe thead th {\n",
       "        text-align: right;\n",
       "    }\n",
       "</style>\n",
       "<table border=\"1\" class=\"dataframe\">\n",
       "  <thead>\n",
       "    <tr style=\"text-align: right;\">\n",
       "      <th></th>\n",
       "      <th>Nombre</th>\n",
       "      <th>Edad</th>\n",
       "      <th>Peso</th>\n",
       "      <th>Estudios</th>\n",
       "    </tr>\n",
       "  </thead>\n",
       "  <tbody>\n",
       "    <tr>\n",
       "      <th>4556</th>\n",
       "      <td>Antonio</td>\n",
       "      <td>25</td>\n",
       "      <td>90</td>\n",
       "      <td>GITT</td>\n",
       "    </tr>\n",
       "    <tr>\n",
       "      <th>667</th>\n",
       "      <td>Dani</td>\n",
       "      <td>28</td>\n",
       "      <td>80</td>\n",
       "      <td>Sin estudios</td>\n",
       "    </tr>\n",
       "    <tr>\n",
       "      <th>788</th>\n",
       "      <td>Pepe</td>\n",
       "      <td>28</td>\n",
       "      <td>47</td>\n",
       "      <td>Sin estudios</td>\n",
       "    </tr>\n",
       "    <tr>\n",
       "      <th>678</th>\n",
       "      <td>Ana</td>\n",
       "      <td>28</td>\n",
       "      <td>67</td>\n",
       "      <td>Enfermera</td>\n",
       "    </tr>\n",
       "    <tr>\n",
       "      <th>890</th>\n",
       "      <td>SIn nombre</td>\n",
       "      <td>28</td>\n",
       "      <td>68</td>\n",
       "      <td>Sin estudios</td>\n",
       "    </tr>\n",
       "  </tbody>\n",
       "</table>\n",
       "</div>"
      ],
      "text/plain": [
       "          Nombre  Edad  Peso      Estudios\n",
       "4556     Antonio    25    90          GITT\n",
       "667         Dani    28    80  Sin estudios\n",
       "788         Pepe    28    47  Sin estudios\n",
       "678          Ana    28    67     Enfermera\n",
       "890   SIn nombre    28    68  Sin estudios"
      ]
     },
     "execution_count": 58,
     "metadata": {},
     "output_type": "execute_result"
    }
   ],
   "source": [
    "import pandas as pd\n",
    "\n",
    "# Seleccionar la primera fila y la segunda columna\n",
    "data = {\"Nombre\": [\"Jose\",\"Antonio\", \"Dani\", \"Pepe\", \"Ana\", None],\n",
    "        \"Edad\": [25,25,28,28,28,28],\n",
    "        \"Peso\": [90,90,80,47,67,68],\n",
    "        \"Estudios\": [\"GITT\",\"GITT\",  None, None, \"Enfermera\", None]\n",
    "        \n",
    "       }\n",
    "df = pd.DataFrame(data, [123,4556,667,788,678, 890])\n",
    "df = df.fillna({\"Estudios\":\"Sin estudios\", \"Nombre\": \"SIn nombre\"})\n",
    "filtro = df.index != 123\n",
    "df = df[filtro]\n",
    "df"
   ]
  },
  {
   "cell_type": "markdown",
   "metadata": {},
   "source": [
    "### Nota:\n",
    "Cuando eliminas registros utilizando `drop()`, puedes especificar el parámetro `axis` para indicar si deseas eliminar filas (`axis=0`, que es el valor predeterminado) o columnas (`axis=1`).\n",
    "- Lo que hemos hecho hasta ahora ha sido eliminar por filas, lo que es el axis por defecto. Imagina que queremos eliminar una columna completa...\n"
   ]
  },
  {
   "cell_type": "code",
   "execution_count": 67,
   "metadata": {},
   "outputs": [
    {
     "data": {
      "text/html": [
       "<div>\n",
       "<style scoped>\n",
       "    .dataframe tbody tr th:only-of-type {\n",
       "        vertical-align: middle;\n",
       "    }\n",
       "\n",
       "    .dataframe tbody tr th {\n",
       "        vertical-align: top;\n",
       "    }\n",
       "\n",
       "    .dataframe thead th {\n",
       "        text-align: right;\n",
       "    }\n",
       "</style>\n",
       "<table border=\"1\" class=\"dataframe\">\n",
       "  <thead>\n",
       "    <tr style=\"text-align: right;\">\n",
       "      <th></th>\n",
       "      <th>Nombre</th>\n",
       "      <th>Peso</th>\n",
       "      <th>Estudios</th>\n",
       "    </tr>\n",
       "  </thead>\n",
       "  <tbody>\n",
       "    <tr>\n",
       "      <th>123</th>\n",
       "      <td>Jose</td>\n",
       "      <td>90</td>\n",
       "      <td>GITT</td>\n",
       "    </tr>\n",
       "    <tr>\n",
       "      <th>4556</th>\n",
       "      <td>Antonio</td>\n",
       "      <td>90</td>\n",
       "      <td>GITT</td>\n",
       "    </tr>\n",
       "    <tr>\n",
       "      <th>667</th>\n",
       "      <td>Dani</td>\n",
       "      <td>80</td>\n",
       "      <td>Sin estudios</td>\n",
       "    </tr>\n",
       "    <tr>\n",
       "      <th>788</th>\n",
       "      <td>Pepe</td>\n",
       "      <td>47</td>\n",
       "      <td>Sin estudios</td>\n",
       "    </tr>\n",
       "    <tr>\n",
       "      <th>678</th>\n",
       "      <td>Ana</td>\n",
       "      <td>67</td>\n",
       "      <td>Enfermera</td>\n",
       "    </tr>\n",
       "    <tr>\n",
       "      <th>890</th>\n",
       "      <td>SIn nombre</td>\n",
       "      <td>68</td>\n",
       "      <td>Sin estudios</td>\n",
       "    </tr>\n",
       "  </tbody>\n",
       "</table>\n",
       "</div>"
      ],
      "text/plain": [
       "          Nombre  Peso      Estudios\n",
       "123         Jose    90          GITT\n",
       "4556     Antonio    90          GITT\n",
       "667         Dani    80  Sin estudios\n",
       "788         Pepe    47  Sin estudios\n",
       "678          Ana    67     Enfermera\n",
       "890   SIn nombre    68  Sin estudios"
      ]
     },
     "execution_count": 67,
     "metadata": {},
     "output_type": "execute_result"
    }
   ],
   "source": [
    "import pandas as pd\n",
    "\n",
    "# Seleccionar la primera fila y la segunda columna\n",
    "data = {\"Nombre\": [\"Jose\",\"Antonio\", \"Dani\", \"Pepe\", \"Ana\", None],\n",
    "        \"Edad\": [25,25,28,28,28,28],\n",
    "        \"Peso\": [90,90,80,47,67,68],\n",
    "        \"Estudios\": [\"GITT\",\"GITT\",  None, None, \"Enfermera\", None]\n",
    "        \n",
    "       }\n",
    "df = pd.DataFrame(data, [123,4556,667,788,678, 890])\n",
    "df = df.fillna({\"Estudios\":\"Sin estudios\", \"Nombre\": \"SIn nombre\"})\n",
    "# quitar el axis para ver que nos da un error!\n",
    "df = df.drop(\"Edad\", axis = 1)\n",
    "df"
   ]
  },
  {
   "cell_type": "markdown",
   "metadata": {
    "tags": []
   },
   "source": [
    "\n",
    "\n",
    "\n",
    "\n",
    "# 6. Conversión de tipos de datos<a id=\"Conversión-tipos-datos\"></a>\n",
    "\n",
    "\n"
   ]
  },
  {
   "cell_type": "markdown",
   "metadata": {
    "jp-MarkdownHeadingCollapsed": true,
    "tags": []
   },
   "source": [
    "Podemos convertir el tipo de datos de columnas en un DataFrame utilizando el método `astype()` o utilizando funciones específicas de conversión de tipo de datos proporcionadas por Pandas. Estas conversiones son útiles para ajustar el tipo de datos de una columna para que coincida con el deseado en tu análisis de datos.\n",
    "# Reflexión sobre los Tipos de Datos en Series de Pandas\n",
    "\n",
    "En el análisis de datos con pandas, comprender los tipos de datos es fundamental para la manipulación eficiente y la interpretación correcta de los datos. Las Series de pandas pueden contener varios tipos de datos, cada uno con sus particularidades y usos recomendados.\n",
    "\n",
    "## Tipos de Datos en Series\n",
    "\n",
    "Una Serie en pandas puede albergar diferentes tipos de datos, incluyendo:\n",
    "\n",
    "- `int` para enteros,\n",
    "- `float` para números flotantes,\n",
    "- `bool` para valores booleanos,\n",
    "- `datetime64[ns]` para marcas de tiempo,\n",
    "- y `object` para tipos de datos mixtos y strings.\n",
    "\n",
    "## El Tipo `object` en Detalle\n",
    "\n",
    "El tipo `object` en pandas es particularmente versátil. Aunque es el tipo de dato menos eficiente en términos de almacenamiento y velocidad de procesamiento, ofrece una flexibilidad significativa. Es comúnmente utilizado para almacenar strings junto con otros tipos de datos mixtos.\n",
    "\n",
    "### Relación entre `object` y `str`\n",
    "\n",
    "- **Almacenamiento de Texto**: En pandas, las cadenas de caracteres son almacenadas en Series y DataFrames como objetos. Esto significa que cuando una Serie contiene texto, su tipo de dato será `object`.\n",
    "- **Flexibilidad**: El uso del tipo `object` permite a pandas manejar datos de texto que tienen longitudes variables, lo cual sería restrictivo si se usaran tipos más específicos como `str`.\n",
    "- **Rendimiento**: Aunque los `object` son menos eficientes, pandas utiliza internamente optimizaciones como arrays de punteros para gestionar de manera más efectiva estas colecciones de objetos.\n",
    "\n",
    "### Consideraciones de Uso\n",
    "\n",
    "- **Conversión y Manipulación**: Al trabajar con textos en pandas, es común convertir otras Series al tipo `object` para realizar operaciones específicas de strings, tales como manipulaciones, búsquedas o limpieza de datos.\n",
    "- **Implicaciones de Performance**: Si bien el tipo `object` es útil, su uso puede llevar a un rendimiento reducido en comparación con los tipos de datos más específicos y optimizados. Es recomendable, siempre que sea posible, convertir Series de `object` a categorías (`category`) si los datos de texto son repetitivos y limitados en variedad, lo que puede mejorar significativamente la eficiencia.\n",
    "\n",
    "## Conclusión\n",
    "\n",
    "El entendimiento de cómo se almacenan y gestionan los datos en pandas es crucial para el análisis de datos eficaz. El tipo `object`, a pesar de sus desventajas en términos de rendimiento, juega un papel esencial en la manipulación de datos de texto en pandas, proporcionando la capacidad de manejar datos complejos y heterogéneos de manera eficiente. Es fundamental equilibrar la flexibilidad que ofrece el tipo `object` con las necesidades de rendimiento y eficiencia para cada caso de uso específico en análisis de datos.\n",
    "\n",
    "### Método `astype()`:\n",
    "\n",
    "El método `astype()` te permite convertir el tipo de datos de una columna a otro tipo de datos especificado. Por ejemplo, puedes convertir una columna de tipo numérico a tipo cadena o viceversa. Aquí tienes un ejemplo:"
   ]
  },
  {
   "cell_type": "markdown",
   "metadata": {},
   "source": [
    "### Pruebas\n",
    "- El siguiente df tiene la serie peso como tipo Object, ya que hemos almacenado los pesos como str en el diccionario. Primero, checkeamos con dtypes el tipo de los datos de la serie!"
   ]
  },
  {
   "cell_type": "code",
   "execution_count": 77,
   "metadata": {},
   "outputs": [
    {
     "data": {
      "text/plain": [
       "Nombre      object\n",
       "Edad         int64\n",
       "Peso        object\n",
       "Estudios    object\n",
       "dtype: object"
      ]
     },
     "execution_count": 77,
     "metadata": {},
     "output_type": "execute_result"
    }
   ],
   "source": [
    "import pandas as pd\n",
    "\n",
    "# Seleccionar la primera fila y la segunda columna\n",
    "data = {\"Nombre\": [\"Sebas\",\"Antonio\", \"Dani\", \"Pepe\", \"Ana\", \"Desconocido\"],\n",
    "        \"Edad\": [25,25,28,28,28,28],\n",
    "        \"Peso\": [\"90\",\"90\",\"80\",\"47\",\"67\",\"68\"],\n",
    "        \"Estudios\": [\"GITT\",\"GITT\", \"GITI\", \"Física\",\"Mates\", \"Enfermera\"]\n",
    "        \n",
    "       }\n",
    "df = pd.DataFrame(data)\n",
    "\n",
    "df.dtypes\n"
   ]
  },
  {
   "cell_type": "markdown",
   "metadata": {},
   "source": [
    "- Si queremos cambiar el tipo de datos de esa serie, por ejemplo, a flaot, usamos el método astype."
   ]
  },
  {
   "cell_type": "code",
   "execution_count": 81,
   "metadata": {},
   "outputs": [
    {
     "data": {
      "text/plain": [
       "Nombre       object\n",
       "Edad          int64\n",
       "Peso        float64\n",
       "Estudios     object\n",
       "dtype: object"
      ]
     },
     "execution_count": 81,
     "metadata": {},
     "output_type": "execute_result"
    }
   ],
   "source": [
    "df[\"Peso\"] = df[\"Peso\"].astype(float)\n",
    "df.dtypes"
   ]
  },
  {
   "cell_type": "markdown",
   "metadata": {},
   "source": [
    "### Funciones de Conversión de Tipo de Datos:\n",
    "\n",
    "Pandas proporciona varias funciones específicas de conversión de tipo de datos, como `to_numeric()`, `to_datetime()`, `to_timedelta()`, etc. Estas funciones son útiles cuando necesitas realizar conversiones específicas de tipo de datos, como convertir una columna a valores numéricos, fechas o deltas de tiempo. \n",
    "- Podemos usar to_datetime() para ahorrarnos el astype... como quieras."
   ]
  },
  {
   "cell_type": "code",
   "execution_count": 93,
   "metadata": {},
   "outputs": [
    {
     "name": "stdout",
     "output_type": "stream",
     "text": [
      "Antes de usar pd.to_numeric....\n",
      " Nombre      object\n",
      "Edad         int64\n",
      "Peso        object\n",
      "Estudios    object\n",
      "dtype: object\n",
      "--------------------------------------------------\n",
      "Después de usarlo....\n"
     ]
    },
    {
     "data": {
      "text/plain": [
       "Nombre      object\n",
       "Edad         int64\n",
       "Peso         int64\n",
       "Estudios    object\n",
       "dtype: object"
      ]
     },
     "execution_count": 93,
     "metadata": {},
     "output_type": "execute_result"
    }
   ],
   "source": [
    "data = {\"Nombre\": [\"Sebas\",\"Antonio\", \"Dani\", \"Pepe\", \"Ana\", \"Desconocido\"],\n",
    "        \"Edad\": [25,25,28,28,28,28],\n",
    "        \"Peso\": [\"90\",\"90\",\"80\",\"47\",\"67\",\"68\"],\n",
    "        \"Estudios\": [\"GITT\",\"GITT\", \"GITI\", \"Física\",\"Mates\", \"Enfermera\"]\n",
    "        \n",
    "       }\n",
    "\n",
    "df = pd.DataFrame(data, [123,4556,667,788,678, 890])\n",
    "\n",
    "print(\"Antes de usar pd.to_numeric....\\n\", df.dtypes)\n",
    "df[\"Peso\"] = pd.to_numeric(df[\"Peso\"])\n",
    "print(\"-\"*50)\n",
    "print(\"Después de usarlo....\")\n",
    "df.dtypes\n",
    "\n",
    "\n",
    "\n"
   ]
  },
  {
   "cell_type": "markdown",
   "metadata": {},
   "source": [
    "### Nota:\n",
    "\n",
    "Cuando realizas conversiones de tipo de datos, es importante manejar los posibles errores de conversión. Por ejemplo, si intentas convertir una cadena que no puede ser convertida a un valor numérico, Pandas generará un error. Puedes manejar estos errores utilizando el parámetro `errors` en las funciones de conversión de tipo de datos."
   ]
  },
  {
   "cell_type": "markdown",
   "metadata": {},
   "source": [
    "# Manejo de Errores en la Conversión de Tipos de Datos en Pandas\n",
    "\n",
    "Cuando trabajas con conversión de tipos en pandas usando el método `astype()`, es posible que te encuentres con errores si la conversión no es posible. Pandas te permite especificar cómo deseas que se traten estos errores a través del parámetro `errors`. A continuación, se detallan las opciones disponibles y cómo funcionan.\n",
    "\n",
    "## Parámetro `errors` en `astype()`\n",
    "\n",
    "El método `astype()` se utiliza para convertir una Serie o columnas de un DataFrame a un tipo de dato especificado. Aquí están las opciones para el parámetro `errors`:\n",
    "\n",
    "1. **`raise`** (por defecto):\n",
    "   - Interrumpe la operación y lanza una excepción si ocurre un error durante la conversión.\n",
    "   - Útil cuando deseas asegurarte de que todos los datos se han convertido correctamente y ser notificado de cualquier problema.\n",
    "\n",
    "2. **`ignore`**:\n",
    "   - Si se encuentra un error durante la conversión, el error se ignora y se devuelve el objeto original sin cambios.\n",
    "   - Beneficioso si prefieres mantener los datos originales en caso de error en lugar de detener la ejecución.\n",
    "\n",
    "3. **`coerce`**:\n",
    "   - Forza la conversión y asigna `NaN` a los datos que no se pueden convertir.\n",
    "   - Especialmente útil cuando estás dispuesto a aceptar valores `NaN` para aquellos datos que no se puedan convertir apropiadamente.\n",
    "\n",
    "## Ejemplo Práctico\n",
    "\n",
    "Aquí te muestro cómo usar `astype()` con el parámetro `errors` para manejar diferentes situaciones:\n",
    "\n",
    "```python\n",
    "import pandas as pd\n",
    "import numpy as np\n",
    "\n",
    "# Crear un DataFrame de ejemplo\n",
    "df = pd.DataFrame({\n",
    "    'A': ['1', '2', 'three', '4', 'five']\n",
    "})\n",
    "\n",
    "# Intentar convertir a int con 'raise'\n",
    "try:\n",
    "    df['A'] = df['A'].astype(int)\n",
    "except ValueError as e:\n",
    "    print(f\"Error: {e}\")\n",
    "\n",
    "# Intentar convertir a int con 'ignore'\n",
    "df['B'] = df['A'].astype(int, errors='ignore')\n",
    "\n",
    "# Intentar convertir a int con 'coerce'\n",
    "df['C'] = df['A'].astype(int, errors='coerce')\n",
    "\n",
    "print(df)\n"
   ]
  },
  {
   "cell_type": "markdown",
   "metadata": {
    "tags": []
   },
   "source": [
    "# 7. Manejo de datos categóricos<a id=\"Datos-categóricos\"></a>"
   ]
  },
  {
   "cell_type": "markdown",
   "metadata": {},
   "source": [
    "En el análisis de datos, nos encontramos con diferentes tipos de variables, como numéricas, de texto y categóricas. Las variables categóricas son aquellas que representan una serie de categorías o clases discretas. Estas categorías pueden ser ordinales (con un orden específico) o nominales (sin un orden inherente). Pandas proporciona soporte para manejar eficientemente datos categóricos a través del tipo de datos `Categorical`.\n",
    "\n",
    "### ¿Qué son los Datos Categóricos?\n",
    "\n",
    "Los datos categóricos son aquellos que pueden ser divididos en categorías o clases únicas y discretas. Algunos ejemplos podrían ser: \n",
    "- El tipo de sangre (A, B, AB, O)\n",
    "- Sexo (hombre, mujer)\n",
    "- Nivel educativo (primaria, secundaria, universidad)\n",
    "\n",
    "Estas variables no tienen un valor numérico intrínseco, sino que representan una clasificación o etiqueta.\n",
    "\n",
    "### Ventajas del Uso de Datos Categóricos\n",
    "\n",
    "1. **Eficiencia en el uso de memoria:** El almacenamiento de datos categóricos puede ser más eficiente en términos de memoria que el almacenamiento de texto o numérico, especialmente cuando hay un número limitado de categorías distintas.\n",
    "  \n",
    "2. **Facilidad en el análisis:** Al representar las categorías de manera explícita, facilita la comprensión y el análisis de los datos.\n",
    "\n",
    "3. **Mejora en el rendimiento:** Al utilizar datos categóricos en operaciones analíticas y de modelado, Pandas puede ofrecer mejoras en el rendimiento en comparación con el uso de texto o valores numéricos.\n",
    "\n",
    "### Manipulación de Datos Categóricos en Pandas\n",
    "\n",
    "Pandas proporciona el tipo de datos `Categorical` para manejar datos categóricos. Al convertir columnas a datos categóricos, se pueden realizar operaciones específicas, como ordenar por el orden de las categorías o realizar operaciones de agrupamiento basadas en ellas. Además, Pandas ofrece métodos específicos para trabajar con datos categóricos, como la visualización de las categorías únicas y la frecuencia de cada categoría.\n",
    "\n"
   ]
  },
  {
   "cell_type": "code",
   "execution_count": 97,
   "metadata": {},
   "outputs": [
    {
     "data": {
      "text/plain": [
       "Nombre       object\n",
       "Trabajo      object\n",
       "Sangre     category\n",
       "Edad          int64\n",
       "dtype: object"
      ]
     },
     "execution_count": 97,
     "metadata": {},
     "output_type": "execute_result"
    }
   ],
   "source": [
    "import pandas as pd\n",
    "\n",
    "data = {\"Nombre\": [\"Antonio\", \"Dani\", \"Ana\", \"Pepe\", \"Jose\"], \n",
    "        \"Trabajo\" : [\"Profe\", \"Consultor\", \"Matrona\", \"Ing\", \"Abogado\"],\n",
    "        \"Sangre\": [\"A\", \"B\", \"AB\", \"A+\",\"B\"],\n",
    "        \"Edad\": [26,25,25,25,26]}\n",
    "\n",
    "df = pd.DataFrame(data, [1,2,3,4,5])\n",
    "df[\"Sangre\"] = df[\"Sangre\"].astype(\"category\")\n",
    "df.dtypes\n",
    "        \n",
    "        "
   ]
  },
  {
   "cell_type": "code",
   "execution_count": 100,
   "metadata": {},
   "outputs": [
    {
     "name": "stdout",
     "output_type": "stream",
     "text": [
      "Categorias: Index(['A', 'A+', 'AB', 'B'], dtype='object')\n",
      "--------------------------------------------------\n",
      "Sangre\n",
      "B     2\n",
      "A     1\n",
      "A+    1\n",
      "AB    1\n",
      "Name: count, dtype: int64\n"
     ]
    }
   ],
   "source": [
    "print(\"Categorias:\", df[\"Sangre\"].cat.categories)\n",
    "print(\"-\"*50)\n",
    "print(df[\"Sangre\"].value_counts())\n"
   ]
  },
  {
   "cell_type": "markdown",
   "metadata": {
    "tags": []
   },
   "source": [
    "# 8. Fechas y tiempo<a id=\"Fechas-tiempo\"></a>"
   ]
  },
  {
   "cell_type": "markdown",
   "metadata": {},
   "source": [
    "Trabajar con fechas y tiempos en Pandas es esencial para muchas tareas de análisis de datos, especialmente cuando se trata de datos temporales o series de tiempo. Pandas proporciona funcionalidades robustas para manejar fechas y tiempos, lo que facilita su manipulación, análisis y visualización.\n",
    "\n",
    "### Creación de Fechas y Tiempos:\n",
    "\n",
    "Pandas proporciona objetos de fecha y tiempo, como `Timestamp` y `DatetimeIndex`, que te permiten representar y trabajar con fechas y tiempos de manera eficiente. Puedes crear estas estructuras de datos de varias maneras, como utilizando la función `pd.to_datetime()` o la función `pd.date_range()`. Por ejemplo:"
   ]
  },
  {
   "cell_type": "code",
   "execution_count": 103,
   "metadata": {},
   "outputs": [
    {
     "name": "stdout",
     "output_type": "stream",
     "text": [
      "Timestamp: 2022-03-17 12:30:00\n",
      "Rango de fechas:\n",
      "DatetimeIndex(['2022-01-01', '2022-01-02', '2022-01-03', '2022-01-04',\n",
      "               '2022-01-05', '2022-01-06', '2022-01-07', '2022-01-08',\n",
      "               '2022-01-09', '2022-01-10'],\n",
      "              dtype='datetime64[ns]', freq='D')\n"
     ]
    }
   ],
   "source": [
    "import pandas as pd\n",
    "\n",
    "# Crear un objeto Timestamp\n",
    "fecha = pd.Timestamp('2022-03-17 12:30:00')\n",
    "print(\"Timestamp:\", fecha)\n",
    "\n",
    "# Crear un rango de fechas\n",
    "rango_fechas = pd.date_range(start='2022-01-01', end='2022-01-10')\n",
    "print(\"Rango de fechas:\")\n",
    "print(rango_fechas)\n"
   ]
  },
  {
   "cell_type": "markdown",
   "metadata": {},
   "source": [
    "### Indexación Temporal:\n",
    "\n",
    "Puedes utilizar objetos de fecha y tiempo como índices en tus DataFrames, lo que facilita la manipulación y selección de datos basados en fechas y tiempos. Esto se puede lograr estableciendo el índice del DataFrame como un objeto `DatetimeIndex`. Por ejemplo:"
   ]
  },
  {
   "cell_type": "code",
   "execution_count": 104,
   "metadata": {},
   "outputs": [
    {
     "name": "stdout",
     "output_type": "stream",
     "text": [
      "DataFrame con índice de fechas:\n",
      "            Valores\n",
      "2022-01-01        1\n",
      "2022-01-02        2\n",
      "2022-01-03        3\n",
      "2022-01-04        4\n",
      "2022-01-05        5\n",
      "2022-01-06        6\n",
      "2022-01-07        7\n",
      "2022-01-08        8\n",
      "2022-01-09        9\n",
      "2022-01-10       10\n",
      "Datos para una fecha específica:\n",
      "Valores    3\n",
      "Name: 2022-01-03 00:00:00, dtype: int64\n"
     ]
    }
   ],
   "source": [
    "# Crear un DataFrame con un índice de fechas\n",
    "data = {'Valores': [1, 2, 3, 4, 5, 6, 7, 8, 9, 10]}\n",
    "df = pd.DataFrame(data, index=rango_fechas)\n",
    "print(\"DataFrame con índice de fechas:\")\n",
    "print(df)\n",
    "\n",
    "# Seleccionar datos para una fecha específica\n",
    "print(\"Datos para una fecha específica:\")\n",
    "print(df.loc['2022-01-03'])"
   ]
  },
  {
   "cell_type": "markdown",
   "metadata": {},
   "source": [
    "### Funcionalidades Temporales:\n",
    "\n",
    "Pandas ofrece una variedad de funcionalidades para trabajar con fechas y tiempos, como la conversión entre zonas horarias, el desplazamiento de fechas, el redondeo de fechas y la resampling de series de tiempo. Por ejemplo:"
   ]
  },
  {
   "cell_type": "code",
   "execution_count": 9,
   "metadata": {},
   "outputs": [],
   "source": [
    "# Convertir a una zona horaria específica\n",
    "df = df.tz_localize('UTC').tz_convert('America/New_York')\n",
    "\n",
    "# Desplazar fechas hacia adelante o hacia atrás\n",
    "df.index = df.index.shift(1, freq='D')\n",
    "\n",
    "# Redondear fechas a intervalos específicos\n",
    "df.index = df.index.round('H')\n",
    "\n",
    "# Resampling de series de tiempo\n",
    "df_resampled = df.resample('D').mean()\n"
   ]
  },
  {
   "cell_type": "markdown",
   "metadata": {},
   "source": [
    "El manejo y la conversión de datos temporales en Pandas son operaciones comunes en el análisis de datos, especialmente cuando trabajas con series de tiempo o conjuntos de datos que contienen información de fecha y hora. \n",
    "\n",
    "### Conversión de Datos Temporales:\n",
    "\n",
    "Puedes convertir datos temporales a objetos de fecha y tiempo en Pandas utilizando la función `pd.to_datetime()`. Esta función puede manejar una variedad de formatos de fecha y hora, incluidos formatos de cadena, enteros, flotantes y objetos de fecha y hora de Python. Por ejemplo:"
   ]
  },
  {
   "cell_type": "code",
   "execution_count": 274,
   "metadata": {},
   "outputs": [
    {
     "name": "stdout",
     "output_type": "stream",
     "text": [
      "Fecha convertida: 2022-03-17 00:00:00\n",
      "Fechas convertidas:\n",
      "DatetimeIndex(['2022-01-01', '2022-01-02', '2022-01-03'], dtype='datetime64[ns]', freq=None)\n"
     ]
    }
   ],
   "source": [
    "import pandas as pd\n",
    "\n",
    "# Convertir una cadena de fecha a objeto Timestamp\n",
    "fecha = pd.to_datetime('2022-03-17')\n",
    "print(\"Fecha convertida:\", fecha)\n",
    "\n",
    "# Convertir una lista de fechas a objeto DatetimeIndex\n",
    "fechas = ['2022-01-01', '2022-01-02', '2022-01-03']\n",
    "indices = pd.to_datetime(fechas)\n",
    "print(\"Fechas convertidas:\")\n",
    "print(indices)"
   ]
  },
  {
   "cell_type": "markdown",
   "metadata": {},
   "source": [
    "### Manipulación de Datos Temporales:\n",
    "\n",
    "Una vez que tienes objetos de fecha y tiempo en Pandas, puedes manipularlos de varias maneras. Algunas operaciones comunes incluyen la extracción de componentes de fecha y hora, el cálculo de diferencias de tiempo y el desplazamiento de fechas hacia adelante o hacia atrás. Por ejemplo:"
   ]
  },
  {
   "cell_type": "code",
   "execution_count": 11,
   "metadata": {},
   "outputs": [
    {
     "name": "stdout",
     "output_type": "stream",
     "text": [
      "Año: 2022\n",
      "Mes: 3\n",
      "Día: 17\n",
      "Diferencia de días: 75\n",
      "Nueva fecha: 2022-03-24 00:00:00\n"
     ]
    }
   ],
   "source": [
    "# Extraer el año, mes y día de una fecha\n",
    "print(\"Año:\", fecha.year)\n",
    "print(\"Mes:\", fecha.month)\n",
    "print(\"Día:\", fecha.day)\n",
    "\n",
    "# Calcular la diferencia entre dos fechas\n",
    "diferencia = fecha - pd.to_datetime('2022-01-01')\n",
    "print(\"Diferencia de días:\", diferencia.days)\n",
    "\n",
    "# Desplazar una fecha hacia adelante o hacia atrás\n",
    "nueva_fecha = fecha + pd.Timedelta(days=7)\n",
    "print(\"Nueva fecha:\", nueva_fecha)"
   ]
  },
  {
   "cell_type": "markdown",
   "metadata": {},
   "source": [
    "### Formateo de Datos Temporales:\n",
    "\n",
    "Pandas también te permite formatear datos temporales en diferentes formatos utilizando el método `strftime()` (string format time). Este método te permite especificar el formato de salida deseado para la representación de fechas y horas. Por ejemplo:"
   ]
  },
  {
   "cell_type": "code",
   "execution_count": 108,
   "metadata": {},
   "outputs": [
    {
     "name": "stdout",
     "output_type": "stream",
     "text": [
      "Fecha formateada: 17/03/2022\n",
      "Fecha formateada: 03 17, 2022\n"
     ]
    }
   ],
   "source": [
    "# Formatear la fecha en formato dd/mm/aaaa\n",
    "print(\"Fecha formateada:\", fecha.strftime(\"%d/%m/%Y\"))\n",
    "\n",
    "# Formatear la fecha en formato mes/día/año abreviado\n",
    "print(\"Fecha formateada:\", fecha.strftime(\"%m %d, %Y\"))\n"
   ]
  }
 ],
 "metadata": {
  "kernelspec": {
   "display_name": "Python 3",
   "language": "python",
   "name": "python3"
  },
  "language_info": {
   "codemirror_mode": {
    "name": "ipython",
    "version": 3
   },
   "file_extension": ".py",
   "mimetype": "text/x-python",
   "name": "python",
   "nbconvert_exporter": "python",
   "pygments_lexer": "ipython3",
   "version": "3.8.5"
  }
 },
 "nbformat": 4,
 "nbformat_minor": 5
}
