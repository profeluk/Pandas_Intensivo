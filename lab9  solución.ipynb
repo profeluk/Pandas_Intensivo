{
 "cells": [
  {
   "cell_type": "markdown",
   "metadata": {},
   "source": [
    "# Exercise 1: Handling missing values\n",
    "\n",
    "Considera el siguiente df"
   ]
  },
  {
   "cell_type": "markdown",
   "metadata": {},
   "source": [
    "Realiza las siguientes operaciones en este dataframe:\n",
    "\n",
    "**Identificar valores nulos**\n",
    "\n",
    "1. Indica si algún elemento dentro del df es un valor nulo.\n",
    "2. Indica qué columnas tienen valores nulos.\n",
    "3. Cuenta el número de valores faltantes en cada columna.\n",
    "4. Muestra las filas que contienen valores nulos.\n",
    "\n",
    "**Eliminar valores nulos**\n",
    "\n",
    "5. Elimina las filas que contienen al menos un valor nulo.\n",
    "6. Elimina las filas con valores nulos en la columna de Equipo o en la columna de Salario.\n",
    "7. Elimina las filas que no contienen al menos dos valores no nulos.\n",
    "\n",
    "**Rellenar valores nulos**\n",
    "\n",
    "8. Reemplaza los valores nulos de la columna de Equipo con \"DISPONIBLE\". Realiza los cambios en el lugar (modificando el dataframe original).\n",
    "9. Reemplaza los valores nulos de la columna de Salario con el mínimo de los salarios existentes. Realiza los cambios en el lugar.\n",
    "10. Rellena las alturas faltantes propagando la última observación válida hacia adelante.\n"
   ]
  },
  {
   "cell_type": "markdown",
   "metadata": {},
   "source": [
    "### Valores nulos"
   ]
  },
  {
   "cell_type": "markdown",
   "metadata": {},
   "source": [
    "### 1. Indica si algún elemento dentro del df es un valor nulo.\n"
   ]
  },
  {
   "cell_type": "markdown",
   "metadata": {},
   "source": [
    "### 2. Indica qué columnas tienen valores nulos.\n"
   ]
  },
  {
   "cell_type": "markdown",
   "metadata": {},
   "source": [
    "- Si en el any no pongo axis, la reducción se hace a través del ejer vertical, de la serie!"
   ]
  },
  {
   "cell_type": "markdown",
   "metadata": {},
   "source": [
    "### 3. Cuenta el número de valores faltantes en cada columna.\n"
   ]
  },
  {
   "cell_type": "markdown",
   "metadata": {},
   "source": [
    "### 4. Muestra las filas que contienen valores nulos.\n"
   ]
  },
  {
   "cell_type": "markdown",
   "metadata": {},
   "source": [
    "### Estoy obteniendo una serie booleana que me permite hacer filtros despues....\n",
    "- Esto siempre es igual!!"
   ]
  },
  {
   "cell_type": "markdown",
   "metadata": {},
   "source": [
    "\n",
    "### 5. Elimina las filas que contienen al menos un valor nulo.\n",
    "- El dropna rompe todo lo que tenga valores nulos!!"
   ]
  },
  {
   "cell_type": "markdown",
   "metadata": {},
   "source": [
    "### 6. Elimina las filas con valores nulos en la columna de Equipo o en la columna de Salario.\n",
    "- Recordamos que podíamos pasar una lista con las columnas donde queremos que mire, usando el subset!"
   ]
  },
  {
   "cell_type": "markdown",
   "metadata": {},
   "source": [
    "### 7. Elimina las filas que no contienen al menos dos valores no nulos.\n",
    "### ¡¡thresh!!\n",
    "- Con el argumento thresh podemos controlar a partir de cuantos valores nulos queremos que elimine."
   ]
  },
  {
   "cell_type": "markdown",
   "metadata": {},
   "source": [
    "### 8. Reemplaza los valores nulos de la columna de Equipo con \"DISPONIBLE\". Realiza los cambios en el lugar (modificando el dataframe original).\n",
    "- Como tengo que modificar el df original, hago inplace. "
   ]
  },
  {
   "cell_type": "markdown",
   "metadata": {},
   "source": [
    "### 9. Reemplaza los valores nulos de la columna de Salario con el mínimo de los salarios existentes. Realiza los cambios en el lugar."
   ]
  },
  {
   "cell_type": "markdown",
   "metadata": {},
   "source": [
    "### 10. Rellena las alturas que faltan propagando hacia adelante la última observación válida\n",
    "### Métodos `ffill` y `bfill` de `fillna()` en Pandas\n",
    "\n",
    "El método `fillna()` en pandas es fundamental para gestionar valores `NaN` (Not a Number) en DataFrames y Series. Entre las opciones que ofrece, `ffill` y `bfill` son particularmente útiles para rellenar datos faltantes mediante la propagación de valores válidos. Aquí te explico cómo funcionan estos dos métodos:\n",
    "\n",
    "### Método `ffill` (forward fill)\n",
    "\n",
    "- **Descripción**: Propaga la última observación válida hacia adelante para rellenar los valores `NaN`.\n",
    "- **Uso típico**: Ideal cuando los datos tienen una secuencia lógica o temporal y se desea utilizar el último valor conocido para llenar un hueco.\n",
    "- **Ejemplo de uso**:\n",
    "  ```python\n",
    "  df.fillna(method='ffill')\n"
   ]
  },
  {
   "cell_type": "code",
   "execution_count": null,
   "metadata": {},
   "outputs": [],
   "source": [
    "df.fillna(method='ffill')  # Rellena los NaN con el valor anterior en la columna\n",
    "df.fillna(method='bfill')  # Rellena los NaN con el siguiente valor en la columna\n"
   ]
  },
  {
   "cell_type": "markdown",
   "metadata": {},
   "source": [
    "# Ejercicio 2\n",
    "\n"
   ]
  },
  {
   "cell_type": "markdown",
   "metadata": {},
   "source": [
    "Utiliza el siguiente diccionario para el ejercicio"
   ]
  },
  {
   "cell_type": "code",
   "execution_count": 150,
   "metadata": {
    "scrolled": true
   },
   "outputs": [
    {
     "data": {
      "text/html": [
       "<div>\n",
       "<style scoped>\n",
       "    .dataframe tbody tr th:only-of-type {\n",
       "        vertical-align: middle;\n",
       "    }\n",
       "\n",
       "    .dataframe tbody tr th {\n",
       "        vertical-align: top;\n",
       "    }\n",
       "\n",
       "    .dataframe thead th {\n",
       "        text-align: right;\n",
       "    }\n",
       "</style>\n",
       "<table border=\"1\" class=\"dataframe\">\n",
       "  <thead>\n",
       "    <tr style=\"text-align: right;\">\n",
       "      <th></th>\n",
       "      <th>Character</th>\n",
       "      <th>Race</th>\n",
       "      <th>Class</th>\n",
       "      <th>Strength</th>\n",
       "      <th>Dexterity</th>\n",
       "      <th>Constitution</th>\n",
       "      <th>Intelligence</th>\n",
       "      <th>Wisdom</th>\n",
       "      <th>Charisma</th>\n",
       "    </tr>\n",
       "  </thead>\n",
       "  <tbody>\n",
       "    <tr>\n",
       "      <th>0</th>\n",
       "      <td>Gandalf</td>\n",
       "      <td>Maia</td>\n",
       "      <td>Wizard</td>\n",
       "      <td>8</td>\n",
       "      <td>5</td>\n",
       "      <td>6</td>\n",
       "      <td>10</td>\n",
       "      <td>9</td>\n",
       "      <td>7</td>\n",
       "    </tr>\n",
       "    <tr>\n",
       "      <th>1</th>\n",
       "      <td>Frodo</td>\n",
       "      <td>Hobbit</td>\n",
       "      <td>Thief</td>\n",
       "      <td>3</td>\n",
       "      <td>8</td>\n",
       "      <td>4</td>\n",
       "      <td>6</td>\n",
       "      <td>6</td>\n",
       "      <td>5</td>\n",
       "    </tr>\n",
       "    <tr>\n",
       "      <th>2</th>\n",
       "      <td>Aragorn</td>\n",
       "      <td>Human</td>\n",
       "      <td>Ranger</td>\n",
       "      <td>7</td>\n",
       "      <td>7</td>\n",
       "      <td>8</td>\n",
       "      <td>5</td>\n",
       "      <td>7</td>\n",
       "      <td>8</td>\n",
       "    </tr>\n",
       "    <tr>\n",
       "      <th>3</th>\n",
       "      <td>Legolas</td>\n",
       "      <td>Elf</td>\n",
       "      <td>Archer</td>\n",
       "      <td>5</td>\n",
       "      <td>10</td>\n",
       "      <td>5</td>\n",
       "      <td>4</td>\n",
       "      <td>8</td>\n",
       "      <td>6</td>\n",
       "    </tr>\n",
       "    <tr>\n",
       "      <th>4</th>\n",
       "      <td>Gimli</td>\n",
       "      <td>Dwarf</td>\n",
       "      <td>Warrior</td>\n",
       "      <td>9</td>\n",
       "      <td>3</td>\n",
       "      <td>9</td>\n",
       "      <td>3</td>\n",
       "      <td>4</td>\n",
       "      <td>3</td>\n",
       "    </tr>\n",
       "  </tbody>\n",
       "</table>\n",
       "</div>"
      ],
      "text/plain": [
       "  Character    Race    Class  Strength  Dexterity  Constitution  Intelligence  \\\n",
       "0   Gandalf    Maia   Wizard         8          5             6            10   \n",
       "1     Frodo  Hobbit    Thief         3          8             4             6   \n",
       "2   Aragorn   Human   Ranger         7          7             8             5   \n",
       "3   Legolas     Elf   Archer         5         10             5             4   \n",
       "4     Gimli   Dwarf  Warrior         9          3             9             3   \n",
       "\n",
       "   Wisdom  Charisma  \n",
       "0       9         7  \n",
       "1       6         5  \n",
       "2       7         8  \n",
       "3       8         6  \n",
       "4       4         3  "
      ]
     },
     "execution_count": 150,
     "metadata": {},
     "output_type": "execute_result"
    }
   ],
   "source": [
    "import pandas as pd\n",
    "\n",
    "data = {\n",
    "    'Character': ['Gandalf', 'Frodo', 'Aragorn', 'Legolas', 'Gimli', 'Galadriel', 'Gollum', 'Sauron', 'Bilbo', 'Samwise',\n",
    "                  'Aragorn', 'Legolas', 'Gimli', 'Galadriel', 'Gollum', 'Sauron', 'Bilbo', 'Samwise', 'Arwen', 'Faramir',\n",
    "                  'Gandalf', 'Frodo', 'Gandalf', 'Frodo', 'Arwen', 'Faramir', 'Eowyn', 'Boromir', 'Meriadoc', 'Peregrin',\n",
    "                  'Elrond', 'Theoden', 'Gimli', 'Legolas'],\n",
    "    'Race': ['Maia', 'Hobbit', 'Human', 'Elf', 'Dwarf', 'Elf', 'Hobbit', 'Maia', 'Hobbit', 'Hobbit',\n",
    "             'Human', 'Elf', 'Dwarf', 'Elf', 'Hobbit', 'Maia', 'Hobbit', 'Hobbit', 'Elf', 'Human',\n",
    "             'Maia', 'Hobbit', 'Maia', 'Hobbit', 'Elf', 'Human', 'Human', 'Human', 'Hobbit', 'Hobbit',\n",
    "             'Elf', 'Human', 'Dwarf', 'Elf'],\n",
    "    'Class': ['Wizard', 'Thief', 'Ranger', 'Archer', 'Warrior', 'Sorceress', 'Thief', 'Dark Lord', 'Thief', 'Gardener',\n",
    "              'Ranger', 'Archer', 'Warrior', 'Sorceress', 'Thief', 'Dark Lord', 'Thief', 'Gardener', 'Princess', 'Captain',\n",
    "              'Wizard', 'Thief', 'Wizard', 'Thief', 'Princess', 'Captain', 'Shieldmaiden', 'Captain', 'Knight', 'Squire',\n",
    "              'Lord', 'King', 'Warrior', 'Archer'],\n",
    "    'Strength': [8, 3, 7, 5, 9, 4, 6, 10, 3, 5,\n",
    "                 7, 5, 9, 4, 6, 10, 3, 5, 4, 6,\n",
    "                 8, 3, 8, 3, 4, 6, 7, 8, 5, 4,\n",
    "                 7, 8, 9, 5],\n",
    "    'Dexterity': [5, 8, 7, 10, 3, 7, 9, 8, 6, 7,\n",
    "                  7, 10, 3, 7, 9, 8, 6, 7, 8, 6,\n",
    "                  7, 8, 5, 8, 8, 7, 9, 6, 7, 8,\n",
    "                  7, 9, 6, 10],\n",
    "    'Constitution': [6, 4, 8, 5, 9, 5, 6, 10, 4, 8,\n",
    "                     8, 5, 9, 5, 6, 10, 4, 8, 5, 7,\n",
    "                     8, 6, 6, 4, 5, 7, 8, 9, 6, 5,\n",
    "                     8, 7, 9, 5],\n",
    "    'Intelligence': [10, 6, 5, 4, 3, 9, 7, 10, 6, 5,\n",
    "                     5, 4, 3, 9, 7, 10, 6, 5, 9, 8,\n",
    "                     10, 6, 10, 6, 9, 8, 6, 7, 5, 6,\n",
    "                     8, 7, 3, 10],\n",
    "    'Wisdom': [9, 6, 7, 8, 4, 10, 5, 10, 7, 6,\n",
    "               8, 9, 7, 6, 8, 7, 9, 8, 5, 8,\n",
    "               9, 6, 9, 6, 8, 9, 7, 6, 8, 7,\n",
    "               9, 8, 5, 8],\n",
    "    'Charisma': [7, 5, 8, 6, 3, 8, 3, 9, 5, 8,\n",
    "                 8, 6, 8, 8, 7, 8, 9, 7, 3, 9,\n",
    "                 7, 5, 7, 5, 8, 6, 8, 8, 7, 8,\n",
    "                 9, 7, 3, 9]\n",
    "}\n",
    "\n",
    "\n",
    "df = pd.DataFrame(data)\n",
    "df.head()"
   ]
  },
  {
   "cell_type": "markdown",
   "metadata": {},
   "source": [
    "# Realiza las siguientes operaciones en el dataframe:\n",
    "\n",
    "**Establecer índices, eliminar componentes y renombrar componentes**\n",
    "\n",
    "1. Establece la columna 'Character' como el índice del dataframe.\n",
    "2. Renombra el índice 'Gandalf' a 'Mithrandir'.\n",
    "3. Elimina la columna 'Strength' del dataframe.\n",
    "4. Renombra la columna 'Class' a 'Occupation'.\n",
    "5. Restablece el índice del dataframe a sus valores predeterminados (enteros).\n"
   ]
  },
  {
   "cell_type": "markdown",
   "metadata": {},
   "source": [
    "### 1. Establece la columna 'Character' como el índice del dataframe."
   ]
  },
  {
   "cell_type": "markdown",
   "metadata": {},
   "source": [
    "### 2. Renombra el índice 'Gandalf' a 'Mithrandir'.\n",
    "- Para renombrar, usamos el método rename y debemos especificar si quueremos renombrar un índice (fila) o una columna.."
   ]
  },
  {
   "cell_type": "markdown",
   "metadata": {},
   "source": [
    "### 3. Elimina la columna 'Strength' del dataframe."
   ]
  },
  {
   "cell_type": "markdown",
   "metadata": {},
   "source": [
    "### 4. Renombra la columna 'Class' a 'Occupation'."
   ]
  },
  {
   "cell_type": "markdown",
   "metadata": {},
   "source": [
    "### 5. Restablece el índice del dataframe a sus valores predeterminados (enteros)."
   ]
  },
  {
   "cell_type": "markdown",
   "metadata": {},
   "source": [
    "\n",
    "# Ejercicio 3: ordenación, manejo de duplicados, filtrado y edición de datos\n",
    "\n",
    "Organicemos un poco más nuestros datos de _El Señor de los Anillos_.\n",
    "\n",
    "### Ordenación\n",
    "\n",
    "1. Ordena el dataframe por la columna 'Character'.\n",
    "2. Aplica ordenación por 'Character' en orden inverso.\n",
    "3. Ordena por orden ascendente de 'Charisma' y orden descendente de 'Wisdom'.\n",
    "\n",
    "### Eliminar duplicados\n",
    "\n",
    "4. Verifica si hay registros duplicados, usando `any()`. Considera solo la columna 'Character' para identificar duplicados.\n",
    "5. Elimina las filas duplicadas basadas en la columna 'Character'. Conserva las últimas ocurrencias de los duplicados.\n",
    "\n",
    "### Aplicando filtros\n",
    "\n",
    "6. Aplica un filtro basado en 'Intelligence' mayor que 7.\n",
    "7. Aplica un filtro basado en 'Intelligence' mayor que 5 y 'Race' igual a 'Hobbit'.\n",
    "8. Aplica un filtro usando `.isin()` para 'Race' siendo 'Hobbit' o 'Elf'.\n",
    "9. Aplica un filtro usando `.between()` para 'Dexterity' entre 5 y 8.\n",
    "\n",
    "### Agregar/Editar datos\n",
    "\n",
    "10. Añade una nueva columna llamada 'Elite' que marca a los personajes con 'Wisdom' mayor que 8 y 'Dexterity' mayor que 6. Si un personaje cumple ambas condiciones, el valor correspondiente en esta columna debería ser `True`, de lo contrario, `False`.\n",
    "11. Modifica el contenido del registro 22 asignando nueva información. Específicamente, renombra el personaje de vuelta a 'Gandalf', aumenta su nivel de 'Dexterity' a 8 y cambia su estado 'Elite' a `True`.\n",
    "12. Verifica el tipo de dato de 'Dexterity', confirma que es `int`. Luego, conviértelo a tipo float.\n"
   ]
  },
  {
   "cell_type": "markdown",
   "metadata": {},
   "source": [
    "### Ordenación \n",
    "1. Ordena el dataframe por la columna 'Character'.\n",
    "2. Aplica ordenación por 'Character' en orden inverso.\n",
    "3. Ordena por orden ascendente de 'Charisma' y orden descendente de 'Wisdom'."
   ]
  },
  {
   "cell_type": "markdown",
   "metadata": {},
   "source": [
    "### 1. Ordena el dataframe por la columna 'Character'."
   ]
  },
  {
   "cell_type": "markdown",
   "metadata": {},
   "source": [
    "### 2. Aplica ordenación por 'Character' en orden inverso."
   ]
  },
  {
   "cell_type": "code",
   "execution_count": null,
   "metadata": {},
   "outputs": [],
   "source": []
  },
  {
   "cell_type": "markdown",
   "metadata": {},
   "source": [
    "### 3. Ordena por orden ascendente de 'Charisma' y orden descendente de 'Wisdom'."
   ]
  },
  {
   "cell_type": "markdown",
   "metadata": {},
   "source": [
    "-  Utilizamos la notación de pasar listas al by y al ascending"
   ]
  },
  {
   "cell_type": "markdown",
   "metadata": {},
   "source": [
    "### Eliminar duplicados\n",
    "\n",
    "4. Verifica si hay registros duplicados, usando `any()`. Considera solo la columna 'Character' para identificar duplicados.\n",
    "5. Elimina las filas duplicadas basadas en la columna 'Character'. Conserva las últimas ocurrencias de los duplicados."
   ]
  },
  {
   "cell_type": "markdown",
   "metadata": {},
   "source": [
    "### 5. Elimina las filas duplicadas basadas en la columna 'Character'. Conserva las últimas ocurrencias de los duplicados.\n",
    "- Me están diciendo que utilice keep = \"last\""
   ]
  },
  {
   "cell_type": "markdown",
   "metadata": {},
   "source": [
    "### Aplicando filtros\n",
    "\n",
    "6. Aplica un filtro basado en 'Intelligence' mayor que 7.\n",
    "7. Aplica un filtro basado en 'Intelligence' mayor que 5 y 'Race' igual a 'Hobbit'.\n",
    "8. Aplica un filtro usando `.isin()` para 'Race' siendo 'Hobbit' o 'Elf'.\n",
    "9. Aplica un filtro usando `.between()` para 'Dexterity' entre 5 y 8.\n"
   ]
  },
  {
   "cell_type": "markdown",
   "metadata": {},
   "source": [
    "### 6. Aplica un filtro basado en 'Intelligence' mayor que 7."
   ]
  },
  {
   "cell_type": "markdown",
   "metadata": {},
   "source": [
    "### 7. Aplica un filtro basado en 'Intelligence' mayor que 5 y 'Race' igual a 'Hobbit'."
   ]
  },
  {
   "cell_type": "markdown",
   "metadata": {},
   "source": [
    "### 8. Aplica un filtro usando `.isin()` para 'Race' siendo 'Hobbit' o 'Elf'.\n",
    "- El is in lo que me devuelve es una serie booleana..."
   ]
  },
  {
   "cell_type": "markdown",
   "metadata": {},
   "source": [
    "#### Si hiciésemos lo mismo con un filtro normal.."
   ]
  },
  {
   "cell_type": "markdown",
   "metadata": {},
   "source": [
    "### 9. Aplica un filtro usando `.between()` para 'Dexterity' entre 5 y 8."
   ]
  },
  {
   "cell_type": "markdown",
   "metadata": {},
   "source": [
    "#### Usando un filtro normal..."
   ]
  },
  {
   "cell_type": "markdown",
   "metadata": {},
   "source": [
    "### Agregar/Editar datos\n",
    "\n",
    "- 10. Añade una nueva columna llamada 'Elite' que marca a los personajes con 'Wisdom' mayor que 8 y 'Dexterity' mayor que 6. Si un personaje cumple ambas condiciones, el valor correspondiente en esta columna debería ser `True`, de lo contrario, `False`.\n",
    "\n",
    "- 11. Modifica el contenido del registro 22 asignando nueva información. Específicamente, renombra el personaje de vuelta a 'Gandalf', aumenta su nivel de 'Dexterity' a 8 y cambia su estado 'Elite' a `True`.\n",
    "\n",
    "- 12. Verifica el tipo de dato de 'Dexterity', confirma que es `int`. Luego, conviértelo a tipo float."
   ]
  },
  {
   "cell_type": "markdown",
   "metadata": {},
   "source": [
    "### - 10. Añade una nueva columna llamada 'Elite' que marca a los personajes con 'Wisdom' mayor que 8 y 'Dexterity' mayor que 6. Si un personaje cumple ambas condiciones, el valor correspondiente en esta columna debería ser `True`, de lo contrario, `False`."
   ]
  },
  {
   "cell_type": "markdown",
   "metadata": {},
   "source": [
    "### 11. Modifica el contenido del registro 22 asignando nueva información. Específicamente, renombra el personaje de vuelta a 'Gandalf', aumenta su nivel de 'Dexterity' a 8 y cambia su estado 'Elite' a `True`.\n",
    "- Usamos el método loc..."
   ]
  },
  {
   "cell_type": "markdown",
   "metadata": {},
   "source": [
    "### - 12. Verifica el tipo de dato de 'Dexterity', confirma que es `int`. Luego, conviértelo a tipo float."
   ]
  },
  {
   "cell_type": "markdown",
   "metadata": {},
   "source": [
    "# Ejercicio 4: Trabajar con fechas y horas\n",
    "\n",
    "Finalmente, agreguemos algunas fechas de nacimiento para nuestros personajes y averigüemos información basada en ellas.\n",
    "\n",
    "1. Convierte las fechas de nacimiento en objetos `datetime`. Analiza las fechas inválidas usando `coerce`.\n",
    "2. Obtén la fecha actual, al día de hoy, usando `current_date = pd.Timestamp.now().date()`. Crea una nueva columna llamada 'Age' y almacena en ella la edad de cada personaje, en años.\n",
    "3. Usando el objeto `datetime` para el cumpleaños de Frodo, imprime su año de nacimiento, mes de nacimiento y día de nacimiento.\n"
   ]
  },
  {
   "cell_type": "code",
   "execution_count": 253,
   "metadata": {
    "scrolled": true
   },
   "outputs": [
    {
     "data": {
      "text/html": [
       "<div>\n",
       "<style scoped>\n",
       "    .dataframe tbody tr th:only-of-type {\n",
       "        vertical-align: middle;\n",
       "    }\n",
       "\n",
       "    .dataframe tbody tr th {\n",
       "        vertical-align: top;\n",
       "    }\n",
       "\n",
       "    .dataframe thead th {\n",
       "        text-align: right;\n",
       "    }\n",
       "</style>\n",
       "<table border=\"1\" class=\"dataframe\">\n",
       "  <thead>\n",
       "    <tr style=\"text-align: right;\">\n",
       "      <th></th>\n",
       "      <th>Character</th>\n",
       "      <th>Race</th>\n",
       "      <th>Class</th>\n",
       "      <th>Strength</th>\n",
       "      <th>Dexterity</th>\n",
       "      <th>Constitution</th>\n",
       "      <th>Intelligence</th>\n",
       "      <th>Wisdom</th>\n",
       "      <th>Charisma</th>\n",
       "      <th>Elite</th>\n",
       "      <th>Birthdate</th>\n",
       "    </tr>\n",
       "  </thead>\n",
       "  <tbody>\n",
       "    <tr>\n",
       "      <th>0</th>\n",
       "      <td>Gandalf</td>\n",
       "      <td>Maia</td>\n",
       "      <td>Wizard</td>\n",
       "      <td>8</td>\n",
       "      <td>5.0</td>\n",
       "      <td>6</td>\n",
       "      <td>10</td>\n",
       "      <td>9</td>\n",
       "      <td>7</td>\n",
       "      <td>False</td>\n",
       "      <td>September 22, 1968</td>\n",
       "    </tr>\n",
       "    <tr>\n",
       "      <th>1</th>\n",
       "      <td>Frodo</td>\n",
       "      <td>Hobbit</td>\n",
       "      <td>Thief</td>\n",
       "      <td>3</td>\n",
       "      <td>8.0</td>\n",
       "      <td>4</td>\n",
       "      <td>6</td>\n",
       "      <td>6</td>\n",
       "      <td>5</td>\n",
       "      <td>False</td>\n",
       "      <td>January 10, unknown</td>\n",
       "    </tr>\n",
       "    <tr>\n",
       "      <th>2</th>\n",
       "      <td>Aragorn</td>\n",
       "      <td>Human</td>\n",
       "      <td>Ranger</td>\n",
       "      <td>7</td>\n",
       "      <td>7.0</td>\n",
       "      <td>8</td>\n",
       "      <td>5</td>\n",
       "      <td>7</td>\n",
       "      <td>8</td>\n",
       "      <td>False</td>\n",
       "      <td>March 2, 1948</td>\n",
       "    </tr>\n",
       "    <tr>\n",
       "      <th>3</th>\n",
       "      <td>Legolas</td>\n",
       "      <td>Elf</td>\n",
       "      <td>Archer</td>\n",
       "      <td>5</td>\n",
       "      <td>10.0</td>\n",
       "      <td>5</td>\n",
       "      <td>4</td>\n",
       "      <td>8</td>\n",
       "      <td>6</td>\n",
       "      <td>False</td>\n",
       "      <td>November 24, 1982</td>\n",
       "    </tr>\n",
       "    <tr>\n",
       "      <th>4</th>\n",
       "      <td>Gimli</td>\n",
       "      <td>Dwarf</td>\n",
       "      <td>Warrior</td>\n",
       "      <td>9</td>\n",
       "      <td>3.0</td>\n",
       "      <td>9</td>\n",
       "      <td>3</td>\n",
       "      <td>4</td>\n",
       "      <td>3</td>\n",
       "      <td>False</td>\n",
       "      <td>July 1, 1430</td>\n",
       "    </tr>\n",
       "  </tbody>\n",
       "</table>\n",
       "</div>"
      ],
      "text/plain": [
       "  Character    Race    Class  Strength  Dexterity  Constitution  Intelligence  \\\n",
       "0   Gandalf    Maia   Wizard         8        5.0             6            10   \n",
       "1     Frodo  Hobbit    Thief         3        8.0             4             6   \n",
       "2   Aragorn   Human   Ranger         7        7.0             8             5   \n",
       "3   Legolas     Elf   Archer         5       10.0             5             4   \n",
       "4     Gimli   Dwarf  Warrior         9        3.0             9             3   \n",
       "\n",
       "   Wisdom  Charisma  Elite            Birthdate  \n",
       "0       9         7  False   September 22, 1968  \n",
       "1       6         5  False  January 10, unknown  \n",
       "2       7         8  False        March 2, 1948  \n",
       "3       8         6  False    November 24, 1982  \n",
       "4       4         3  False         July 1, 1430  "
      ]
     },
     "execution_count": 253,
     "metadata": {},
     "output_type": "execute_result"
    }
   ],
   "source": [
    "import datetime as dt\n",
    "\n",
    "birthdates = [\n",
    "    \"September 22, 1968\",\n",
    "    \"January 10, unknown\",\n",
    "    \"March 2, 1948\",\n",
    "    \"November 24, 1982\",\n",
    "    \"July 1, 1430\",\n",
    "    \"October 17, 1414\",\n",
    "    \"April 6, 1980\",\n",
    "    \"October 10, 1799\",\n",
    "    \"August 22, 1983\",\n",
    "    \"March 1, 1931\",\n",
    "    \"April 6, 1980\",\n",
    "    \"February 7\"\n",
    "    \"March 4, 1978\",\n",
    "    \"unknown\",\n",
    "    \"December 22, 1890\",\n",
    "    \"September 22, 1890\",\n",
    "    \"August 27, 1910\",\n",
    "    \"March 20, 1983\",\n",
    "    \"September 22, 1968\",\n",
    "    \"January 10,\"\n",
    "    \"March 2, 1948\",\n",
    "    \"November 24, 1982\",\n",
    "    \"July 1, 1430\",\n",
    "    \"October 17, 1414\",\n",
    "    \"April 6, 1980\",\n",
    "    \"October 10, 1799\",\n",
    "    \"August 22, 1983\",\n",
    "    \"March 1, 1931\",\n",
    "    \"April 6, 1980\",\n",
    "    \"February 7\",\n",
    "    \"unknown\",\n",
    "    \"March 4, 1978\",\n",
    "    \"unknown\",\n",
    "    \"December 22, 1890\",\n",
    "    \"December 22, 1890\",\n",
    "    \"December 22, 1890\",\n",
    "    \n",
    "]\n",
    "\n",
    "# Adding birthdates as a new column to the dataframe\n",
    "df['Birthdate'] = birthdates\n",
    "df.head()"
   ]
  },
  {
   "cell_type": "markdown",
   "metadata": {},
   "source": [
    "### 1. Convierte las fechas de nacimiento en objetos `datetime`. Analiza las fechas inválidas usando `coerce`.\n",
    "- Coerce va a poner a Nat las fechas q no puedan convertirse"
   ]
  },
  {
   "cell_type": "markdown",
   "metadata": {},
   "source": [
    "### 2. Obtén la fecha actual, al día de hoy, usando `current_date = pd.Timestamp.now().date()`. Crea una nueva columna llamada 'Age' y almacena en ella la edad de cada personaje, en años."
   ]
  },
  {
   "cell_type": "markdown",
   "metadata": {},
   "source": [
    "### 3. Usando el objeto `datetime` para el cumpleaños de Frodo, imprime su año de nacimiento, mes de nacimiento y día de nacimiento."
   ]
  }
 ],
 "metadata": {
  "kernelspec": {
   "display_name": "Python 3",
   "language": "python",
   "name": "python3"
  },
  "language_info": {
   "codemirror_mode": {
    "name": "ipython",
    "version": 3
   },
   "file_extension": ".py",
   "mimetype": "text/x-python",
   "name": "python",
   "nbconvert_exporter": "python",
   "pygments_lexer": "ipython3",
   "version": "3.8.5"
  }
 },
 "nbformat": 4,
 "nbformat_minor": 5
}
